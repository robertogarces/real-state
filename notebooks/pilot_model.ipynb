{
 "cells": [
  {
   "cell_type": "code",
   "execution_count": null,
   "metadata": {},
   "outputs": [],
   "source": [
    "import pandas as pd\n",
    "import numpy as np\n",
    "import matplotlib.pyplot as plt\n",
    "import sys\n",
    "\n",
    "from sklearn.pipeline import Pipeline\n",
    "from sklearn.preprocessing import FunctionTransformer\n",
    "from sklearn.model_selection import train_test_split\n",
    "\n",
    "import lightgbm as lgb\n",
    "\n",
    "\n",
    "sys.path.append('../')\n",
    "pd.set_option('display.max_columns', None)\n",
    "pd.set_option('display.float_format', '{:.3f}'.format)\n",
    "\n",
    "\n",
    "from config.paths import PROCESSED_DATA_PATH, CONFIG_PATH\n",
    "from utils.file_management import read_yaml"
   ]
  },
  {
   "cell_type": "code",
   "execution_count": null,
   "metadata": {},
   "outputs": [],
   "source": [
    "seed = 42"
   ]
  },
  {
   "cell_type": "code",
   "execution_count": null,
   "metadata": {},
   "outputs": [],
   "source": [
    "df = pd.read_parquet(f'{PROCESSED_DATA_PATH}/preprocessed_dataset.parquet')\n",
    "features = read_yaml(f'{CONFIG_PATH}/features.yaml')\n",
    "target = 'price' #features['target']"
   ]
  },
  {
   "cell_type": "markdown",
   "metadata": {},
   "source": [
    "# Train test split"
   ]
  },
  {
   "cell_type": "code",
   "execution_count": null,
   "metadata": {},
   "outputs": [],
   "source": [
    "pctg_train = 0.8\n",
    "n_train = int(len(df) * pctg_train)\n",
    "train_idx = df.sample(n=n_train, random_state=42).index\n",
    "train = df.loc[train_idx]\n",
    "test = df.loc[~df.index.isin(train_idx)]"
   ]
  },
  {
   "cell_type": "code",
   "execution_count": null,
   "metadata": {},
   "outputs": [],
   "source": [
    "def drop_features(df_):\n",
    "    cols_to_use = [target, 'id', 'city', 'county', 'lotAreaUnits', 'parking', 'garageSpaces', 'hasGarage', 'pool',\n",
    "                   'spa', 'homeType', 'livingAreaMts_log', 'yearBuilt', 'mapped_bathrooms', 'city_median_price',\n",
    "                   'city_mean_price', 'county_median_price', 'county_mean_price', 'bedrooms', 'levels',\n",
    "                   '5_knn_mean_price', '5_knn_median_price', '25_knn_mean_price', '25_knn_median_price']\n",
    "\n",
    "    # Filtrar las columnas que existen en el DataFrame\n",
    "    cols_to_use = [col for col in cols_to_use if col in df_.columns]\n",
    "\n",
    "    df_ = df_[cols_to_use]\n",
    "\n",
    "    return df_"
   ]
  },
  {
   "cell_type": "code",
   "execution_count": null,
   "metadata": {},
   "outputs": [],
   "source": [
    "def calculate_statistic(df, feature, statistic):\n",
    "    df[f'{feature}_{statistic}_price'] = df.groupby(feature)['price'].transform(statistic)\n",
    "    return df"
   ]
  },
  {
   "cell_type": "code",
   "execution_count": null,
   "metadata": {},
   "outputs": [],
   "source": [
    "import pandas as pd\n",
    "from sklearn.neighbors import BallTree\n",
    "\n",
    "def knn_property_price(df_, n_neighbors=3, statistic='mean'):\n",
    "\n",
    "    df_['latitude'] = df_['latitude'].astype(float)\n",
    "    df_['longitude'] = df_['longitude'].astype(float)\n",
    "\n",
    "    # Combina las coordenadas en una matriz\n",
    "    coords = df_[['latitude', 'longitude']].values\n",
    "\n",
    "    # Construye un árbol de bolas para buscar vecinos cercanos eficientemente\n",
    "    tree = BallTree(coords, leaf_size=15, metric='haversine')\n",
    "\n",
    "    # Para cada propiedad, encuentra los índices de las N propiedades más cercanas\n",
    "    _, indices = tree.query(coords, k=n_neighbors + 1)\n",
    "\n",
    "    # Calcula la estadística especificada de las propiedades cercanas para cada fila\n",
    "    if statistic == 'mean':\n",
    "        df_[f'{n_neighbors}_knn_{statistic}_price'] = [df_.iloc[idx]['price'][1:].astype(float).mean() for idx in indices]\n",
    "    elif statistic == 'median':\n",
    "        df_[f'{n_neighbors}_knn_{statistic}_price'] = [df_.iloc[idx]['price'][1:].astype(float).median() for idx in indices]\n",
    "    elif statistic == 'std':\n",
    "        df_[f'{n_neighbors}_knn_{statistic}_price'] = [df_.iloc[idx]['price'][1:].astype(float).std() for idx in indices]\n",
    "    # Puedes agregar más opciones según tus necesidades\n",
    "\n",
    "    return df_"
   ]
  },
  {
   "cell_type": "code",
   "execution_count": null,
   "metadata": {},
   "outputs": [],
   "source": [
    "def encode_categorical_variables(df):\n",
    "  \"\"\"\n",
    "  Encodes categorical variables in a dataset.\n",
    "\n",
    "  Args:\n",
    "    df: The dataset.\n",
    "\n",
    "  Returns:\n",
    "    The encoded dataset.\n",
    "  \"\"\"\n",
    "\n",
    "  # Get the categorical variables.\n",
    "  categorical_variables = [\n",
    "      var for var in df.columns if df[var].dtype.name == \"object\"\n",
    "  ]\n",
    "\n",
    "  # Encode the categorical variables.\n",
    "  for var in categorical_variables:\n",
    "    df[var] = df[var].astype(\"category\")\n",
    "    df[var] = df[var].cat.codes\n",
    "\n",
    "  return df\n"
   ]
  },
  {
   "cell_type": "code",
   "execution_count": null,
   "metadata": {},
   "outputs": [],
   "source": [
    "# Crear la transformación con FunctionTransformer\n",
    "city_median_price = FunctionTransformer(calculate_statistic, validate=False, kw_args={'feature': 'city', 'statistic': 'median'})\n",
    "city_mean_price = FunctionTransformer(calculate_statistic, validate=False, kw_args={'feature': 'city', 'statistic': 'mean'})\n",
    "county_median_price = FunctionTransformer(calculate_statistic, validate=False, kw_args={'feature': 'county', 'statistic': 'median'})\n",
    "county_mean_price = FunctionTransformer(calculate_statistic, validate=False, kw_args={'feature': 'county', 'statistic': 'mean'})\n",
    "_5_knn_median_price = FunctionTransformer(knn_property_price, validate=False, kw_args={'n_neighbors':5, 'statistic':'median'})\n",
    "_5_knn_mean_price = FunctionTransformer(knn_property_price, validate=False, kw_args={'n_neighbors':5, 'statistic':'mean'})\n",
    "_25_knn_median_price = FunctionTransformer(knn_property_price, validate=False, kw_args={'n_neighbors':25, 'statistic':'median'})\n",
    "_25_knn_mean_price = FunctionTransformer(knn_property_price, validate=False, kw_args={'n_neighbors':25, 'statistic':'mean'})\n",
    "encoding = FunctionTransformer(encode_categorical_variables, validate=False)\n",
    "drop_features = FunctionTransformer(drop_features, validate=False)\n",
    "\n",
    "\n",
    "# Definir la pipeline\n",
    "pipeline = Pipeline([\n",
    "    ('city_median_price', city_median_price),\n",
    "    ('city_mean_price', city_mean_price),\n",
    "    ('county_median_price', county_median_price),\n",
    "    ('county_mean_price', county_mean_price),\n",
    "    ('5_knn_median_price', _5_knn_median_price),\n",
    "    ('5_knn_mean_price', _5_knn_mean_price),\n",
    "    ('25_knn_median_price', _25_knn_median_price),\n",
    "    ('25_knn_mean_price', _25_knn_mean_price),\n",
    "    ('encoding', encoding),\n",
    "    ('drop_features', drop_features)\n",
    "\n",
    "])\n",
    "\n",
    "# Aplicar la pipeline a tus datos\n",
    "train_transformed = pipeline.transform(train.copy())"
   ]
  },
  {
   "cell_type": "markdown",
   "metadata": {},
   "source": [
    "# Model"
   ]
  },
  {
   "cell_type": "code",
   "execution_count": null,
   "metadata": {},
   "outputs": [],
   "source": [
    "train_transformed"
   ]
  },
  {
   "cell_type": "code",
   "execution_count": null,
   "metadata": {},
   "outputs": [],
   "source": [
    "train_transformed[(train_transformed['county']==38) & (train_transformed['price']==499888.000)]"
   ]
  },
  {
   "cell_type": "code",
   "execution_count": null,
   "metadata": {},
   "outputs": [],
   "source": [
    "X = train_transformed.drop(columns='price')\n",
    "y = train_transformed['price']"
   ]
  },
  {
   "cell_type": "code",
   "execution_count": null,
   "metadata": {},
   "outputs": [],
   "source": [
    "X_train, X_test, y_train, y_test = train_test_split(X, y, test_size=0.2)"
   ]
  },
  {
   "cell_type": "code",
   "execution_count": null,
   "metadata": {},
   "outputs": [],
   "source": [
    "model = lgb.LGBMRegressor(random_state=seed, n_estimators=1000)\n",
    "model.fit(X_train, y_train)"
   ]
  },
  {
   "cell_type": "markdown",
   "metadata": {},
   "source": [
    "# Model evaluation"
   ]
  },
  {
   "cell_type": "code",
   "execution_count": null,
   "metadata": {},
   "outputs": [],
   "source": [
    "y_pred = model.predict(X_test)"
   ]
  },
  {
   "cell_type": "code",
   "execution_count": null,
   "metadata": {},
   "outputs": [],
   "source": [
    "rmse = np.sqrt(np.mean((y_test - y_pred)**2))\n",
    "mse = np.mean((y_test - y_pred)**2)\n",
    "mae = np.mean(np.abs(y_test - y_pred))\n",
    "median_absolute_error = np.median(np.abs(y_test - y_pred))\n",
    "r2 = np.corrcoef(y_test, y_pred)[0, 1]**2\n",
    "\n",
    "print(f'RMSE: {int(rmse)}')\n",
    "print(f'MSE : {int(mse)}')\n",
    "print(f'MAE : {int(mae)}')\n",
    "print(f'MeAE: {int(median_absolute_error)}')\n",
    "print(f'R2  : {round(r2, 3)}')"
   ]
  },
  {
   "cell_type": "code",
   "execution_count": null,
   "metadata": {},
   "outputs": [],
   "source": [
    "rmse = np.sqrt(np.mean((y_test - y_pred)**2))\n",
    "mse = np.mean((y_test - y_pred)**2)\n",
    "mae = np.mean(np.abs(y_test - y_pred))\n",
    "median_absolute_error = np.median(np.abs(y_test - y_pred))\n",
    "r2 = np.corrcoef(y_test, y_pred)[0, 1]**2\n",
    "\n",
    "print(f'RMSE: {int(rmse)}')\n",
    "print(f'MSE : {int(mse)}')\n",
    "print(f'MAE : {int(mae)}')\n",
    "print(f'MeAE: {int(median_absolute_error)}')\n",
    "print(f'R2  : {round(r2, 3)}')"
   ]
  },
  {
   "cell_type": "code",
   "execution_count": null,
   "metadata": {},
   "outputs": [],
   "source": [
    "errors = y_test - y_pred\n",
    "plt.hist(errors)\n",
    "plt.title(\"Distribution of the error\")\n",
    "\n",
    "# Desactivar la notación científica en ambos ejes\n",
    "plt.ticklabel_format(style='plain', axis='both')\n",
    "plt.xticks(rotation=45)\n",
    "plt.show()"
   ]
  },
  {
   "cell_type": "code",
   "execution_count": null,
   "metadata": {},
   "outputs": [],
   "source": []
  },
  {
   "cell_type": "markdown",
   "metadata": {},
   "source": [
    "# Apply pipeine to test"
   ]
  },
  {
   "cell_type": "code",
   "execution_count": null,
   "metadata": {},
   "outputs": [],
   "source": [
    "test_transformed = pipeline.transform(test.copy())"
   ]
  },
  {
   "cell_type": "code",
   "execution_count": null,
   "metadata": {},
   "outputs": [],
   "source": [
    "test_preds = model.predict(test_transformed.drop(columns='price'))\n",
    "test_actual = test_transformed['price']"
   ]
  },
  {
   "cell_type": "code",
   "execution_count": null,
   "metadata": {},
   "outputs": [],
   "source": [
    "test_rmse = np.sqrt(np.mean((test_actual - test_preds)**2))\n",
    "test_mse = np.mean((test_actual - test_preds)**2)\n",
    "test_mae = np.mean(np.abs(test_actual - test_preds))\n",
    "test_median_absolute_error = np.median(np.abs(test_actual - test_preds))\n",
    "test_r2 = np.corrcoef(test_actual, test_preds)[0, 1]**2\n",
    "\n",
    "print(f'RMSE: {int(test_rmse)}')\n",
    "print(f'MSE : {int(test_mse)}')\n",
    "print(f'MAE : {int(test_mae)}')\n",
    "print(f'MeAE: {int(test_median_absolute_error)}')\n",
    "print(f'R2  : {round(test_r2, 3)}')"
   ]
  },
  {
   "cell_type": "markdown",
   "metadata": {},
   "source": [
    "# Optuna"
   ]
  },
  {
   "cell_type": "code",
   "execution_count": null,
   "metadata": {},
   "outputs": [],
   "source": [
    "from utils.optimizer import optimize_lightgbm_params\n",
    "from utils.train import train_lightgbm_model"
   ]
  },
  {
   "cell_type": "code",
   "execution_count": null,
   "metadata": {},
   "outputs": [],
   "source": [
    "# Uso de la función\n",
    "# Supongamos que tienes un DataFrame df y el objetivo es predecir la columna 'target'\n",
    "best_params = optimize_lightgbm_params(train_transformed.drop(target, axis=1), df[target], n_trials=25)\n",
    "print(best_params)"
   ]
  },
  {
   "cell_type": "code",
   "execution_count": null,
   "metadata": {},
   "outputs": [],
   "source": [
    "model = train_lightgbm_model(train_transformed, target, best_params)"
   ]
  },
  {
   "cell_type": "code",
   "execution_count": null,
   "metadata": {},
   "outputs": [],
   "source": [
    "train_transformed"
   ]
  },
  {
   "cell_type": "code",
   "execution_count": null,
   "metadata": {},
   "outputs": [],
   "source": [
    "test_rmse = np.sqrt(np.mean((test_actual - test_preds)**2))\n",
    "test_mse = np.mean((test_actual - test_preds)**2)\n",
    "test_mae = np.mean(np.abs(test_actual - test_preds))\n",
    "test_median_absolute_error = np.median(np.abs(test_actual - test_preds))\n",
    "test_r2 = np.corrcoef(test_actual, test_preds)[0, 1]**2\n",
    "\n",
    "print(f'RMSE: {int(test_rmse)}')\n",
    "print(f'MSE : {int(test_mse)}')\n",
    "print(f'MAE : {int(test_mae)}')\n",
    "print(f'MeAE: {int(test_median_absolute_error)}')\n",
    "print(f'R2  : {round(test_r2, 3)}')"
   ]
  },
  {
   "cell_type": "code",
   "execution_count": null,
   "metadata": {},
   "outputs": [],
   "source": []
  }
 ],
 "metadata": {
  "kernelspec": {
   "display_name": "venv",
   "language": "python",
   "name": "python3"
  },
  "language_info": {
   "codemirror_mode": {
    "name": "ipython",
    "version": 3
   },
   "file_extension": ".py",
   "mimetype": "text/x-python",
   "name": "python",
   "nbconvert_exporter": "python",
   "pygments_lexer": "ipython3",
   "version": "3.10.12"
  }
 },
 "nbformat": 4,
 "nbformat_minor": 2
}
