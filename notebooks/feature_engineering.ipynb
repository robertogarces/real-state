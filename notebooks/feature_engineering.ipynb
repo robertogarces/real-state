{
 "cells": [
  {
   "cell_type": "code",
   "execution_count": 1,
   "metadata": {},
   "outputs": [],
   "source": [
    "import pandas as pd\n",
    "import numpy as np\n",
    "import matplotlib.pyplot as plt\n",
    "import sys\n",
    "\n",
    "sys.path.append('../')\n",
    "pd.set_option('display.max_columns', None)\n",
    "pd.set_option('display.float_format', '{:.3f}'.format)\n",
    "\n",
    "\n",
    "from config.paths import PROCESSED_DATA_PATH, CONFIG_PATH\n",
    "from utils.file_management import read_yaml"
   ]
  },
  {
   "cell_type": "code",
   "execution_count": 2,
   "metadata": {},
   "outputs": [],
   "source": [
    "df = pd.read_parquet(f'{PROCESSED_DATA_PATH}/preprocessed_dataset.parquet')\n",
    "features = read_yaml(f'{CONFIG_PATH}/features.yaml')\n",
    "target = 'price' #features['target']"
   ]
  },
  {
   "cell_type": "code",
   "execution_count": 3,
   "metadata": {},
   "outputs": [
    {
     "data": {
      "text/plain": [
       "<AxesSubplot: >"
      ]
     },
     "execution_count": 3,
     "metadata": {},
     "output_type": "execute_result"
    },
    {
     "data": {
      "image/png": "[encoded data removed]",
      "text/plain": [
       "<Figure size 640x480 with 1 Axes>"
      ]
     },
     "metadata": {},
     "output_type": "display_data"
    }
   ],
   "source": [
    "df['hasGarage'].hist()"
   ]
  },
  {
   "cell_type": "markdown",
   "metadata": {},
   "source": [
    "# Feature Engineering:\n",
    "\n",
    "* [] Text analytics on description.\n",
    "* [] Add data related to the area of the property, for example, amenities, beach or train stations near to the property. Search for this data in public repositories.\n",
    "* [] Study the zones of California in order of re categorize the cities/counties.\n",
    "    * Is it inside LA? \n",
    "    * Is it in a expensive or in a cheap area?\n",
    "    * Life quality of the area.\n",
    "    * Crime on the area.\n",
    "    * Is the property close to a risk area (i.e. forestal fire)?\n",
    "* [] City property mean and median value\n",
    "* [] County property mean and median value\n",
    "* [] KNN property mean and median value"
   ]
  },
  {
   "cell_type": "code",
   "execution_count": 4,
   "metadata": {},
   "outputs": [
    {
     "data": {
      "text/plain": [
       "'The cutest house in the historic district of Pinole is finally for sale! This exquisite gem from 1908 has been lovingly cared for and awaits its new owner(s). Gleaming hardwood floors high ceilings an abundance of natural light crown molding and beautiful chandeliers accent a spacious formal living room dining room and two bedrooms upstairs. The lower level with its separate entrance and kitchen can be used as an in-law unit rental or bonus/flex space (home office gym arts and crafts etc ...). The backyard is an oasis of peace and tranquility perfect for entertaining gardening or relaxing in the newly created sitting area or enclosed hot tub. Ideally located just two minutes to the freeway for an easy commute the San Francisco Bay Trail for hiking and biking and one block to locally owned coffee shops and restaurants. This is truly a must see!!'"
      ]
     },
     "execution_count": 4,
     "metadata": {},
     "output_type": "execute_result"
    }
   ],
   "source": [
    "df.loc[3, 'description']"
   ]
  },
  {
   "cell_type": "code",
   "execution_count": 1,
   "metadata": {},
   "outputs": [
    {
     "ename": "NameError",
     "evalue": "name 'df' is not defined",
     "output_type": "error",
     "traceback": [
      "\u001b[0;31m---------------------------------------------------------------------------\u001b[0m",
      "\u001b[0;31mNameError\u001b[0m                                 Traceback (most recent call last)",
      "\u001b[1;32m/Users/robertogarces/data-science/projects/real-state/notebooks/feature_engineering.ipynb Cell 6\u001b[0m line \u001b[0;36m1\n\u001b[0;32m----> <a href='vscode-notebook-cell:/Users/robertogarces/data-science/projects/real-state/notebooks/feature_engineering.ipynb#W5sZmlsZQ%3D%3D?line=0'>1</a>\u001b[0m df\n",
      "\u001b[0;31mNameError\u001b[0m: name 'df' is not defined"
     ]
    }
   ],
   "source": [
    "df"
   ]
  },
  {
   "cell_type": "code",
   "execution_count": null,
   "metadata": {},
   "outputs": [],
   "source": []
  },
  {
   "cell_type": "code",
   "execution_count": null,
   "metadata": {},
   "outputs": [],
   "source": []
  },
  {
   "cell_type": "code",
   "execution_count": null,
   "metadata": {},
   "outputs": [],
   "source": []
  }
 ],
 "metadata": {
  "kernelspec": {
   "display_name": "venv",
   "language": "python",
   "name": "python3"
  },
  "language_info": {
   "codemirror_mode": {
    "name": "ipython",
    "version": 3
   },
   "file_extension": ".py",
   "mimetype": "text/x-python",
   "name": "python",
   "nbconvert_exporter": "python",
   "pygments_lexer": "ipython3",
   "version": "3.10.12"
  }
 },
 "nbformat": 4,
 "nbformat_minor": 2
}
