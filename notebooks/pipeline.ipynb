{
 "cells": [
  {
   "cell_type": "code",
   "execution_count": 15,
   "metadata": {},
   "outputs": [],
   "source": [
    "import pandas as pd\n",
    "import sys \n",
    "sys.path.append('../')\n",
    "pd.set_option('display.max_columns', None)\n",
    "\n",
    "from utils.processing import *\n",
    "from utils.file_management import read_yaml\n",
    "from utils.train import train_lightgbm_model\n",
    "from utils.evaluation import mape_score\n",
    "from config.paths import CONFIG_PATH\n",
    "from sklearn.pipeline import Pipeline\n",
    "from sklearn.preprocessing import FunctionTransformer\n",
    "from sklearn.model_selection import train_test_split\n",
    "\n",
    "import lightgbm as lgb"
   ]
  },
  {
   "cell_type": "code",
   "execution_count": 2,
   "metadata": {},
   "outputs": [
    {
     "name": "stdout",
     "output_type": "stream",
     "text": [
      "Successfully import /Users/robertogarces/data-science/projects/real-state/data/raw/RealEstate_California.csv\n"
     ]
    }
   ],
   "source": [
    "df = import_raw_dataset()\n",
    "features = read_yaml(f'{CONFIG_PATH}/features.yaml')"
   ]
  },
  {
   "cell_type": "code",
   "execution_count": 3,
   "metadata": {},
   "outputs": [
    {
     "data": {
      "text/plain": [
       "'price'"
      ]
     },
     "execution_count": 3,
     "metadata": {},
     "output_type": "execute_result"
    }
   ],
   "source": [
    "target = features['target'][0]\n",
    "target"
   ]
  },
  {
   "cell_type": "code",
   "execution_count": 4,
   "metadata": {},
   "outputs": [
    {
     "name": "stdout",
     "output_type": "stream",
     "text": [
      "29500.0 5500000.0\n"
     ]
    }
   ],
   "source": [
    "df = remove_duplicated_ids(df)\n",
    "df = remove_price_outliers(df, lower_bound=2.5, upper_bound=97.5)"
   ]
  },
  {
   "cell_type": "code",
   "execution_count": 5,
   "metadata": {},
   "outputs": [],
   "source": [
    "pctg_train = 0.8\n",
    "n_train = int(len(df) * pctg_train)\n",
    "train_idx = df.sample(n=n_train, random_state=42).index\n",
    "train = df.loc[train_idx]\n",
    "test = df.loc[~df.index.isin(train_idx)]"
   ]
  },
  {
   "cell_type": "code",
   "execution_count": 6,
   "metadata": {},
   "outputs": [
    {
     "data": {
      "text/plain": [
       "Int64Index([11623, 20094, 35289, 27607, 14422, 13527, 29286, 11156,  7968,\n",
       "            11055,\n",
       "            ...\n",
       "            11272, 25538, 13652,  6993,  3610, 26674, 17474,  7145, 28817,\n",
       "             7398],\n",
       "           dtype='int64', length=23556)"
      ]
     },
     "execution_count": 6,
     "metadata": {},
     "output_type": "execute_result"
    }
   ],
   "source": [
    "train_idx"
   ]
  },
  {
   "cell_type": "markdown",
   "metadata": {},
   "source": [
    "# Preprocessing"
   ]
  },
  {
   "cell_type": "code",
   "execution_count": 7,
   "metadata": {},
   "outputs": [],
   "source": [
    "transform_price_log = FunctionTransformer(transform_price_log, validate=False)\n",
    "transform_area_units = FunctionTransformer(transform_area_units, validate=False)\n",
    "categorize_bedrooms = FunctionTransformer(categorize_bedrooms, validate=False)\n",
    "categorize_bathrooms = FunctionTransformer(categorize_bathrooms, validate=False)\n",
    "categorize_yearBuilt = FunctionTransformer(categorize_yearBuilt, validate=False)\n",
    "remove_garageSpaces_outliers = FunctionTransformer(remove_garageSpaces_outliers, validate=False)\n",
    "map_levels = FunctionTransformer(map_levels, validate=False)\n",
    "process_homeType = FunctionTransformer(process_homeType, validate=False)\n",
    "impute_hasGarage = FunctionTransformer(impute_hasGarage, validate=False)\n",
    "city_median_price = FunctionTransformer(calculate_statistic, validate=False, kw_args={'feature': 'city', 'statistic': 'median'})\n",
    "city_mean_price = FunctionTransformer(calculate_statistic, validate=False, kw_args={'feature': 'city', 'statistic': 'mean'})\n",
    "county_median_price = FunctionTransformer(calculate_statistic, validate=False, kw_args={'feature': 'county', 'statistic': 'median'})\n",
    "county_mean_price = FunctionTransformer(calculate_statistic, validate=False, kw_args={'feature': 'county', 'statistic': 'mean'})\n",
    "_5_knn_median_price = FunctionTransformer(knn_property_price, validate=False, kw_args={'n_neighbors':5, 'statistic':'median'})\n",
    "_5_knn_mean_price = FunctionTransformer(knn_property_price, validate=False, kw_args={'n_neighbors':5, 'statistic':'mean'})\n",
    "_25_knn_median_price = FunctionTransformer(knn_property_price, validate=False, kw_args={'n_neighbors':25, 'statistic':'median'})\n",
    "_25_knn_mean_price = FunctionTransformer(knn_property_price, validate=False, kw_args={'n_neighbors':25, 'statistic':'mean'})\n",
    "encoding = FunctionTransformer(encode_categorical_variables, validate=False)\n",
    "drop_features = FunctionTransformer(drop_features, validate=False, kw_args={'target':target})"
   ]
  },
  {
   "cell_type": "code",
   "execution_count": 8,
   "metadata": {},
   "outputs": [],
   "source": [
    "preprocessing_steps = [\n",
    "    ('transform_price_log', transform_price_log),\n",
    "    ('transform_area_units', transform_area_units),\n",
    "    ('categorize_bedrooms', categorize_bedrooms),\n",
    "    ('categorize_bathrooms', categorize_bathrooms),\n",
    "    ('categorize_yearBuilt', categorize_yearBuilt),\n",
    "    ('remove_garageSpaces_outliers', remove_garageSpaces_outliers),\n",
    "    ('map_levels', map_levels),\n",
    "    ('process_homeType', process_homeType),\n",
    "    ('impute_hasGarage', impute_hasGarage),\n",
    "    ('city_median_price', city_median_price),\n",
    "    ('city_mean_price', city_mean_price),\n",
    "    ('county_median_price', county_median_price),\n",
    "    ('county_mean_price', county_mean_price),\n",
    "    ('5_knn_median_price', _5_knn_median_price),\n",
    "    ('5_knn_mean_price', _5_knn_mean_price),\n",
    "    ('25_knn_median_price', _25_knn_median_price),\n",
    "    ('25_knn_mean_price', _25_knn_mean_price),\n",
    "    ('encoding', encoding),\n",
    "    ('drop_features', drop_features)\n",
    "]"
   ]
  },
  {
   "cell_type": "markdown",
   "metadata": {},
   "source": [
    "# Pipelines"
   ]
  },
  {
   "cell_type": "code",
   "execution_count": 9,
   "metadata": {},
   "outputs": [],
   "source": [
    "# Definir la pipeline\n",
    "preprocessing_pipeline = Pipeline(preprocessing_steps)\n",
    "\n",
    "# Aplicar la pipeline a tus datos\n",
    "train_transformed = preprocessing_pipeline.fit_transform(train.copy())"
   ]
  },
  {
   "cell_type": "markdown",
   "metadata": {},
   "source": [
    "# Modeling"
   ]
  },
  {
   "cell_type": "code",
   "execution_count": 10,
   "metadata": {},
   "outputs": [
    {
     "name": "stdout",
     "output_type": "stream",
     "text": [
      "[LightGBM] [Info] Auto-choosing row-wise multi-threading, the overhead of testing was 0.002457 seconds.\n",
      "You can set `force_row_wise=true` to remove the overhead.\n",
      "And if memory is not enough, you can set `force_col_wise=true`.\n",
      "[LightGBM] [Info] Total Bins 2679\n",
      "[LightGBM] [Info] Number of data points in the train set: 18844, number of used features: 22\n",
      "[LightGBM] [Info] Start training from score 947213.509340\n",
      "RMSE: 468640\n",
      "MSE : 219623988146\n",
      "MAE : 255618\n",
      "MeAE: 119113\n",
      "MAPE: 0\n",
      "R2  : 0.715\n"
     ]
    }
   ],
   "source": [
    "model = train_lightgbm_model(train_transformed, target)"
   ]
  },
  {
   "cell_type": "markdown",
   "metadata": {},
   "source": [
    "# Evaluate on testing"
   ]
  },
  {
   "cell_type": "code",
   "execution_count": 11,
   "metadata": {},
   "outputs": [],
   "source": [
    "test_transformed = preprocessing_pipeline.transform(test.copy())"
   ]
  },
  {
   "cell_type": "code",
   "execution_count": 12,
   "metadata": {},
   "outputs": [],
   "source": [
    "test_preds = model.predict(test_transformed.drop(columns='price'))\n",
    "test_actual = test_transformed['price']"
   ]
  },
  {
   "cell_type": "code",
   "execution_count": 17,
   "metadata": {},
   "outputs": [
    {
     "name": "stdout",
     "output_type": "stream",
     "text": [
      "RMSE: 507201\n",
      "MSE : 257253582598\n",
      "MAE : 316727\n",
      "MeAE: 183333\n",
      "MAPE: 0.901\n",
      "R2  : 0.683\n"
     ]
    }
   ],
   "source": [
    "test_rmse = np.sqrt(np.mean((test_actual - test_preds)**2))\n",
    "test_mse = np.mean((test_actual - test_preds)**2)\n",
    "test_mae = np.mean(np.abs(test_actual - test_preds))\n",
    "test_median_absolute_error = np.median(np.abs(test_actual - test_preds))\n",
    "test_mape = mape_score(test_actual, test_preds)\n",
    "test_r2 = np.corrcoef(test_actual, test_preds)[0, 1]**2\n",
    "\n",
    "print(f'RMSE: {int(test_rmse)}')\n",
    "print(f'MSE : {int(test_mse)}')\n",
    "print(f'MAE : {int(test_mae)}')\n",
    "print(f'MeAE: {int(test_median_absolute_error)}')\n",
    "print(f'MAPE: {round(test_mape, 3)}')\n",
    "print(f'R2  : {round(test_r2, 3)}')"
   ]
  },
  {
   "cell_type": "markdown",
   "metadata": {},
   "source": [
    "# Optuna"
   ]
  },
  {
   "cell_type": "code",
   "execution_count": 18,
   "metadata": {},
   "outputs": [],
   "source": [
    "from utils.optimizer import optimize_lightgbm_params\n",
    "from utils.train import train_lightgbm_model"
   ]
  },
  {
   "cell_type": "code",
   "execution_count": 19,
   "metadata": {},
   "outputs": [
    {
     "name": "stderr",
     "output_type": "stream",
     "text": [
      "[I 2023-12-25 12:10:43,416] A new study created in memory with name: no-name-3b717c47-3926-485e-a967-951b4966540a\n",
      "/Users/robertogarces/data-science/projects/real-state/notebooks/../utils/optimizer.py:14: FutureWarning: suggest_loguniform has been deprecated in v3.0.0. This feature will be removed in v6.0.0. See https://github.com/optuna/optuna/releases/tag/v3.0.0. Use suggest_float(..., log=True) instead.\n",
      "  'learning_rate': trial.suggest_loguniform('learning_rate', 0.005, 0.2),\n",
      "/Users/robertogarces/data-science/projects/real-state/notebooks/../utils/optimizer.py:15: FutureWarning: suggest_uniform has been deprecated in v3.0.0. This feature will be removed in v6.0.0. See https://github.com/optuna/optuna/releases/tag/v3.0.0. Use suggest_float instead.\n",
      "  'feature_fraction': trial.suggest_uniform('feature_fraction', 0.1, 1.0),\n",
      "/Users/robertogarces/data-science/projects/real-state/notebooks/../utils/optimizer.py:16: FutureWarning: suggest_uniform has been deprecated in v3.0.0. This feature will be removed in v6.0.0. See https://github.com/optuna/optuna/releases/tag/v3.0.0. Use suggest_float instead.\n",
      "  'bagging_fraction': trial.suggest_uniform('bagging_fraction', 0.1, 1.0),\n",
      "/Users/robertogarces/data-science/projects/real-state/notebooks/../utils/optimizer.py:18: FutureWarning: suggest_loguniform has been deprecated in v3.0.0. This feature will be removed in v6.0.0. See https://github.com/optuna/optuna/releases/tag/v3.0.0. Use suggest_float(..., log=True) instead.\n",
      "  'reg_alpha': trial.suggest_loguniform('reg_alpha', 1e-9, 10.0),\n",
      "/Users/robertogarces/data-science/projects/real-state/notebooks/../utils/optimizer.py:19: FutureWarning: suggest_loguniform has been deprecated in v3.0.0. This feature will be removed in v6.0.0. See https://github.com/optuna/optuna/releases/tag/v3.0.0. Use suggest_float(..., log=True) instead.\n",
      "  'reg_lambda': trial.suggest_loguniform('reg_lambda', 1e-9, 10.0),\n",
      "[I 2023-12-25 12:10:57,661] Trial 0 finished with value: 777197704124.1797 and parameters: {'num_leaves': 194, 'learning_rate': 0.010555911537183965, 'feature_fraction': 0.9195893144366295, 'bagging_fraction': 0.2721624561018245, 'bagging_freq': 7, 'reg_alpha': 2.212040708338483e-08, 'reg_lambda': 0.0029009455430710784}. Best is trial 0 with value: 777197704124.1797.\n",
      "/Users/robertogarces/data-science/projects/real-state/notebooks/../utils/optimizer.py:14: FutureWarning: suggest_loguniform has been deprecated in v3.0.0. This feature will be removed in v6.0.0. See https://github.com/optuna/optuna/releases/tag/v3.0.0. Use suggest_float(..., log=True) instead.\n",
      "  'learning_rate': trial.suggest_loguniform('learning_rate', 0.005, 0.2),\n",
      "/Users/robertogarces/data-science/projects/real-state/notebooks/../utils/optimizer.py:15: FutureWarning: suggest_uniform has been deprecated in v3.0.0. This feature will be removed in v6.0.0. See https://github.com/optuna/optuna/releases/tag/v3.0.0. Use suggest_float instead.\n",
      "  'feature_fraction': trial.suggest_uniform('feature_fraction', 0.1, 1.0),\n",
      "/Users/robertogarces/data-science/projects/real-state/notebooks/../utils/optimizer.py:16: FutureWarning: suggest_uniform has been deprecated in v3.0.0. This feature will be removed in v6.0.0. See https://github.com/optuna/optuna/releases/tag/v3.0.0. Use suggest_float instead.\n",
      "  'bagging_fraction': trial.suggest_uniform('bagging_fraction', 0.1, 1.0),\n",
      "/Users/robertogarces/data-science/projects/real-state/notebooks/../utils/optimizer.py:18: FutureWarning: suggest_loguniform has been deprecated in v3.0.0. This feature will be removed in v6.0.0. See https://github.com/optuna/optuna/releases/tag/v3.0.0. Use suggest_float(..., log=True) instead.\n",
      "  'reg_alpha': trial.suggest_loguniform('reg_alpha', 1e-9, 10.0),\n",
      "/Users/robertogarces/data-science/projects/real-state/notebooks/../utils/optimizer.py:19: FutureWarning: suggest_loguniform has been deprecated in v3.0.0. This feature will be removed in v6.0.0. See https://github.com/optuna/optuna/releases/tag/v3.0.0. Use suggest_float(..., log=True) instead.\n",
      "  'reg_lambda': trial.suggest_loguniform('reg_lambda', 1e-9, 10.0),\n",
      "[I 2023-12-25 12:10:58,995] Trial 1 finished with value: 788628008073.8763 and parameters: {'num_leaves': 8, 'learning_rate': 0.18572753125309813, 'feature_fraction': 0.7388544266154563, 'bagging_fraction': 0.6264384991097038, 'bagging_freq': 9, 'reg_alpha': 1.75716851018129, 'reg_lambda': 2.597906067542268e-09}. Best is trial 0 with value: 777197704124.1797.\n",
      "/Users/robertogarces/data-science/projects/real-state/notebooks/../utils/optimizer.py:14: FutureWarning: suggest_loguniform has been deprecated in v3.0.0. This feature will be removed in v6.0.0. See https://github.com/optuna/optuna/releases/tag/v3.0.0. Use suggest_float(..., log=True) instead.\n",
      "  'learning_rate': trial.suggest_loguniform('learning_rate', 0.005, 0.2),\n",
      "/Users/robertogarces/data-science/projects/real-state/notebooks/../utils/optimizer.py:15: FutureWarning: suggest_uniform has been deprecated in v3.0.0. This feature will be removed in v6.0.0. See https://github.com/optuna/optuna/releases/tag/v3.0.0. Use suggest_float instead.\n",
      "  'feature_fraction': trial.suggest_uniform('feature_fraction', 0.1, 1.0),\n",
      "/Users/robertogarces/data-science/projects/real-state/notebooks/../utils/optimizer.py:16: FutureWarning: suggest_uniform has been deprecated in v3.0.0. This feature will be removed in v6.0.0. See https://github.com/optuna/optuna/releases/tag/v3.0.0. Use suggest_float instead.\n",
      "  'bagging_fraction': trial.suggest_uniform('bagging_fraction', 0.1, 1.0),\n",
      "/Users/robertogarces/data-science/projects/real-state/notebooks/../utils/optimizer.py:18: FutureWarning: suggest_loguniform has been deprecated in v3.0.0. This feature will be removed in v6.0.0. See https://github.com/optuna/optuna/releases/tag/v3.0.0. Use suggest_float(..., log=True) instead.\n",
      "  'reg_alpha': trial.suggest_loguniform('reg_alpha', 1e-9, 10.0),\n",
      "/Users/robertogarces/data-science/projects/real-state/notebooks/../utils/optimizer.py:19: FutureWarning: suggest_loguniform has been deprecated in v3.0.0. This feature will be removed in v6.0.0. See https://github.com/optuna/optuna/releases/tag/v3.0.0. Use suggest_float(..., log=True) instead.\n",
      "  'reg_lambda': trial.suggest_loguniform('reg_lambda', 1e-9, 10.0),\n",
      "[I 2023-12-25 12:11:15,540] Trial 2 finished with value: 816976591814.9084 and parameters: {'num_leaves': 125, 'learning_rate': 0.083834730592049, 'feature_fraction': 0.6479962534043361, 'bagging_fraction': 0.846162240280729, 'bagging_freq': 7, 'reg_alpha': 0.20066709238370692, 'reg_lambda': 1.7698014966072038e-08}. Best is trial 0 with value: 777197704124.1797.\n",
      "/Users/robertogarces/data-science/projects/real-state/notebooks/../utils/optimizer.py:14: FutureWarning: suggest_loguniform has been deprecated in v3.0.0. This feature will be removed in v6.0.0. See https://github.com/optuna/optuna/releases/tag/v3.0.0. Use suggest_float(..., log=True) instead.\n",
      "  'learning_rate': trial.suggest_loguniform('learning_rate', 0.005, 0.2),\n",
      "/Users/robertogarces/data-science/projects/real-state/notebooks/../utils/optimizer.py:15: FutureWarning: suggest_uniform has been deprecated in v3.0.0. This feature will be removed in v6.0.0. See https://github.com/optuna/optuna/releases/tag/v3.0.0. Use suggest_float instead.\n",
      "  'feature_fraction': trial.suggest_uniform('feature_fraction', 0.1, 1.0),\n",
      "/Users/robertogarces/data-science/projects/real-state/notebooks/../utils/optimizer.py:16: FutureWarning: suggest_uniform has been deprecated in v3.0.0. This feature will be removed in v6.0.0. See https://github.com/optuna/optuna/releases/tag/v3.0.0. Use suggest_float instead.\n",
      "  'bagging_fraction': trial.suggest_uniform('bagging_fraction', 0.1, 1.0),\n",
      "/Users/robertogarces/data-science/projects/real-state/notebooks/../utils/optimizer.py:18: FutureWarning: suggest_loguniform has been deprecated in v3.0.0. This feature will be removed in v6.0.0. See https://github.com/optuna/optuna/releases/tag/v3.0.0. Use suggest_float(..., log=True) instead.\n",
      "  'reg_alpha': trial.suggest_loguniform('reg_alpha', 1e-9, 10.0),\n",
      "/Users/robertogarces/data-science/projects/real-state/notebooks/../utils/optimizer.py:19: FutureWarning: suggest_loguniform has been deprecated in v3.0.0. This feature will be removed in v6.0.0. See https://github.com/optuna/optuna/releases/tag/v3.0.0. Use suggest_float(..., log=True) instead.\n",
      "  'reg_lambda': trial.suggest_loguniform('reg_lambda', 1e-9, 10.0),\n",
      "[I 2023-12-25 12:11:27,391] Trial 3 finished with value: 781038658079.2742 and parameters: {'num_leaves': 119, 'learning_rate': 0.021365578315564317, 'feature_fraction': 0.8937816257905451, 'bagging_fraction': 0.7661446944978196, 'bagging_freq': 7, 'reg_alpha': 2.0519335046388987, 'reg_lambda': 0.7602254644725678}. Best is trial 0 with value: 777197704124.1797.\n",
      "/Users/robertogarces/data-science/projects/real-state/notebooks/../utils/optimizer.py:14: FutureWarning: suggest_loguniform has been deprecated in v3.0.0. This feature will be removed in v6.0.0. See https://github.com/optuna/optuna/releases/tag/v3.0.0. Use suggest_float(..., log=True) instead.\n",
      "  'learning_rate': trial.suggest_loguniform('learning_rate', 0.005, 0.2),\n",
      "/Users/robertogarces/data-science/projects/real-state/notebooks/../utils/optimizer.py:15: FutureWarning: suggest_uniform has been deprecated in v3.0.0. This feature will be removed in v6.0.0. See https://github.com/optuna/optuna/releases/tag/v3.0.0. Use suggest_float instead.\n",
      "  'feature_fraction': trial.suggest_uniform('feature_fraction', 0.1, 1.0),\n",
      "/Users/robertogarces/data-science/projects/real-state/notebooks/../utils/optimizer.py:16: FutureWarning: suggest_uniform has been deprecated in v3.0.0. This feature will be removed in v6.0.0. See https://github.com/optuna/optuna/releases/tag/v3.0.0. Use suggest_float instead.\n",
      "  'bagging_fraction': trial.suggest_uniform('bagging_fraction', 0.1, 1.0),\n",
      "/Users/robertogarces/data-science/projects/real-state/notebooks/../utils/optimizer.py:18: FutureWarning: suggest_loguniform has been deprecated in v3.0.0. This feature will be removed in v6.0.0. See https://github.com/optuna/optuna/releases/tag/v3.0.0. Use suggest_float(..., log=True) instead.\n",
      "  'reg_alpha': trial.suggest_loguniform('reg_alpha', 1e-9, 10.0),\n",
      "/Users/robertogarces/data-science/projects/real-state/notebooks/../utils/optimizer.py:19: FutureWarning: suggest_loguniform has been deprecated in v3.0.0. This feature will be removed in v6.0.0. See https://github.com/optuna/optuna/releases/tag/v3.0.0. Use suggest_float(..., log=True) instead.\n",
      "  'reg_lambda': trial.suggest_loguniform('reg_lambda', 1e-9, 10.0),\n",
      "[I 2023-12-25 12:11:40,827] Trial 4 finished with value: 777943482212.6613 and parameters: {'num_leaves': 142, 'learning_rate': 0.02489817364115156, 'feature_fraction': 0.14198784344622417, 'bagging_fraction': 0.8335097196513718, 'bagging_freq': 10, 'reg_alpha': 9.79339120394264e-06, 'reg_lambda': 1.704056109591138e-08}. Best is trial 0 with value: 777197704124.1797.\n",
      "/Users/robertogarces/data-science/projects/real-state/notebooks/../utils/optimizer.py:14: FutureWarning: suggest_loguniform has been deprecated in v3.0.0. This feature will be removed in v6.0.0. See https://github.com/optuna/optuna/releases/tag/v3.0.0. Use suggest_float(..., log=True) instead.\n",
      "  'learning_rate': trial.suggest_loguniform('learning_rate', 0.005, 0.2),\n",
      "/Users/robertogarces/data-science/projects/real-state/notebooks/../utils/optimizer.py:15: FutureWarning: suggest_uniform has been deprecated in v3.0.0. This feature will be removed in v6.0.0. See https://github.com/optuna/optuna/releases/tag/v3.0.0. Use suggest_float instead.\n",
      "  'feature_fraction': trial.suggest_uniform('feature_fraction', 0.1, 1.0),\n",
      "/Users/robertogarces/data-science/projects/real-state/notebooks/../utils/optimizer.py:16: FutureWarning: suggest_uniform has been deprecated in v3.0.0. This feature will be removed in v6.0.0. See https://github.com/optuna/optuna/releases/tag/v3.0.0. Use suggest_float instead.\n",
      "  'bagging_fraction': trial.suggest_uniform('bagging_fraction', 0.1, 1.0),\n",
      "/Users/robertogarces/data-science/projects/real-state/notebooks/../utils/optimizer.py:18: FutureWarning: suggest_loguniform has been deprecated in v3.0.0. This feature will be removed in v6.0.0. See https://github.com/optuna/optuna/releases/tag/v3.0.0. Use suggest_float(..., log=True) instead.\n",
      "  'reg_alpha': trial.suggest_loguniform('reg_alpha', 1e-9, 10.0),\n",
      "/Users/robertogarces/data-science/projects/real-state/notebooks/../utils/optimizer.py:19: FutureWarning: suggest_loguniform has been deprecated in v3.0.0. This feature will be removed in v6.0.0. See https://github.com/optuna/optuna/releases/tag/v3.0.0. Use suggest_float(..., log=True) instead.\n",
      "  'reg_lambda': trial.suggest_loguniform('reg_lambda', 1e-9, 10.0),\n",
      "[I 2023-12-25 12:12:01,646] Trial 5 finished with value: 776094618095.3353 and parameters: {'num_leaves': 245, 'learning_rate': 0.008329543726369994, 'feature_fraction': 0.7419170428175265, 'bagging_fraction': 0.6251124099434858, 'bagging_freq': 9, 'reg_alpha': 4.3173061327297395, 'reg_lambda': 0.0005866652912999912}. Best is trial 5 with value: 776094618095.3353.\n",
      "/Users/robertogarces/data-science/projects/real-state/notebooks/../utils/optimizer.py:14: FutureWarning: suggest_loguniform has been deprecated in v3.0.0. This feature will be removed in v6.0.0. See https://github.com/optuna/optuna/releases/tag/v3.0.0. Use suggest_float(..., log=True) instead.\n",
      "  'learning_rate': trial.suggest_loguniform('learning_rate', 0.005, 0.2),\n",
      "/Users/robertogarces/data-science/projects/real-state/notebooks/../utils/optimizer.py:15: FutureWarning: suggest_uniform has been deprecated in v3.0.0. This feature will be removed in v6.0.0. See https://github.com/optuna/optuna/releases/tag/v3.0.0. Use suggest_float instead.\n",
      "  'feature_fraction': trial.suggest_uniform('feature_fraction', 0.1, 1.0),\n",
      "/Users/robertogarces/data-science/projects/real-state/notebooks/../utils/optimizer.py:16: FutureWarning: suggest_uniform has been deprecated in v3.0.0. This feature will be removed in v6.0.0. See https://github.com/optuna/optuna/releases/tag/v3.0.0. Use suggest_float instead.\n",
      "  'bagging_fraction': trial.suggest_uniform('bagging_fraction', 0.1, 1.0),\n",
      "/Users/robertogarces/data-science/projects/real-state/notebooks/../utils/optimizer.py:18: FutureWarning: suggest_loguniform has been deprecated in v3.0.0. This feature will be removed in v6.0.0. See https://github.com/optuna/optuna/releases/tag/v3.0.0. Use suggest_float(..., log=True) instead.\n",
      "  'reg_alpha': trial.suggest_loguniform('reg_alpha', 1e-9, 10.0),\n",
      "/Users/robertogarces/data-science/projects/real-state/notebooks/../utils/optimizer.py:19: FutureWarning: suggest_loguniform has been deprecated in v3.0.0. This feature will be removed in v6.0.0. See https://github.com/optuna/optuna/releases/tag/v3.0.0. Use suggest_float(..., log=True) instead.\n",
      "  'reg_lambda': trial.suggest_loguniform('reg_lambda', 1e-9, 10.0),\n",
      "[I 2023-12-25 12:12:22,040] Trial 6 finished with value: 881775170589.668 and parameters: {'num_leaves': 232, 'learning_rate': 0.13816930531903251, 'feature_fraction': 0.2564113624837696, 'bagging_fraction': 0.6786841471827888, 'bagging_freq': 1, 'reg_alpha': 0.00011322444585162989, 'reg_lambda': 7.4213972467924475e-09}. Best is trial 5 with value: 776094618095.3353.\n",
      "/Users/robertogarces/data-science/projects/real-state/notebooks/../utils/optimizer.py:14: FutureWarning: suggest_loguniform has been deprecated in v3.0.0. This feature will be removed in v6.0.0. See https://github.com/optuna/optuna/releases/tag/v3.0.0. Use suggest_float(..., log=True) instead.\n",
      "  'learning_rate': trial.suggest_loguniform('learning_rate', 0.005, 0.2),\n",
      "/Users/robertogarces/data-science/projects/real-state/notebooks/../utils/optimizer.py:15: FutureWarning: suggest_uniform has been deprecated in v3.0.0. This feature will be removed in v6.0.0. See https://github.com/optuna/optuna/releases/tag/v3.0.0. Use suggest_float instead.\n",
      "  'feature_fraction': trial.suggest_uniform('feature_fraction', 0.1, 1.0),\n",
      "/Users/robertogarces/data-science/projects/real-state/notebooks/../utils/optimizer.py:16: FutureWarning: suggest_uniform has been deprecated in v3.0.0. This feature will be removed in v6.0.0. See https://github.com/optuna/optuna/releases/tag/v3.0.0. Use suggest_float instead.\n",
      "  'bagging_fraction': trial.suggest_uniform('bagging_fraction', 0.1, 1.0),\n",
      "/Users/robertogarces/data-science/projects/real-state/notebooks/../utils/optimizer.py:18: FutureWarning: suggest_loguniform has been deprecated in v3.0.0. This feature will be removed in v6.0.0. See https://github.com/optuna/optuna/releases/tag/v3.0.0. Use suggest_float(..., log=True) instead.\n",
      "  'reg_alpha': trial.suggest_loguniform('reg_alpha', 1e-9, 10.0),\n",
      "/Users/robertogarces/data-science/projects/real-state/notebooks/../utils/optimizer.py:19: FutureWarning: suggest_loguniform has been deprecated in v3.0.0. This feature will be removed in v6.0.0. See https://github.com/optuna/optuna/releases/tag/v3.0.0. Use suggest_float(..., log=True) instead.\n",
      "  'reg_lambda': trial.suggest_loguniform('reg_lambda', 1e-9, 10.0),\n",
      "[I 2023-12-25 12:12:37,559] Trial 7 finished with value: 778885501489.8452 and parameters: {'num_leaves': 197, 'learning_rate': 0.012940579902006772, 'feature_fraction': 0.6626823182264491, 'bagging_fraction': 0.5750590101479655, 'bagging_freq': 6, 'reg_alpha': 1.0852445734988253e-07, 'reg_lambda': 1.0696664048754147e-07}. Best is trial 5 with value: 776094618095.3353.\n",
      "/Users/robertogarces/data-science/projects/real-state/notebooks/../utils/optimizer.py:14: FutureWarning: suggest_loguniform has been deprecated in v3.0.0. This feature will be removed in v6.0.0. See https://github.com/optuna/optuna/releases/tag/v3.0.0. Use suggest_float(..., log=True) instead.\n",
      "  'learning_rate': trial.suggest_loguniform('learning_rate', 0.005, 0.2),\n",
      "/Users/robertogarces/data-science/projects/real-state/notebooks/../utils/optimizer.py:15: FutureWarning: suggest_uniform has been deprecated in v3.0.0. This feature will be removed in v6.0.0. See https://github.com/optuna/optuna/releases/tag/v3.0.0. Use suggest_float instead.\n",
      "  'feature_fraction': trial.suggest_uniform('feature_fraction', 0.1, 1.0),\n",
      "/Users/robertogarces/data-science/projects/real-state/notebooks/../utils/optimizer.py:16: FutureWarning: suggest_uniform has been deprecated in v3.0.0. This feature will be removed in v6.0.0. See https://github.com/optuna/optuna/releases/tag/v3.0.0. Use suggest_float instead.\n",
      "  'bagging_fraction': trial.suggest_uniform('bagging_fraction', 0.1, 1.0),\n",
      "/Users/robertogarces/data-science/projects/real-state/notebooks/../utils/optimizer.py:18: FutureWarning: suggest_loguniform has been deprecated in v3.0.0. This feature will be removed in v6.0.0. See https://github.com/optuna/optuna/releases/tag/v3.0.0. Use suggest_float(..., log=True) instead.\n",
      "  'reg_alpha': trial.suggest_loguniform('reg_alpha', 1e-9, 10.0),\n",
      "/Users/robertogarces/data-science/projects/real-state/notebooks/../utils/optimizer.py:19: FutureWarning: suggest_loguniform has been deprecated in v3.0.0. This feature will be removed in v6.0.0. See https://github.com/optuna/optuna/releases/tag/v3.0.0. Use suggest_float(..., log=True) instead.\n",
      "  'reg_lambda': trial.suggest_loguniform('reg_lambda', 1e-9, 10.0),\n",
      "[I 2023-12-25 12:12:48,394] Trial 8 finished with value: 783729785302.6609 and parameters: {'num_leaves': 139, 'learning_rate': 0.028758077197250126, 'feature_fraction': 0.29635779689868513, 'bagging_fraction': 0.5641119354420495, 'bagging_freq': 8, 'reg_alpha': 0.0003230149899465317, 'reg_lambda': 0.7778149567710485}. Best is trial 5 with value: 776094618095.3353.\n",
      "/Users/robertogarces/data-science/projects/real-state/notebooks/../utils/optimizer.py:14: FutureWarning: suggest_loguniform has been deprecated in v3.0.0. This feature will be removed in v6.0.0. See https://github.com/optuna/optuna/releases/tag/v3.0.0. Use suggest_float(..., log=True) instead.\n",
      "  'learning_rate': trial.suggest_loguniform('learning_rate', 0.005, 0.2),\n",
      "/Users/robertogarces/data-science/projects/real-state/notebooks/../utils/optimizer.py:15: FutureWarning: suggest_uniform has been deprecated in v3.0.0. This feature will be removed in v6.0.0. See https://github.com/optuna/optuna/releases/tag/v3.0.0. Use suggest_float instead.\n",
      "  'feature_fraction': trial.suggest_uniform('feature_fraction', 0.1, 1.0),\n",
      "/Users/robertogarces/data-science/projects/real-state/notebooks/../utils/optimizer.py:16: FutureWarning: suggest_uniform has been deprecated in v3.0.0. This feature will be removed in v6.0.0. See https://github.com/optuna/optuna/releases/tag/v3.0.0. Use suggest_float instead.\n",
      "  'bagging_fraction': trial.suggest_uniform('bagging_fraction', 0.1, 1.0),\n",
      "/Users/robertogarces/data-science/projects/real-state/notebooks/../utils/optimizer.py:18: FutureWarning: suggest_loguniform has been deprecated in v3.0.0. This feature will be removed in v6.0.0. See https://github.com/optuna/optuna/releases/tag/v3.0.0. Use suggest_float(..., log=True) instead.\n",
      "  'reg_alpha': trial.suggest_loguniform('reg_alpha', 1e-9, 10.0),\n",
      "/Users/robertogarces/data-science/projects/real-state/notebooks/../utils/optimizer.py:19: FutureWarning: suggest_loguniform has been deprecated in v3.0.0. This feature will be removed in v6.0.0. See https://github.com/optuna/optuna/releases/tag/v3.0.0. Use suggest_float(..., log=True) instead.\n",
      "  'reg_lambda': trial.suggest_loguniform('reg_lambda', 1e-9, 10.0),\n",
      "[I 2023-12-25 12:13:09,838] Trial 9 finished with value: 773779666069.1713 and parameters: {'num_leaves': 241, 'learning_rate': 0.00890231381031668, 'feature_fraction': 0.37717334698535543, 'bagging_fraction': 0.3810042114551975, 'bagging_freq': 1, 'reg_alpha': 2.3649975977902518e-07, 'reg_lambda': 0.0039044538997014145}. Best is trial 9 with value: 773779666069.1713.\n",
      "/Users/robertogarces/data-science/projects/real-state/notebooks/../utils/optimizer.py:14: FutureWarning: suggest_loguniform has been deprecated in v3.0.0. This feature will be removed in v6.0.0. See https://github.com/optuna/optuna/releases/tag/v3.0.0. Use suggest_float(..., log=True) instead.\n",
      "  'learning_rate': trial.suggest_loguniform('learning_rate', 0.005, 0.2),\n",
      "/Users/robertogarces/data-science/projects/real-state/notebooks/../utils/optimizer.py:15: FutureWarning: suggest_uniform has been deprecated in v3.0.0. This feature will be removed in v6.0.0. See https://github.com/optuna/optuna/releases/tag/v3.0.0. Use suggest_float instead.\n",
      "  'feature_fraction': trial.suggest_uniform('feature_fraction', 0.1, 1.0),\n",
      "/Users/robertogarces/data-science/projects/real-state/notebooks/../utils/optimizer.py:16: FutureWarning: suggest_uniform has been deprecated in v3.0.0. This feature will be removed in v6.0.0. See https://github.com/optuna/optuna/releases/tag/v3.0.0. Use suggest_float instead.\n",
      "  'bagging_fraction': trial.suggest_uniform('bagging_fraction', 0.1, 1.0),\n",
      "/Users/robertogarces/data-science/projects/real-state/notebooks/../utils/optimizer.py:18: FutureWarning: suggest_loguniform has been deprecated in v3.0.0. This feature will be removed in v6.0.0. See https://github.com/optuna/optuna/releases/tag/v3.0.0. Use suggest_float(..., log=True) instead.\n",
      "  'reg_alpha': trial.suggest_loguniform('reg_alpha', 1e-9, 10.0),\n",
      "/Users/robertogarces/data-science/projects/real-state/notebooks/../utils/optimizer.py:19: FutureWarning: suggest_loguniform has been deprecated in v3.0.0. This feature will be removed in v6.0.0. See https://github.com/optuna/optuna/releases/tag/v3.0.0. Use suggest_float(..., log=True) instead.\n",
      "  'reg_lambda': trial.suggest_loguniform('reg_lambda', 1e-9, 10.0),\n",
      "[I 2023-12-25 12:13:14,985] Trial 10 finished with value: 771209792125.5852 and parameters: {'num_leaves': 48, 'learning_rate': 0.005654154677747987, 'feature_fraction': 0.42438190486231275, 'bagging_fraction': 0.264856644667374, 'bagging_freq': 1, 'reg_alpha': 1.2226736122972582e-09, 'reg_lambda': 1.1766994827452223e-05}. Best is trial 10 with value: 771209792125.5852.\n",
      "/Users/robertogarces/data-science/projects/real-state/notebooks/../utils/optimizer.py:14: FutureWarning: suggest_loguniform has been deprecated in v3.0.0. This feature will be removed in v6.0.0. See https://github.com/optuna/optuna/releases/tag/v3.0.0. Use suggest_float(..., log=True) instead.\n",
      "  'learning_rate': trial.suggest_loguniform('learning_rate', 0.005, 0.2),\n",
      "/Users/robertogarces/data-science/projects/real-state/notebooks/../utils/optimizer.py:15: FutureWarning: suggest_uniform has been deprecated in v3.0.0. This feature will be removed in v6.0.0. See https://github.com/optuna/optuna/releases/tag/v3.0.0. Use suggest_float instead.\n",
      "  'feature_fraction': trial.suggest_uniform('feature_fraction', 0.1, 1.0),\n",
      "/Users/robertogarces/data-science/projects/real-state/notebooks/../utils/optimizer.py:16: FutureWarning: suggest_uniform has been deprecated in v3.0.0. This feature will be removed in v6.0.0. See https://github.com/optuna/optuna/releases/tag/v3.0.0. Use suggest_float instead.\n",
      "  'bagging_fraction': trial.suggest_uniform('bagging_fraction', 0.1, 1.0),\n",
      "/Users/robertogarces/data-science/projects/real-state/notebooks/../utils/optimizer.py:18: FutureWarning: suggest_loguniform has been deprecated in v3.0.0. This feature will be removed in v6.0.0. See https://github.com/optuna/optuna/releases/tag/v3.0.0. Use suggest_float(..., log=True) instead.\n",
      "  'reg_alpha': trial.suggest_loguniform('reg_alpha', 1e-9, 10.0),\n",
      "/Users/robertogarces/data-science/projects/real-state/notebooks/../utils/optimizer.py:19: FutureWarning: suggest_loguniform has been deprecated in v3.0.0. This feature will be removed in v6.0.0. See https://github.com/optuna/optuna/releases/tag/v3.0.0. Use suggest_float(..., log=True) instead.\n",
      "  'reg_lambda': trial.suggest_loguniform('reg_lambda', 1e-9, 10.0),\n",
      "[I 2023-12-25 12:13:18,212] Trial 11 finished with value: 771219663949.7728 and parameters: {'num_leaves': 30, 'learning_rate': 0.0051129974631328986, 'feature_fraction': 0.4447611458691567, 'bagging_fraction': 0.29197028884544063, 'bagging_freq': 1, 'reg_alpha': 2.0478231872138394e-09, 'reg_lambda': 3.371497105792804e-06}. Best is trial 10 with value: 771209792125.5852.\n",
      "/Users/robertogarces/data-science/projects/real-state/notebooks/../utils/optimizer.py:14: FutureWarning: suggest_loguniform has been deprecated in v3.0.0. This feature will be removed in v6.0.0. See https://github.com/optuna/optuna/releases/tag/v3.0.0. Use suggest_float(..., log=True) instead.\n",
      "  'learning_rate': trial.suggest_loguniform('learning_rate', 0.005, 0.2),\n",
      "/Users/robertogarces/data-science/projects/real-state/notebooks/../utils/optimizer.py:15: FutureWarning: suggest_uniform has been deprecated in v3.0.0. This feature will be removed in v6.0.0. See https://github.com/optuna/optuna/releases/tag/v3.0.0. Use suggest_float instead.\n",
      "  'feature_fraction': trial.suggest_uniform('feature_fraction', 0.1, 1.0),\n",
      "/Users/robertogarces/data-science/projects/real-state/notebooks/../utils/optimizer.py:16: FutureWarning: suggest_uniform has been deprecated in v3.0.0. This feature will be removed in v6.0.0. See https://github.com/optuna/optuna/releases/tag/v3.0.0. Use suggest_float instead.\n",
      "  'bagging_fraction': trial.suggest_uniform('bagging_fraction', 0.1, 1.0),\n",
      "/Users/robertogarces/data-science/projects/real-state/notebooks/../utils/optimizer.py:18: FutureWarning: suggest_loguniform has been deprecated in v3.0.0. This feature will be removed in v6.0.0. See https://github.com/optuna/optuna/releases/tag/v3.0.0. Use suggest_float(..., log=True) instead.\n",
      "  'reg_alpha': trial.suggest_loguniform('reg_alpha', 1e-9, 10.0),\n",
      "/Users/robertogarces/data-science/projects/real-state/notebooks/../utils/optimizer.py:19: FutureWarning: suggest_loguniform has been deprecated in v3.0.0. This feature will be removed in v6.0.0. See https://github.com/optuna/optuna/releases/tag/v3.0.0. Use suggest_float(..., log=True) instead.\n",
      "  'reg_lambda': trial.suggest_loguniform('reg_lambda', 1e-9, 10.0),\n",
      "[I 2023-12-25 12:13:20,039] Trial 12 finished with value: 770869612225.9965 and parameters: {'num_leaves': 16, 'learning_rate': 0.005289939622542876, 'feature_fraction': 0.43584339252454407, 'bagging_fraction': 0.10535528372097364, 'bagging_freq': 3, 'reg_alpha': 1.7469778283786226e-09, 'reg_lambda': 6.551757055619706e-06}. Best is trial 12 with value: 770869612225.9965.\n",
      "/Users/robertogarces/data-science/projects/real-state/notebooks/../utils/optimizer.py:14: FutureWarning: suggest_loguniform has been deprecated in v3.0.0. This feature will be removed in v6.0.0. See https://github.com/optuna/optuna/releases/tag/v3.0.0. Use suggest_float(..., log=True) instead.\n",
      "  'learning_rate': trial.suggest_loguniform('learning_rate', 0.005, 0.2),\n",
      "/Users/robertogarces/data-science/projects/real-state/notebooks/../utils/optimizer.py:15: FutureWarning: suggest_uniform has been deprecated in v3.0.0. This feature will be removed in v6.0.0. See https://github.com/optuna/optuna/releases/tag/v3.0.0. Use suggest_float instead.\n",
      "  'feature_fraction': trial.suggest_uniform('feature_fraction', 0.1, 1.0),\n",
      "/Users/robertogarces/data-science/projects/real-state/notebooks/../utils/optimizer.py:16: FutureWarning: suggest_uniform has been deprecated in v3.0.0. This feature will be removed in v6.0.0. See https://github.com/optuna/optuna/releases/tag/v3.0.0. Use suggest_float instead.\n",
      "  'bagging_fraction': trial.suggest_uniform('bagging_fraction', 0.1, 1.0),\n",
      "/Users/robertogarces/data-science/projects/real-state/notebooks/../utils/optimizer.py:18: FutureWarning: suggest_loguniform has been deprecated in v3.0.0. This feature will be removed in v6.0.0. See https://github.com/optuna/optuna/releases/tag/v3.0.0. Use suggest_float(..., log=True) instead.\n",
      "  'reg_alpha': trial.suggest_loguniform('reg_alpha', 1e-9, 10.0),\n",
      "/Users/robertogarces/data-science/projects/real-state/notebooks/../utils/optimizer.py:19: FutureWarning: suggest_loguniform has been deprecated in v3.0.0. This feature will be removed in v6.0.0. See https://github.com/optuna/optuna/releases/tag/v3.0.0. Use suggest_float(..., log=True) instead.\n",
      "  'reg_lambda': trial.suggest_loguniform('reg_lambda', 1e-9, 10.0),\n",
      "[I 2023-12-25 12:13:26,163] Trial 13 finished with value: 801333223423.7461 and parameters: {'num_leaves': 60, 'learning_rate': 0.051327619030670714, 'feature_fraction': 0.5041934452300475, 'bagging_fraction': 0.1493439668670589, 'bagging_freq': 3, 'reg_alpha': 1.3445065879284302e-09, 'reg_lambda': 1.1550968427586502e-05}. Best is trial 12 with value: 770869612225.9965.\n",
      "/Users/robertogarces/data-science/projects/real-state/notebooks/../utils/optimizer.py:14: FutureWarning: suggest_loguniform has been deprecated in v3.0.0. This feature will be removed in v6.0.0. See https://github.com/optuna/optuna/releases/tag/v3.0.0. Use suggest_float(..., log=True) instead.\n",
      "  'learning_rate': trial.suggest_loguniform('learning_rate', 0.005, 0.2),\n",
      "/Users/robertogarces/data-science/projects/real-state/notebooks/../utils/optimizer.py:15: FutureWarning: suggest_uniform has been deprecated in v3.0.0. This feature will be removed in v6.0.0. See https://github.com/optuna/optuna/releases/tag/v3.0.0. Use suggest_float instead.\n",
      "  'feature_fraction': trial.suggest_uniform('feature_fraction', 0.1, 1.0),\n",
      "/Users/robertogarces/data-science/projects/real-state/notebooks/../utils/optimizer.py:16: FutureWarning: suggest_uniform has been deprecated in v3.0.0. This feature will be removed in v6.0.0. See https://github.com/optuna/optuna/releases/tag/v3.0.0. Use suggest_float instead.\n",
      "  'bagging_fraction': trial.suggest_uniform('bagging_fraction', 0.1, 1.0),\n",
      "/Users/robertogarces/data-science/projects/real-state/notebooks/../utils/optimizer.py:18: FutureWarning: suggest_loguniform has been deprecated in v3.0.0. This feature will be removed in v6.0.0. See https://github.com/optuna/optuna/releases/tag/v3.0.0. Use suggest_float(..., log=True) instead.\n",
      "  'reg_alpha': trial.suggest_loguniform('reg_alpha', 1e-9, 10.0),\n",
      "/Users/robertogarces/data-science/projects/real-state/notebooks/../utils/optimizer.py:19: FutureWarning: suggest_loguniform has been deprecated in v3.0.0. This feature will be removed in v6.0.0. See https://github.com/optuna/optuna/releases/tag/v3.0.0. Use suggest_float(..., log=True) instead.\n",
      "  'reg_lambda': trial.suggest_loguniform('reg_lambda', 1e-9, 10.0),\n",
      "[I 2023-12-25 12:13:32,338] Trial 14 finished with value: 771272333994.7152 and parameters: {'num_leaves': 74, 'learning_rate': 0.005321594881274084, 'feature_fraction': 0.5249218065937143, 'bagging_fraction': 0.1015411663581818, 'bagging_freq': 3, 'reg_alpha': 2.3047997897309694e-06, 'reg_lambda': 3.2008202176566173e-06}. Best is trial 12 with value: 770869612225.9965.\n",
      "/Users/robertogarces/data-science/projects/real-state/notebooks/../utils/optimizer.py:14: FutureWarning: suggest_loguniform has been deprecated in v3.0.0. This feature will be removed in v6.0.0. See https://github.com/optuna/optuna/releases/tag/v3.0.0. Use suggest_float(..., log=True) instead.\n",
      "  'learning_rate': trial.suggest_loguniform('learning_rate', 0.005, 0.2),\n",
      "/Users/robertogarces/data-science/projects/real-state/notebooks/../utils/optimizer.py:15: FutureWarning: suggest_uniform has been deprecated in v3.0.0. This feature will be removed in v6.0.0. See https://github.com/optuna/optuna/releases/tag/v3.0.0. Use suggest_float instead.\n",
      "  'feature_fraction': trial.suggest_uniform('feature_fraction', 0.1, 1.0),\n",
      "/Users/robertogarces/data-science/projects/real-state/notebooks/../utils/optimizer.py:16: FutureWarning: suggest_uniform has been deprecated in v3.0.0. This feature will be removed in v6.0.0. See https://github.com/optuna/optuna/releases/tag/v3.0.0. Use suggest_float instead.\n",
      "  'bagging_fraction': trial.suggest_uniform('bagging_fraction', 0.1, 1.0),\n",
      "/Users/robertogarces/data-science/projects/real-state/notebooks/../utils/optimizer.py:18: FutureWarning: suggest_loguniform has been deprecated in v3.0.0. This feature will be removed in v6.0.0. See https://github.com/optuna/optuna/releases/tag/v3.0.0. Use suggest_float(..., log=True) instead.\n",
      "  'reg_alpha': trial.suggest_loguniform('reg_alpha', 1e-9, 10.0),\n",
      "/Users/robertogarces/data-science/projects/real-state/notebooks/../utils/optimizer.py:19: FutureWarning: suggest_loguniform has been deprecated in v3.0.0. This feature will be removed in v6.0.0. See https://github.com/optuna/optuna/releases/tag/v3.0.0. Use suggest_float(..., log=True) instead.\n",
      "  'reg_lambda': trial.suggest_loguniform('reg_lambda', 1e-9, 10.0),\n",
      "[I 2023-12-25 12:13:38,307] Trial 15 finished with value: 774338105995.4099 and parameters: {'num_leaves': 65, 'learning_rate': 0.017419509925480504, 'feature_fraction': 0.3278962535211777, 'bagging_fraction': 0.4243729558114051, 'bagging_freq': 3, 'reg_alpha': 0.007712676668479035, 'reg_lambda': 9.04050639050749e-05}. Best is trial 12 with value: 770869612225.9965.\n",
      "/Users/robertogarces/data-science/projects/real-state/notebooks/../utils/optimizer.py:14: FutureWarning: suggest_loguniform has been deprecated in v3.0.0. This feature will be removed in v6.0.0. See https://github.com/optuna/optuna/releases/tag/v3.0.0. Use suggest_float(..., log=True) instead.\n",
      "  'learning_rate': trial.suggest_loguniform('learning_rate', 0.005, 0.2),\n",
      "/Users/robertogarces/data-science/projects/real-state/notebooks/../utils/optimizer.py:15: FutureWarning: suggest_uniform has been deprecated in v3.0.0. This feature will be removed in v6.0.0. See https://github.com/optuna/optuna/releases/tag/v3.0.0. Use suggest_float instead.\n",
      "  'feature_fraction': trial.suggest_uniform('feature_fraction', 0.1, 1.0),\n",
      "/Users/robertogarces/data-science/projects/real-state/notebooks/../utils/optimizer.py:16: FutureWarning: suggest_uniform has been deprecated in v3.0.0. This feature will be removed in v6.0.0. See https://github.com/optuna/optuna/releases/tag/v3.0.0. Use suggest_float instead.\n",
      "  'bagging_fraction': trial.suggest_uniform('bagging_fraction', 0.1, 1.0),\n",
      "/Users/robertogarces/data-science/projects/real-state/notebooks/../utils/optimizer.py:18: FutureWarning: suggest_loguniform has been deprecated in v3.0.0. This feature will be removed in v6.0.0. See https://github.com/optuna/optuna/releases/tag/v3.0.0. Use suggest_float(..., log=True) instead.\n",
      "  'reg_alpha': trial.suggest_loguniform('reg_alpha', 1e-9, 10.0),\n",
      "/Users/robertogarces/data-science/projects/real-state/notebooks/../utils/optimizer.py:19: FutureWarning: suggest_loguniform has been deprecated in v3.0.0. This feature will be removed in v6.0.0. See https://github.com/optuna/optuna/releases/tag/v3.0.0. Use suggest_float(..., log=True) instead.\n",
      "  'reg_lambda': trial.suggest_loguniform('reg_lambda', 1e-9, 10.0),\n",
      "[I 2023-12-25 12:13:39,486] Trial 16 finished with value: 773933489230.1951 and parameters: {'num_leaves': 10, 'learning_rate': 0.04337317981285851, 'feature_fraction': 0.16917399942820277, 'bagging_fraction': 0.23270877240179993, 'bagging_freq': 4, 'reg_alpha': 1.6707460426355963e-08, 'reg_lambda': 2.454200505833633e-07}. Best is trial 12 with value: 770869612225.9965.\n",
      "/Users/robertogarces/data-science/projects/real-state/notebooks/../utils/optimizer.py:14: FutureWarning: suggest_loguniform has been deprecated in v3.0.0. This feature will be removed in v6.0.0. See https://github.com/optuna/optuna/releases/tag/v3.0.0. Use suggest_float(..., log=True) instead.\n",
      "  'learning_rate': trial.suggest_loguniform('learning_rate', 0.005, 0.2),\n",
      "/Users/robertogarces/data-science/projects/real-state/notebooks/../utils/optimizer.py:15: FutureWarning: suggest_uniform has been deprecated in v3.0.0. This feature will be removed in v6.0.0. See https://github.com/optuna/optuna/releases/tag/v3.0.0. Use suggest_float instead.\n",
      "  'feature_fraction': trial.suggest_uniform('feature_fraction', 0.1, 1.0),\n",
      "/Users/robertogarces/data-science/projects/real-state/notebooks/../utils/optimizer.py:16: FutureWarning: suggest_uniform has been deprecated in v3.0.0. This feature will be removed in v6.0.0. See https://github.com/optuna/optuna/releases/tag/v3.0.0. Use suggest_float instead.\n",
      "  'bagging_fraction': trial.suggest_uniform('bagging_fraction', 0.1, 1.0),\n",
      "/Users/robertogarces/data-science/projects/real-state/notebooks/../utils/optimizer.py:18: FutureWarning: suggest_loguniform has been deprecated in v3.0.0. This feature will be removed in v6.0.0. See https://github.com/optuna/optuna/releases/tag/v3.0.0. Use suggest_float(..., log=True) instead.\n",
      "  'reg_alpha': trial.suggest_loguniform('reg_alpha', 1e-9, 10.0),\n",
      "/Users/robertogarces/data-science/projects/real-state/notebooks/../utils/optimizer.py:19: FutureWarning: suggest_loguniform has been deprecated in v3.0.0. This feature will be removed in v6.0.0. See https://github.com/optuna/optuna/releases/tag/v3.0.0. Use suggest_float(..., log=True) instead.\n",
      "  'reg_lambda': trial.suggest_loguniform('reg_lambda', 1e-9, 10.0),\n",
      "[I 2023-12-25 12:13:48,289] Trial 17 finished with value: 771965861043.1182 and parameters: {'num_leaves': 93, 'learning_rate': 0.00708302093322406, 'feature_fraction': 0.4334881353208556, 'bagging_fraction': 0.4313049015858248, 'bagging_freq': 4, 'reg_alpha': 1.9266711873678506e-06, 'reg_lambda': 0.020910828125438728}. Best is trial 12 with value: 770869612225.9965.\n",
      "/Users/robertogarces/data-science/projects/real-state/notebooks/../utils/optimizer.py:14: FutureWarning: suggest_loguniform has been deprecated in v3.0.0. This feature will be removed in v6.0.0. See https://github.com/optuna/optuna/releases/tag/v3.0.0. Use suggest_float(..., log=True) instead.\n",
      "  'learning_rate': trial.suggest_loguniform('learning_rate', 0.005, 0.2),\n",
      "/Users/robertogarces/data-science/projects/real-state/notebooks/../utils/optimizer.py:15: FutureWarning: suggest_uniform has been deprecated in v3.0.0. This feature will be removed in v6.0.0. See https://github.com/optuna/optuna/releases/tag/v3.0.0. Use suggest_float instead.\n",
      "  'feature_fraction': trial.suggest_uniform('feature_fraction', 0.1, 1.0),\n",
      "/Users/robertogarces/data-science/projects/real-state/notebooks/../utils/optimizer.py:16: FutureWarning: suggest_uniform has been deprecated in v3.0.0. This feature will be removed in v6.0.0. See https://github.com/optuna/optuna/releases/tag/v3.0.0. Use suggest_float instead.\n",
      "  'bagging_fraction': trial.suggest_uniform('bagging_fraction', 0.1, 1.0),\n",
      "/Users/robertogarces/data-science/projects/real-state/notebooks/../utils/optimizer.py:18: FutureWarning: suggest_loguniform has been deprecated in v3.0.0. This feature will be removed in v6.0.0. See https://github.com/optuna/optuna/releases/tag/v3.0.0. Use suggest_float(..., log=True) instead.\n",
      "  'reg_alpha': trial.suggest_loguniform('reg_alpha', 1e-9, 10.0),\n",
      "/Users/robertogarces/data-science/projects/real-state/notebooks/../utils/optimizer.py:19: FutureWarning: suggest_loguniform has been deprecated in v3.0.0. This feature will be removed in v6.0.0. See https://github.com/optuna/optuna/releases/tag/v3.0.0. Use suggest_float(..., log=True) instead.\n",
      "  'reg_lambda': trial.suggest_loguniform('reg_lambda', 1e-9, 10.0),\n",
      "[I 2023-12-25 12:13:52,473] Trial 18 finished with value: 774521033279.6111 and parameters: {'num_leaves': 43, 'learning_rate': 0.01641246815510558, 'feature_fraction': 0.6014082403620742, 'bagging_fraction': 0.19250625168053656, 'bagging_freq': 2, 'reg_alpha': 1.280368947742497e-08, 'reg_lambda': 3.698437095445231e-05}. Best is trial 12 with value: 770869612225.9965.\n",
      "/Users/robertogarces/data-science/projects/real-state/notebooks/../utils/optimizer.py:14: FutureWarning: suggest_loguniform has been deprecated in v3.0.0. This feature will be removed in v6.0.0. See https://github.com/optuna/optuna/releases/tag/v3.0.0. Use suggest_float(..., log=True) instead.\n",
      "  'learning_rate': trial.suggest_loguniform('learning_rate', 0.005, 0.2),\n",
      "/Users/robertogarces/data-science/projects/real-state/notebooks/../utils/optimizer.py:15: FutureWarning: suggest_uniform has been deprecated in v3.0.0. This feature will be removed in v6.0.0. See https://github.com/optuna/optuna/releases/tag/v3.0.0. Use suggest_float instead.\n",
      "  'feature_fraction': trial.suggest_uniform('feature_fraction', 0.1, 1.0),\n",
      "/Users/robertogarces/data-science/projects/real-state/notebooks/../utils/optimizer.py:16: FutureWarning: suggest_uniform has been deprecated in v3.0.0. This feature will be removed in v6.0.0. See https://github.com/optuna/optuna/releases/tag/v3.0.0. Use suggest_float instead.\n",
      "  'bagging_fraction': trial.suggest_uniform('bagging_fraction', 0.1, 1.0),\n",
      "/Users/robertogarces/data-science/projects/real-state/notebooks/../utils/optimizer.py:18: FutureWarning: suggest_loguniform has been deprecated in v3.0.0. This feature will be removed in v6.0.0. See https://github.com/optuna/optuna/releases/tag/v3.0.0. Use suggest_float(..., log=True) instead.\n",
      "  'reg_alpha': trial.suggest_loguniform('reg_alpha', 1e-9, 10.0),\n",
      "/Users/robertogarces/data-science/projects/real-state/notebooks/../utils/optimizer.py:19: FutureWarning: suggest_loguniform has been deprecated in v3.0.0. This feature will be removed in v6.0.0. See https://github.com/optuna/optuna/releases/tag/v3.0.0. Use suggest_float(..., log=True) instead.\n",
      "  'reg_lambda': trial.suggest_loguniform('reg_lambda', 1e-9, 10.0),\n",
      "[I 2023-12-25 12:13:59,627] Trial 19 finished with value: 771982798462.04 and parameters: {'num_leaves': 93, 'learning_rate': 0.006886258584634459, 'feature_fraction': 0.22948604212585721, 'bagging_fraction': 0.35020041751376313, 'bagging_freq': 5, 'reg_alpha': 0.0018878159007349542, 'reg_lambda': 6.897247981552908e-07}. Best is trial 12 with value: 770869612225.9965.\n",
      "/Users/robertogarces/data-science/projects/real-state/notebooks/../utils/optimizer.py:14: FutureWarning: suggest_loguniform has been deprecated in v3.0.0. This feature will be removed in v6.0.0. See https://github.com/optuna/optuna/releases/tag/v3.0.0. Use suggest_float(..., log=True) instead.\n",
      "  'learning_rate': trial.suggest_loguniform('learning_rate', 0.005, 0.2),\n",
      "/Users/robertogarces/data-science/projects/real-state/notebooks/../utils/optimizer.py:15: FutureWarning: suggest_uniform has been deprecated in v3.0.0. This feature will be removed in v6.0.0. See https://github.com/optuna/optuna/releases/tag/v3.0.0. Use suggest_float instead.\n",
      "  'feature_fraction': trial.suggest_uniform('feature_fraction', 0.1, 1.0),\n",
      "/Users/robertogarces/data-science/projects/real-state/notebooks/../utils/optimizer.py:16: FutureWarning: suggest_uniform has been deprecated in v3.0.0. This feature will be removed in v6.0.0. See https://github.com/optuna/optuna/releases/tag/v3.0.0. Use suggest_float instead.\n",
      "  'bagging_fraction': trial.suggest_uniform('bagging_fraction', 0.1, 1.0),\n",
      "/Users/robertogarces/data-science/projects/real-state/notebooks/../utils/optimizer.py:18: FutureWarning: suggest_loguniform has been deprecated in v3.0.0. This feature will be removed in v6.0.0. See https://github.com/optuna/optuna/releases/tag/v3.0.0. Use suggest_float(..., log=True) instead.\n",
      "  'reg_alpha': trial.suggest_loguniform('reg_alpha', 1e-9, 10.0),\n",
      "/Users/robertogarces/data-science/projects/real-state/notebooks/../utils/optimizer.py:19: FutureWarning: suggest_loguniform has been deprecated in v3.0.0. This feature will be removed in v6.0.0. See https://github.com/optuna/optuna/releases/tag/v3.0.0. Use suggest_float(..., log=True) instead.\n",
      "  'reg_lambda': trial.suggest_loguniform('reg_lambda', 1e-9, 10.0),\n",
      "[I 2023-12-25 12:14:02,871] Trial 20 finished with value: 772042186192.4688 and parameters: {'num_leaves': 30, 'learning_rate': 0.013447878896331984, 'feature_fraction': 0.3979783384154818, 'bagging_fraction': 0.47973204880341064, 'bagging_freq': 2, 'reg_alpha': 1.1015547477907634e-09, 'reg_lambda': 0.03869535192279226}. Best is trial 12 with value: 770869612225.9965.\n",
      "/Users/robertogarces/data-science/projects/real-state/notebooks/../utils/optimizer.py:14: FutureWarning: suggest_loguniform has been deprecated in v3.0.0. This feature will be removed in v6.0.0. See https://github.com/optuna/optuna/releases/tag/v3.0.0. Use suggest_float(..., log=True) instead.\n",
      "  'learning_rate': trial.suggest_loguniform('learning_rate', 0.005, 0.2),\n",
      "/Users/robertogarces/data-science/projects/real-state/notebooks/../utils/optimizer.py:15: FutureWarning: suggest_uniform has been deprecated in v3.0.0. This feature will be removed in v6.0.0. See https://github.com/optuna/optuna/releases/tag/v3.0.0. Use suggest_float instead.\n",
      "  'feature_fraction': trial.suggest_uniform('feature_fraction', 0.1, 1.0),\n",
      "/Users/robertogarces/data-science/projects/real-state/notebooks/../utils/optimizer.py:16: FutureWarning: suggest_uniform has been deprecated in v3.0.0. This feature will be removed in v6.0.0. See https://github.com/optuna/optuna/releases/tag/v3.0.0. Use suggest_float instead.\n",
      "  'bagging_fraction': trial.suggest_uniform('bagging_fraction', 0.1, 1.0),\n",
      "/Users/robertogarces/data-science/projects/real-state/notebooks/../utils/optimizer.py:18: FutureWarning: suggest_loguniform has been deprecated in v3.0.0. This feature will be removed in v6.0.0. See https://github.com/optuna/optuna/releases/tag/v3.0.0. Use suggest_float(..., log=True) instead.\n",
      "  'reg_alpha': trial.suggest_loguniform('reg_alpha', 1e-9, 10.0),\n",
      "/Users/robertogarces/data-science/projects/real-state/notebooks/../utils/optimizer.py:19: FutureWarning: suggest_loguniform has been deprecated in v3.0.0. This feature will be removed in v6.0.0. See https://github.com/optuna/optuna/releases/tag/v3.0.0. Use suggest_float(..., log=True) instead.\n",
      "  'reg_lambda': trial.suggest_loguniform('reg_lambda', 1e-9, 10.0),\n",
      "[I 2023-12-25 12:14:06,552] Trial 21 finished with value: 771024053962.3921 and parameters: {'num_leaves': 34, 'learning_rate': 0.005003481096852546, 'feature_fraction': 0.45526385608674524, 'bagging_fraction': 0.3065501146155022, 'bagging_freq': 1, 'reg_alpha': 1.3695479629982467e-09, 'reg_lambda': 3.3783727149224236e-06}. Best is trial 12 with value: 770869612225.9965.\n",
      "/Users/robertogarces/data-science/projects/real-state/notebooks/../utils/optimizer.py:14: FutureWarning: suggest_loguniform has been deprecated in v3.0.0. This feature will be removed in v6.0.0. See https://github.com/optuna/optuna/releases/tag/v3.0.0. Use suggest_float(..., log=True) instead.\n",
      "  'learning_rate': trial.suggest_loguniform('learning_rate', 0.005, 0.2),\n",
      "/Users/robertogarces/data-science/projects/real-state/notebooks/../utils/optimizer.py:15: FutureWarning: suggest_uniform has been deprecated in v3.0.0. This feature will be removed in v6.0.0. See https://github.com/optuna/optuna/releases/tag/v3.0.0. Use suggest_float instead.\n",
      "  'feature_fraction': trial.suggest_uniform('feature_fraction', 0.1, 1.0),\n",
      "/Users/robertogarces/data-science/projects/real-state/notebooks/../utils/optimizer.py:16: FutureWarning: suggest_uniform has been deprecated in v3.0.0. This feature will be removed in v6.0.0. See https://github.com/optuna/optuna/releases/tag/v3.0.0. Use suggest_float instead.\n",
      "  'bagging_fraction': trial.suggest_uniform('bagging_fraction', 0.1, 1.0),\n",
      "/Users/robertogarces/data-science/projects/real-state/notebooks/../utils/optimizer.py:18: FutureWarning: suggest_loguniform has been deprecated in v3.0.0. This feature will be removed in v6.0.0. See https://github.com/optuna/optuna/releases/tag/v3.0.0. Use suggest_float(..., log=True) instead.\n",
      "  'reg_alpha': trial.suggest_loguniform('reg_alpha', 1e-9, 10.0),\n",
      "/Users/robertogarces/data-science/projects/real-state/notebooks/../utils/optimizer.py:19: FutureWarning: suggest_loguniform has been deprecated in v3.0.0. This feature will be removed in v6.0.0. See https://github.com/optuna/optuna/releases/tag/v3.0.0. Use suggest_float(..., log=True) instead.\n",
      "  'reg_lambda': trial.suggest_loguniform('reg_lambda', 1e-9, 10.0),\n",
      "[I 2023-12-25 12:14:07,352] Trial 22 finished with value: 770795364672.4878 and parameters: {'num_leaves': 5, 'learning_rate': 0.0051923421127367106, 'feature_fraction': 0.5085503634737887, 'bagging_fraction': 0.1046326510986722, 'bagging_freq': 2, 'reg_alpha': 1.0544099127340841e-07, 'reg_lambda': 0.0001607999084498448}. Best is trial 22 with value: 770795364672.4878.\n",
      "/Users/robertogarces/data-science/projects/real-state/notebooks/../utils/optimizer.py:14: FutureWarning: suggest_loguniform has been deprecated in v3.0.0. This feature will be removed in v6.0.0. See https://github.com/optuna/optuna/releases/tag/v3.0.0. Use suggest_float(..., log=True) instead.\n",
      "  'learning_rate': trial.suggest_loguniform('learning_rate', 0.005, 0.2),\n",
      "/Users/robertogarces/data-science/projects/real-state/notebooks/../utils/optimizer.py:15: FutureWarning: suggest_uniform has been deprecated in v3.0.0. This feature will be removed in v6.0.0. See https://github.com/optuna/optuna/releases/tag/v3.0.0. Use suggest_float instead.\n",
      "  'feature_fraction': trial.suggest_uniform('feature_fraction', 0.1, 1.0),\n",
      "/Users/robertogarces/data-science/projects/real-state/notebooks/../utils/optimizer.py:16: FutureWarning: suggest_uniform has been deprecated in v3.0.0. This feature will be removed in v6.0.0. See https://github.com/optuna/optuna/releases/tag/v3.0.0. Use suggest_float instead.\n",
      "  'bagging_fraction': trial.suggest_uniform('bagging_fraction', 0.1, 1.0),\n",
      "/Users/robertogarces/data-science/projects/real-state/notebooks/../utils/optimizer.py:18: FutureWarning: suggest_loguniform has been deprecated in v3.0.0. This feature will be removed in v6.0.0. See https://github.com/optuna/optuna/releases/tag/v3.0.0. Use suggest_float(..., log=True) instead.\n",
      "  'reg_alpha': trial.suggest_loguniform('reg_alpha', 1e-9, 10.0),\n",
      "/Users/robertogarces/data-science/projects/real-state/notebooks/../utils/optimizer.py:19: FutureWarning: suggest_loguniform has been deprecated in v3.0.0. This feature will be removed in v6.0.0. See https://github.com/optuna/optuna/releases/tag/v3.0.0. Use suggest_float(..., log=True) instead.\n",
      "  'reg_lambda': trial.suggest_loguniform('reg_lambda', 1e-9, 10.0),\n",
      "[I 2023-12-25 12:14:08,902] Trial 23 finished with value: 771385209562.8008 and parameters: {'num_leaves': 11, 'learning_rate': 0.011283384282987722, 'feature_fraction': 0.5512765642289232, 'bagging_fraction': 0.988247520524403, 'bagging_freq': 2, 'reg_alpha': 1.660669305764695e-07, 'reg_lambda': 0.0004473349613481622}. Best is trial 22 with value: 770795364672.4878.\n",
      "/Users/robertogarces/data-science/projects/real-state/notebooks/../utils/optimizer.py:14: FutureWarning: suggest_loguniform has been deprecated in v3.0.0. This feature will be removed in v6.0.0. See https://github.com/optuna/optuna/releases/tag/v3.0.0. Use suggest_float(..., log=True) instead.\n",
      "  'learning_rate': trial.suggest_loguniform('learning_rate', 0.005, 0.2),\n",
      "/Users/robertogarces/data-science/projects/real-state/notebooks/../utils/optimizer.py:15: FutureWarning: suggest_uniform has been deprecated in v3.0.0. This feature will be removed in v6.0.0. See https://github.com/optuna/optuna/releases/tag/v3.0.0. Use suggest_float instead.\n",
      "  'feature_fraction': trial.suggest_uniform('feature_fraction', 0.1, 1.0),\n",
      "/Users/robertogarces/data-science/projects/real-state/notebooks/../utils/optimizer.py:16: FutureWarning: suggest_uniform has been deprecated in v3.0.0. This feature will be removed in v6.0.0. See https://github.com/optuna/optuna/releases/tag/v3.0.0. Use suggest_float instead.\n",
      "  'bagging_fraction': trial.suggest_uniform('bagging_fraction', 0.1, 1.0),\n",
      "/Users/robertogarces/data-science/projects/real-state/notebooks/../utils/optimizer.py:18: FutureWarning: suggest_loguniform has been deprecated in v3.0.0. This feature will be removed in v6.0.0. See https://github.com/optuna/optuna/releases/tag/v3.0.0. Use suggest_float(..., log=True) instead.\n",
      "  'reg_alpha': trial.suggest_loguniform('reg_alpha', 1e-9, 10.0),\n",
      "/Users/robertogarces/data-science/projects/real-state/notebooks/../utils/optimizer.py:19: FutureWarning: suggest_loguniform has been deprecated in v3.0.0. This feature will be removed in v6.0.0. See https://github.com/optuna/optuna/releases/tag/v3.0.0. Use suggest_float(..., log=True) instead.\n",
      "  'reg_lambda': trial.suggest_loguniform('reg_lambda', 1e-9, 10.0),\n",
      "[I 2023-12-25 12:14:12,416] Trial 24 finished with value: 771597840865.9291 and parameters: {'num_leaves': 29, 'learning_rate': 0.00692269382726294, 'feature_fraction': 0.5215199089206191, 'bagging_fraction': 0.11762785890339154, 'bagging_freq': 4, 'reg_alpha': 1.283329440989618e-08, 'reg_lambda': 8.55847161327044e-07}. Best is trial 22 with value: 770795364672.4878.\n"
     ]
    },
    {
     "name": "stdout",
     "output_type": "stream",
     "text": [
      "{'num_leaves': 5, 'learning_rate': 0.0051923421127367106, 'feature_fraction': 0.5085503634737887, 'bagging_fraction': 0.1046326510986722, 'bagging_freq': 2, 'reg_alpha': 1.0544099127340841e-07, 'reg_lambda': 0.0001607999084498448}\n"
     ]
    }
   ],
   "source": [
    "# Uso de la función\n",
    "# Supongamos que tienes un DataFrame df y el objetivo es predecir la columna 'target'\n",
    "best_params = optimize_lightgbm_params(train_transformed.drop(target, axis=1), df[target], n_trials=25)\n",
    "print(best_params)"
   ]
  },
  {
   "cell_type": "code",
   "execution_count": 20,
   "metadata": {},
   "outputs": [
    {
     "name": "stdout",
     "output_type": "stream",
     "text": [
      "[LightGBM] [Warning] bagging_freq is set=2, subsample_freq=0 will be ignored. Current value: bagging_freq=2\n",
      "[LightGBM] [Warning] feature_fraction is set=0.5085503634737887, colsample_bytree=1.0 will be ignored. Current value: feature_fraction=0.5085503634737887\n",
      "[LightGBM] [Warning] bagging_fraction is set=0.1046326510986722, subsample=1.0 will be ignored. Current value: bagging_fraction=0.1046326510986722\n",
      "[LightGBM] [Warning] bagging_freq is set=2, subsample_freq=0 will be ignored. Current value: bagging_freq=2\n",
      "[LightGBM] [Warning] feature_fraction is set=0.5085503634737887, colsample_bytree=1.0 will be ignored. Current value: feature_fraction=0.5085503634737887\n",
      "[LightGBM] [Warning] bagging_fraction is set=0.1046326510986722, subsample=1.0 will be ignored. Current value: bagging_fraction=0.1046326510986722\n",
      "[LightGBM] [Info] Auto-choosing row-wise multi-threading, the overhead of testing was 0.001241 seconds.\n",
      "You can set `force_row_wise=true` to remove the overhead.\n",
      "And if memory is not enough, you can set `force_col_wise=true`.\n",
      "[LightGBM] [Info] Total Bins 2679\n",
      "[LightGBM] [Info] Number of data points in the train set: 18844, number of used features: 22\n",
      "[LightGBM] [Info] Start training from score 947213.509340\n",
      "[LightGBM] [Warning] bagging_freq is set=2, subsample_freq=0 will be ignored. Current value: bagging_freq=2\n",
      "[LightGBM] [Warning] feature_fraction is set=0.5085503634737887, colsample_bytree=1.0 will be ignored. Current value: feature_fraction=0.5085503634737887\n",
      "[LightGBM] [Warning] bagging_fraction is set=0.1046326510986722, subsample=1.0 will be ignored. Current value: bagging_fraction=0.1046326510986722\n",
      "RMSE: 735493\n",
      "MSE : 540949990201\n",
      "MAE : 491266\n",
      "MeAE: 360476\n",
      "MAPE: 1\n",
      "R2  : 0.559\n"
     ]
    }
   ],
   "source": [
    "model = train_lightgbm_model(train_transformed, target, best_params)"
   ]
  },
  {
   "cell_type": "code",
   "execution_count": 21,
   "metadata": {},
   "outputs": [
    {
     "ename": "NameError",
     "evalue": "name 'X_test' is not defined",
     "output_type": "error",
     "traceback": [
      "\u001b[0;31m---------------------------------------------------------------------------\u001b[0m",
      "\u001b[0;31mNameError\u001b[0m                                 Traceback (most recent call last)",
      "\u001b[1;32m/Users/robertogarces/data-science/projects/real-state/notebooks/pipeline.ipynb Cell 22\u001b[0m line \u001b[0;36m1\n\u001b[0;32m----> <a href='vscode-notebook-cell:/Users/robertogarces/data-science/projects/real-state/notebooks/pipeline.ipynb#X32sZmlsZQ%3D%3D?line=0'>1</a>\u001b[0m test_preds \u001b[39m=\u001b[39m model\u001b[39m.\u001b[39mpredict(X_test)\n\u001b[1;32m      <a href='vscode-notebook-cell:/Users/robertogarces/data-science/projects/real-state/notebooks/pipeline.ipynb#X32sZmlsZQ%3D%3D?line=1'>2</a>\u001b[0m test_rmse \u001b[39m=\u001b[39m np\u001b[39m.\u001b[39msqrt(np\u001b[39m.\u001b[39mmean((test_actual \u001b[39m-\u001b[39m test_preds)\u001b[39m*\u001b[39m\u001b[39m*\u001b[39m\u001b[39m2\u001b[39m))\n\u001b[1;32m      <a href='vscode-notebook-cell:/Users/robertogarces/data-science/projects/real-state/notebooks/pipeline.ipynb#X32sZmlsZQ%3D%3D?line=2'>3</a>\u001b[0m test_mse \u001b[39m=\u001b[39m np\u001b[39m.\u001b[39mmean((test_actual \u001b[39m-\u001b[39m test_preds)\u001b[39m*\u001b[39m\u001b[39m*\u001b[39m\u001b[39m2\u001b[39m)\n",
      "\u001b[0;31mNameError\u001b[0m: name 'X_test' is not defined"
     ]
    }
   ],
   "source": [
    "test_preds = model.predict(X_test)\n",
    "test_rmse = np.sqrt(np.mean((test_actual - test_preds)**2))\n",
    "test_mse = np.mean((test_actual - test_preds)**2)\n",
    "test_mae = np.mean(np.abs(test_actual - test_preds))\n",
    "test_median_absolute_error = np.median(np.abs(test_actual - test_preds))\n",
    "test_r2 = np.corrcoef(test_actual, test_preds)[0, 1]**2\n",
    "\n",
    "print(f'RMSE: {int(test_rmse)}')\n",
    "print(f'MSE : {int(test_mse)}')\n",
    "print(f'MAE : {int(test_mae)}')\n",
    "print(f'MeAE: {int(test_median_absolute_error)}')\n",
    "print(f'R2  : {round(test_r2, 3)}')"
   ]
  },
  {
   "cell_type": "code",
   "execution_count": null,
   "metadata": {},
   "outputs": [],
   "source": []
  }
 ],
 "metadata": {
  "kernelspec": {
   "display_name": "venv",
   "language": "python",
   "name": "python3"
  },
  "language_info": {
   "codemirror_mode": {
    "name": "ipython",
    "version": 3
   },
   "file_extension": ".py",
   "mimetype": "text/x-python",
   "name": "python",
   "nbconvert_exporter": "python",
   "pygments_lexer": "ipython3",
   "version": "3.10.12"
  }
 },
 "nbformat": 4,
 "nbformat_minor": 2
}
