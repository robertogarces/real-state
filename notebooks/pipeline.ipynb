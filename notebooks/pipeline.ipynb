{
 "cells": [
  {
   "cell_type": "code",
   "execution_count": null,
   "metadata": {},
   "outputs": [],
   "source": [
    "import pandas as pd\n",
    "import sys \n",
    "sys.path.append('../')\n",
    "pd.set_option('display.max_columns', None)\n",
    "\n",
    "from utils.processing import *\n",
    "from utils.file_management import read_yaml\n",
    "from utils.train import train_lightgbm_model\n",
    "from utils.evaluation import mape_score\n",
    "from config.paths import CONFIG_PATH, PROCESSED_DATA_PATH\n",
    "from sklearn.pipeline import Pipeline\n",
    "from sklearn.preprocessing import FunctionTransformer\n",
    "from sklearn.model_selection import train_test_split\n",
    "\n",
    "import lightgbm as lgb"
   ]
  },
  {
   "cell_type": "code",
   "execution_count": 2,
   "metadata": {},
   "outputs": [
    {
     "name": "stdout",
     "output_type": "stream",
     "text": [
      "Successfully import /Users/robertogarces/data-science/projects/real-state/data/raw/RealEstate_California.csv\n"
     ]
    }
   ],
   "source": [
    "df = import_raw_dataset()\n",
    "features = read_yaml(f'{CONFIG_PATH}/features.yaml')"
   ]
  },
  {
   "cell_type": "code",
   "execution_count": 3,
   "metadata": {},
   "outputs": [
    {
     "data": {
      "text/plain": [
       "'price'"
      ]
     },
     "execution_count": 3,
     "metadata": {},
     "output_type": "execute_result"
    }
   ],
   "source": [
    "target = features['target'][0]\n",
    "target"
   ]
  },
  {
   "cell_type": "code",
   "execution_count": 4,
   "metadata": {},
   "outputs": [
    {
     "name": "stdout",
     "output_type": "stream",
     "text": [
      "29500.0 5500000.0\n"
     ]
    }
   ],
   "source": [
    "df = remove_duplicated_ids(df)\n",
    "df = remove_price_outliers(df, lower_bound=2.5, upper_bound=97.5)"
   ]
  },
  {
   "cell_type": "code",
   "execution_count": 5,
   "metadata": {},
   "outputs": [],
   "source": [
    "pctg_train = 0.8\n",
    "n_train = int(len(df) * pctg_train)\n",
    "train_idx = df.sample(n=n_train, random_state=42).index\n",
    "train = df.loc[train_idx]\n",
    "test = df.loc[~df.index.isin(train_idx)]"
   ]
  },
  {
   "cell_type": "code",
   "execution_count": 6,
   "metadata": {},
   "outputs": [
    {
     "data": {
      "text/plain": [
       "Int64Index([11623, 20094, 35289, 27607, 14422, 13527, 29286, 11156,  7968,\n",
       "            11055,\n",
       "            ...\n",
       "            11272, 25538, 13652,  6993,  3610, 26674, 17474,  7145, 28817,\n",
       "             7398],\n",
       "           dtype='int64', length=23556)"
      ]
     },
     "execution_count": 6,
     "metadata": {},
     "output_type": "execute_result"
    }
   ],
   "source": [
    "train_idx"
   ]
  },
  {
   "cell_type": "markdown",
   "metadata": {},
   "source": [
    "# Preprocessing"
   ]
  },
  {
   "cell_type": "code",
   "execution_count": 7,
   "metadata": {},
   "outputs": [],
   "source": [
    "transform_price_log = FunctionTransformer(transform_price_log, validate=False)\n",
    "transform_area_units = FunctionTransformer(transform_area_units, validate=False)\n",
    "categorize_bedrooms = FunctionTransformer(categorize_bedrooms, validate=False)\n",
    "categorize_bathrooms = FunctionTransformer(categorize_bathrooms, validate=False)\n",
    "categorize_yearBuilt = FunctionTransformer(categorize_yearBuilt, validate=False)\n",
    "remove_garageSpaces_outliers = FunctionTransformer(remove_garageSpaces_outliers, validate=False)\n",
    "map_levels = FunctionTransformer(map_levels, validate=False)\n",
    "process_homeType = FunctionTransformer(process_homeType, validate=False)\n",
    "impute_hasGarage = FunctionTransformer(impute_hasGarage, validate=False)\n",
    "city_median_price = FunctionTransformer(calculate_statistic, validate=False, kw_args={'feature': 'city', 'statistic': 'median'})\n",
    "city_mean_price = FunctionTransformer(calculate_statistic, validate=False, kw_args={'feature': 'city', 'statistic': 'mean'})\n",
    "county_median_price = FunctionTransformer(calculate_statistic, validate=False, kw_args={'feature': 'county', 'statistic': 'median'})\n",
    "county_mean_price = FunctionTransformer(calculate_statistic, validate=False, kw_args={'feature': 'county', 'statistic': 'mean'})\n",
    "_5_knn_median_price = FunctionTransformer(knn_property_price, validate=False, kw_args={'n_neighbors':5, 'statistic':'median'})\n",
    "_5_knn_mean_price = FunctionTransformer(knn_property_price, validate=False, kw_args={'n_neighbors':5, 'statistic':'mean'})\n",
    "_25_knn_median_price = FunctionTransformer(knn_property_price, validate=False, kw_args={'n_neighbors':25, 'statistic':'median'})\n",
    "_25_knn_mean_price = FunctionTransformer(knn_property_price, validate=False, kw_args={'n_neighbors':25, 'statistic':'mean'})\n",
    "encoding = FunctionTransformer(encode_categorical_variables, validate=False)\n",
    "drop_features = FunctionTransformer(drop_features, validate=False, kw_args={'target':target})"
   ]
  },
  {
   "cell_type": "code",
   "execution_count": 8,
   "metadata": {},
   "outputs": [],
   "source": [
    "preprocessing_steps = [\n",
    "    ('transform_price_log', transform_price_log),\n",
    "    ('transform_area_units', transform_area_units),\n",
    "    ('categorize_bedrooms', categorize_bedrooms),\n",
    "    ('categorize_bathrooms', categorize_bathrooms),\n",
    "    ('categorize_yearBuilt', categorize_yearBuilt),\n",
    "    ('remove_garageSpaces_outliers', remove_garageSpaces_outliers),\n",
    "    ('map_levels', map_levels),\n",
    "    ('process_homeType', process_homeType),\n",
    "    ('impute_hasGarage', impute_hasGarage),\n",
    "    ('city_median_price', city_median_price),\n",
    "    ('city_mean_price', city_mean_price),\n",
    "    ('county_median_price', county_median_price),\n",
    "    ('county_mean_price', county_mean_price),\n",
    "    ('5_knn_median_price', _5_knn_median_price),\n",
    "    ('5_knn_mean_price', _5_knn_mean_price),\n",
    "    ('25_knn_median_price', _25_knn_median_price),\n",
    "    ('25_knn_mean_price', _25_knn_mean_price),\n",
    "    ('encoding', encoding),\n",
    "    ('drop_features', drop_features)\n",
    "]"
   ]
  },
  {
   "cell_type": "markdown",
   "metadata": {},
   "source": [
    "# Pipelines"
   ]
  },
  {
   "cell_type": "code",
   "execution_count": 9,
   "metadata": {},
   "outputs": [],
   "source": [
    "# Definir la pipeline\n",
    "preprocessing_pipeline = Pipeline(preprocessing_steps)\n",
    "\n",
    "# Aplicar la pipeline a tus datos\n",
    "train_transformed = preprocessing_pipeline.fit_transform(train.copy())\n",
    "\n",
    "train_transformed.to_parquet(f'{PROCESSED_DATA_PATH}/transformed_dataset.parquet', index=False)"
   ]
  },
  {
   "cell_type": "markdown",
   "metadata": {},
   "source": [
    "# Modeling"
   ]
  },
  {
   "cell_type": "code",
   "execution_count": 10,
   "metadata": {},
   "outputs": [
    {
     "name": "stdout",
     "output_type": "stream",
     "text": [
      "[LightGBM] [Info] Auto-choosing row-wise multi-threading, the overhead of testing was 0.001976 seconds.\n",
      "You can set `force_row_wise=true` to remove the overhead.\n",
      "And if memory is not enough, you can set `force_col_wise=true`.\n",
      "[LightGBM] [Info] Total Bins 2679\n",
      "[LightGBM] [Info] Number of data points in the train set: 18844, number of used features: 22\n",
      "[LightGBM] [Info] Start training from score 947213.509340\n",
      "RMSE: 466212\n",
      "MSE : 217353982251\n",
      "MAE : 253510\n",
      "MeAE: 120081\n",
      "MAPE: 0\n",
      "R2  : 0.717\n"
     ]
    }
   ],
   "source": [
    "model = train_lightgbm_model(train_transformed, target)"
   ]
  },
  {
   "cell_type": "markdown",
   "metadata": {},
   "source": [
    "# Evaluate on testing"
   ]
  },
  {
   "cell_type": "code",
   "execution_count": 11,
   "metadata": {},
   "outputs": [],
   "source": [
    "test_transformed = preprocessing_pipeline.transform(test.copy())"
   ]
  },
  {
   "cell_type": "code",
   "execution_count": 12,
   "metadata": {},
   "outputs": [],
   "source": [
    "test_preds = model.predict(test_transformed.drop(columns='price'))\n",
    "test_actual = test_transformed['price']"
   ]
  },
  {
   "cell_type": "code",
   "execution_count": 13,
   "metadata": {},
   "outputs": [
    {
     "name": "stdout",
     "output_type": "stream",
     "text": [
      "RMSE: 488202\n",
      "MSE : 238341751162\n",
      "MAE : 300885\n",
      "MeAE: 174574\n",
      "MAPE: 0.798\n",
      "R2  : 0.701\n"
     ]
    }
   ],
   "source": [
    "test_rmse = np.sqrt(np.mean((test_actual - test_preds)**2))\n",
    "test_mse = np.mean((test_actual - test_preds)**2)\n",
    "test_mae = np.mean(np.abs(test_actual - test_preds))\n",
    "test_median_absolute_error = np.median(np.abs(test_actual - test_preds))\n",
    "test_mape = mape_score(test_actual, test_preds)\n",
    "test_r2 = np.corrcoef(test_actual, test_preds)[0, 1]**2\n",
    "\n",
    "print(f'RMSE: {int(test_rmse)}')\n",
    "print(f'MSE : {int(test_mse)}')\n",
    "print(f'MAE : {int(test_mae)}')\n",
    "print(f'MeAE: {int(test_median_absolute_error)}')\n",
    "print(f'MAPE: {round(test_mape, 3)}')\n",
    "print(f'R2  : {round(test_r2, 3)}')"
   ]
  },
  {
   "cell_type": "markdown",
   "metadata": {},
   "source": [
    "# Optuna"
   ]
  },
  {
   "cell_type": "code",
   "execution_count": 14,
   "metadata": {},
   "outputs": [],
   "source": [
    "from utils.optimizer import optimize_lightgbm_params\n",
    "from utils.train import train_lightgbm_model"
   ]
  },
  {
   "cell_type": "code",
   "execution_count": 15,
   "metadata": {},
   "outputs": [
    {
     "name": "stderr",
     "output_type": "stream",
     "text": [
      "[I 2024-01-03 16:12:33,500] A new study created in memory with name: no-name-1dcf19ec-2b8d-4230-826e-c8c46b8977c3\n",
      "/Users/robertogarces/data-science/projects/real-state/notebooks/../utils/optimizer.py:14: FutureWarning: suggest_loguniform has been deprecated in v3.0.0. This feature will be removed in v6.0.0. See https://github.com/optuna/optuna/releases/tag/v3.0.0. Use suggest_float(..., log=True) instead.\n",
      "  'learning_rate': trial.suggest_loguniform('learning_rate', 0.005, 0.2),\n",
      "/Users/robertogarces/data-science/projects/real-state/notebooks/../utils/optimizer.py:15: FutureWarning: suggest_uniform has been deprecated in v3.0.0. This feature will be removed in v6.0.0. See https://github.com/optuna/optuna/releases/tag/v3.0.0. Use suggest_float instead.\n",
      "  'feature_fraction': trial.suggest_uniform('feature_fraction', 0.1, 1.0),\n",
      "/Users/robertogarces/data-science/projects/real-state/notebooks/../utils/optimizer.py:16: FutureWarning: suggest_uniform has been deprecated in v3.0.0. This feature will be removed in v6.0.0. See https://github.com/optuna/optuna/releases/tag/v3.0.0. Use suggest_float instead.\n",
      "  'bagging_fraction': trial.suggest_uniform('bagging_fraction', 0.1, 1.0),\n",
      "/Users/robertogarces/data-science/projects/real-state/notebooks/../utils/optimizer.py:18: FutureWarning: suggest_loguniform has been deprecated in v3.0.0. This feature will be removed in v6.0.0. See https://github.com/optuna/optuna/releases/tag/v3.0.0. Use suggest_float(..., log=True) instead.\n",
      "  'reg_alpha': trial.suggest_loguniform('reg_alpha', 1e-9, 10.0),\n",
      "/Users/robertogarces/data-science/projects/real-state/notebooks/../utils/optimizer.py:19: FutureWarning: suggest_loguniform has been deprecated in v3.0.0. This feature will be removed in v6.0.0. See https://github.com/optuna/optuna/releases/tag/v3.0.0. Use suggest_float(..., log=True) instead.\n",
      "  'reg_lambda': trial.suggest_loguniform('reg_lambda', 1e-9, 10.0),\n",
      "[I 2024-01-03 16:13:00,436] Trial 0 finished with value: 777338484113.9822 and parameters: {'num_leaves': 220, 'learning_rate': 0.017136310694721785, 'feature_fraction': 0.18170982265262337, 'bagging_fraction': 0.5130962283448438, 'bagging_freq': 3, 'reg_alpha': 0.0010983976345443557, 'reg_lambda': 0.0345532459300555}. Best is trial 0 with value: 777338484113.9822.\n",
      "/Users/robertogarces/data-science/projects/real-state/notebooks/../utils/optimizer.py:14: FutureWarning: suggest_loguniform has been deprecated in v3.0.0. This feature will be removed in v6.0.0. See https://github.com/optuna/optuna/releases/tag/v3.0.0. Use suggest_float(..., log=True) instead.\n",
      "  'learning_rate': trial.suggest_loguniform('learning_rate', 0.005, 0.2),\n",
      "/Users/robertogarces/data-science/projects/real-state/notebooks/../utils/optimizer.py:15: FutureWarning: suggest_uniform has been deprecated in v3.0.0. This feature will be removed in v6.0.0. See https://github.com/optuna/optuna/releases/tag/v3.0.0. Use suggest_float instead.\n",
      "  'feature_fraction': trial.suggest_uniform('feature_fraction', 0.1, 1.0),\n",
      "/Users/robertogarces/data-science/projects/real-state/notebooks/../utils/optimizer.py:16: FutureWarning: suggest_uniform has been deprecated in v3.0.0. This feature will be removed in v6.0.0. See https://github.com/optuna/optuna/releases/tag/v3.0.0. Use suggest_float instead.\n",
      "  'bagging_fraction': trial.suggest_uniform('bagging_fraction', 0.1, 1.0),\n",
      "/Users/robertogarces/data-science/projects/real-state/notebooks/../utils/optimizer.py:18: FutureWarning: suggest_loguniform has been deprecated in v3.0.0. This feature will be removed in v6.0.0. See https://github.com/optuna/optuna/releases/tag/v3.0.0. Use suggest_float(..., log=True) instead.\n",
      "  'reg_alpha': trial.suggest_loguniform('reg_alpha', 1e-9, 10.0),\n",
      "/Users/robertogarces/data-science/projects/real-state/notebooks/../utils/optimizer.py:19: FutureWarning: suggest_loguniform has been deprecated in v3.0.0. This feature will be removed in v6.0.0. See https://github.com/optuna/optuna/releases/tag/v3.0.0. Use suggest_float(..., log=True) instead.\n",
      "  'reg_lambda': trial.suggest_loguniform('reg_lambda', 1e-9, 10.0),\n",
      "[I 2024-01-03 16:13:35,920] Trial 1 finished with value: 796877739768.7412 and parameters: {'num_leaves': 228, 'learning_rate': 0.034213875794949965, 'feature_fraction': 0.4723541135840632, 'bagging_fraction': 0.4344443810128802, 'bagging_freq': 3, 'reg_alpha': 1.6853259651847466e-09, 'reg_lambda': 0.08605439269246075}. Best is trial 0 with value: 777338484113.9822.\n",
      "/Users/robertogarces/data-science/projects/real-state/notebooks/../utils/optimizer.py:14: FutureWarning: suggest_loguniform has been deprecated in v3.0.0. This feature will be removed in v6.0.0. See https://github.com/optuna/optuna/releases/tag/v3.0.0. Use suggest_float(..., log=True) instead.\n",
      "  'learning_rate': trial.suggest_loguniform('learning_rate', 0.005, 0.2),\n",
      "/Users/robertogarces/data-science/projects/real-state/notebooks/../utils/optimizer.py:15: FutureWarning: suggest_uniform has been deprecated in v3.0.0. This feature will be removed in v6.0.0. See https://github.com/optuna/optuna/releases/tag/v3.0.0. Use suggest_float instead.\n",
      "  'feature_fraction': trial.suggest_uniform('feature_fraction', 0.1, 1.0),\n",
      "/Users/robertogarces/data-science/projects/real-state/notebooks/../utils/optimizer.py:16: FutureWarning: suggest_uniform has been deprecated in v3.0.0. This feature will be removed in v6.0.0. See https://github.com/optuna/optuna/releases/tag/v3.0.0. Use suggest_float instead.\n",
      "  'bagging_fraction': trial.suggest_uniform('bagging_fraction', 0.1, 1.0),\n",
      "/Users/robertogarces/data-science/projects/real-state/notebooks/../utils/optimizer.py:18: FutureWarning: suggest_loguniform has been deprecated in v3.0.0. This feature will be removed in v6.0.0. See https://github.com/optuna/optuna/releases/tag/v3.0.0. Use suggest_float(..., log=True) instead.\n",
      "  'reg_alpha': trial.suggest_loguniform('reg_alpha', 1e-9, 10.0),\n",
      "/Users/robertogarces/data-science/projects/real-state/notebooks/../utils/optimizer.py:19: FutureWarning: suggest_loguniform has been deprecated in v3.0.0. This feature will be removed in v6.0.0. See https://github.com/optuna/optuna/releases/tag/v3.0.0. Use suggest_float(..., log=True) instead.\n",
      "  'reg_lambda': trial.suggest_loguniform('reg_lambda', 1e-9, 10.0),\n",
      "[I 2024-01-03 16:13:39,557] Trial 2 finished with value: 831909283301.8126 and parameters: {'num_leaves': 16, 'learning_rate': 0.1533489878702192, 'feature_fraction': 0.7419028076685644, 'bagging_fraction': 0.13050687178747192, 'bagging_freq': 1, 'reg_alpha': 4.655309253851775, 'reg_lambda': 6.593430944781763e-05}. Best is trial 0 with value: 777338484113.9822.\n",
      "/Users/robertogarces/data-science/projects/real-state/notebooks/../utils/optimizer.py:14: FutureWarning: suggest_loguniform has been deprecated in v3.0.0. This feature will be removed in v6.0.0. See https://github.com/optuna/optuna/releases/tag/v3.0.0. Use suggest_float(..., log=True) instead.\n",
      "  'learning_rate': trial.suggest_loguniform('learning_rate', 0.005, 0.2),\n",
      "/Users/robertogarces/data-science/projects/real-state/notebooks/../utils/optimizer.py:15: FutureWarning: suggest_uniform has been deprecated in v3.0.0. This feature will be removed in v6.0.0. See https://github.com/optuna/optuna/releases/tag/v3.0.0. Use suggest_float instead.\n",
      "  'feature_fraction': trial.suggest_uniform('feature_fraction', 0.1, 1.0),\n",
      "/Users/robertogarces/data-science/projects/real-state/notebooks/../utils/optimizer.py:16: FutureWarning: suggest_uniform has been deprecated in v3.0.0. This feature will be removed in v6.0.0. See https://github.com/optuna/optuna/releases/tag/v3.0.0. Use suggest_float instead.\n",
      "  'bagging_fraction': trial.suggest_uniform('bagging_fraction', 0.1, 1.0),\n",
      "/Users/robertogarces/data-science/projects/real-state/notebooks/../utils/optimizer.py:18: FutureWarning: suggest_loguniform has been deprecated in v3.0.0. This feature will be removed in v6.0.0. See https://github.com/optuna/optuna/releases/tag/v3.0.0. Use suggest_float(..., log=True) instead.\n",
      "  'reg_alpha': trial.suggest_loguniform('reg_alpha', 1e-9, 10.0),\n",
      "/Users/robertogarces/data-science/projects/real-state/notebooks/../utils/optimizer.py:19: FutureWarning: suggest_loguniform has been deprecated in v3.0.0. This feature will be removed in v6.0.0. See https://github.com/optuna/optuna/releases/tag/v3.0.0. Use suggest_float(..., log=True) instead.\n",
      "  'reg_lambda': trial.suggest_loguniform('reg_lambda', 1e-9, 10.0),\n",
      "[I 2024-01-03 16:13:56,741] Trial 3 finished with value: 776195072528.1646 and parameters: {'num_leaves': 99, 'learning_rate': 0.011478100092604781, 'feature_fraction': 0.7609855857595742, 'bagging_fraction': 0.2462243454583795, 'bagging_freq': 8, 'reg_alpha': 6.996094880334015e-08, 'reg_lambda': 1.941114989657476e-06}. Best is trial 3 with value: 776195072528.1646.\n",
      "/Users/robertogarces/data-science/projects/real-state/notebooks/../utils/optimizer.py:14: FutureWarning: suggest_loguniform has been deprecated in v3.0.0. This feature will be removed in v6.0.0. See https://github.com/optuna/optuna/releases/tag/v3.0.0. Use suggest_float(..., log=True) instead.\n",
      "  'learning_rate': trial.suggest_loguniform('learning_rate', 0.005, 0.2),\n",
      "/Users/robertogarces/data-science/projects/real-state/notebooks/../utils/optimizer.py:15: FutureWarning: suggest_uniform has been deprecated in v3.0.0. This feature will be removed in v6.0.0. See https://github.com/optuna/optuna/releases/tag/v3.0.0. Use suggest_float instead.\n",
      "  'feature_fraction': trial.suggest_uniform('feature_fraction', 0.1, 1.0),\n",
      "/Users/robertogarces/data-science/projects/real-state/notebooks/../utils/optimizer.py:16: FutureWarning: suggest_uniform has been deprecated in v3.0.0. This feature will be removed in v6.0.0. See https://github.com/optuna/optuna/releases/tag/v3.0.0. Use suggest_float instead.\n",
      "  'bagging_fraction': trial.suggest_uniform('bagging_fraction', 0.1, 1.0),\n",
      "/Users/robertogarces/data-science/projects/real-state/notebooks/../utils/optimizer.py:18: FutureWarning: suggest_loguniform has been deprecated in v3.0.0. This feature will be removed in v6.0.0. See https://github.com/optuna/optuna/releases/tag/v3.0.0. Use suggest_float(..., log=True) instead.\n",
      "  'reg_alpha': trial.suggest_loguniform('reg_alpha', 1e-9, 10.0),\n",
      "/Users/robertogarces/data-science/projects/real-state/notebooks/../utils/optimizer.py:19: FutureWarning: suggest_loguniform has been deprecated in v3.0.0. This feature will be removed in v6.0.0. See https://github.com/optuna/optuna/releases/tag/v3.0.0. Use suggest_float(..., log=True) instead.\n",
      "  'reg_lambda': trial.suggest_loguniform('reg_lambda', 1e-9, 10.0),\n",
      "[I 2024-01-03 16:14:17,338] Trial 4 finished with value: 782530952274.3887 and parameters: {'num_leaves': 118, 'learning_rate': 0.024093479504543304, 'feature_fraction': 0.4566257209650194, 'bagging_fraction': 0.24414843531617203, 'bagging_freq': 2, 'reg_alpha': 2.802341594874674e-05, 'reg_lambda': 8.536945775263991e-05}. Best is trial 3 with value: 776195072528.1646.\n",
      "/Users/robertogarces/data-science/projects/real-state/notebooks/../utils/optimizer.py:14: FutureWarning: suggest_loguniform has been deprecated in v3.0.0. This feature will be removed in v6.0.0. See https://github.com/optuna/optuna/releases/tag/v3.0.0. Use suggest_float(..., log=True) instead.\n",
      "  'learning_rate': trial.suggest_loguniform('learning_rate', 0.005, 0.2),\n",
      "/Users/robertogarces/data-science/projects/real-state/notebooks/../utils/optimizer.py:15: FutureWarning: suggest_uniform has been deprecated in v3.0.0. This feature will be removed in v6.0.0. See https://github.com/optuna/optuna/releases/tag/v3.0.0. Use suggest_float instead.\n",
      "  'feature_fraction': trial.suggest_uniform('feature_fraction', 0.1, 1.0),\n",
      "/Users/robertogarces/data-science/projects/real-state/notebooks/../utils/optimizer.py:16: FutureWarning: suggest_uniform has been deprecated in v3.0.0. This feature will be removed in v6.0.0. See https://github.com/optuna/optuna/releases/tag/v3.0.0. Use suggest_float instead.\n",
      "  'bagging_fraction': trial.suggest_uniform('bagging_fraction', 0.1, 1.0),\n",
      "/Users/robertogarces/data-science/projects/real-state/notebooks/../utils/optimizer.py:18: FutureWarning: suggest_loguniform has been deprecated in v3.0.0. This feature will be removed in v6.0.0. See https://github.com/optuna/optuna/releases/tag/v3.0.0. Use suggest_float(..., log=True) instead.\n",
      "  'reg_alpha': trial.suggest_loguniform('reg_alpha', 1e-9, 10.0),\n",
      "/Users/robertogarces/data-science/projects/real-state/notebooks/../utils/optimizer.py:19: FutureWarning: suggest_loguniform has been deprecated in v3.0.0. This feature will be removed in v6.0.0. See https://github.com/optuna/optuna/releases/tag/v3.0.0. Use suggest_float(..., log=True) instead.\n",
      "  'reg_lambda': trial.suggest_loguniform('reg_lambda', 1e-9, 10.0),\n",
      "[I 2024-01-03 16:14:29,114] Trial 5 finished with value: 809593197091.3767 and parameters: {'num_leaves': 64, 'learning_rate': 0.06517461177891083, 'feature_fraction': 0.39417694439181117, 'bagging_fraction': 0.1533069726632207, 'bagging_freq': 6, 'reg_alpha': 0.07260340188165289, 'reg_lambda': 2.1033017673378166e-09}. Best is trial 3 with value: 776195072528.1646.\n",
      "/Users/robertogarces/data-science/projects/real-state/notebooks/../utils/optimizer.py:14: FutureWarning: suggest_loguniform has been deprecated in v3.0.0. This feature will be removed in v6.0.0. See https://github.com/optuna/optuna/releases/tag/v3.0.0. Use suggest_float(..., log=True) instead.\n",
      "  'learning_rate': trial.suggest_loguniform('learning_rate', 0.005, 0.2),\n",
      "/Users/robertogarces/data-science/projects/real-state/notebooks/../utils/optimizer.py:15: FutureWarning: suggest_uniform has been deprecated in v3.0.0. This feature will be removed in v6.0.0. See https://github.com/optuna/optuna/releases/tag/v3.0.0. Use suggest_float instead.\n",
      "  'feature_fraction': trial.suggest_uniform('feature_fraction', 0.1, 1.0),\n",
      "/Users/robertogarces/data-science/projects/real-state/notebooks/../utils/optimizer.py:16: FutureWarning: suggest_uniform has been deprecated in v3.0.0. This feature will be removed in v6.0.0. See https://github.com/optuna/optuna/releases/tag/v3.0.0. Use suggest_float instead.\n",
      "  'bagging_fraction': trial.suggest_uniform('bagging_fraction', 0.1, 1.0),\n",
      "/Users/robertogarces/data-science/projects/real-state/notebooks/../utils/optimizer.py:18: FutureWarning: suggest_loguniform has been deprecated in v3.0.0. This feature will be removed in v6.0.0. See https://github.com/optuna/optuna/releases/tag/v3.0.0. Use suggest_float(..., log=True) instead.\n",
      "  'reg_alpha': trial.suggest_loguniform('reg_alpha', 1e-9, 10.0),\n",
      "/Users/robertogarces/data-science/projects/real-state/notebooks/../utils/optimizer.py:19: FutureWarning: suggest_loguniform has been deprecated in v3.0.0. This feature will be removed in v6.0.0. See https://github.com/optuna/optuna/releases/tag/v3.0.0. Use suggest_float(..., log=True) instead.\n",
      "  'reg_lambda': trial.suggest_loguniform('reg_lambda', 1e-9, 10.0),\n",
      "[I 2024-01-03 16:14:47,772] Trial 6 finished with value: 797698411437.8131 and parameters: {'num_leaves': 253, 'learning_rate': 0.04845772973226253, 'feature_fraction': 0.18137690278532193, 'bagging_fraction': 0.24781881248786686, 'bagging_freq': 7, 'reg_alpha': 0.00030737391073513943, 'reg_lambda': 9.132230802292648e-09}. Best is trial 3 with value: 776195072528.1646.\n",
      "/Users/robertogarces/data-science/projects/real-state/notebooks/../utils/optimizer.py:14: FutureWarning: suggest_loguniform has been deprecated in v3.0.0. This feature will be removed in v6.0.0. See https://github.com/optuna/optuna/releases/tag/v3.0.0. Use suggest_float(..., log=True) instead.\n",
      "  'learning_rate': trial.suggest_loguniform('learning_rate', 0.005, 0.2),\n",
      "/Users/robertogarces/data-science/projects/real-state/notebooks/../utils/optimizer.py:15: FutureWarning: suggest_uniform has been deprecated in v3.0.0. This feature will be removed in v6.0.0. See https://github.com/optuna/optuna/releases/tag/v3.0.0. Use suggest_float instead.\n",
      "  'feature_fraction': trial.suggest_uniform('feature_fraction', 0.1, 1.0),\n",
      "/Users/robertogarces/data-science/projects/real-state/notebooks/../utils/optimizer.py:16: FutureWarning: suggest_uniform has been deprecated in v3.0.0. This feature will be removed in v6.0.0. See https://github.com/optuna/optuna/releases/tag/v3.0.0. Use suggest_float instead.\n",
      "  'bagging_fraction': trial.suggest_uniform('bagging_fraction', 0.1, 1.0),\n",
      "/Users/robertogarces/data-science/projects/real-state/notebooks/../utils/optimizer.py:18: FutureWarning: suggest_loguniform has been deprecated in v3.0.0. This feature will be removed in v6.0.0. See https://github.com/optuna/optuna/releases/tag/v3.0.0. Use suggest_float(..., log=True) instead.\n",
      "  'reg_alpha': trial.suggest_loguniform('reg_alpha', 1e-9, 10.0),\n",
      "/Users/robertogarces/data-science/projects/real-state/notebooks/../utils/optimizer.py:19: FutureWarning: suggest_loguniform has been deprecated in v3.0.0. This feature will be removed in v6.0.0. See https://github.com/optuna/optuna/releases/tag/v3.0.0. Use suggest_float(..., log=True) instead.\n",
      "  'reg_lambda': trial.suggest_loguniform('reg_lambda', 1e-9, 10.0),\n",
      "[I 2024-01-03 16:14:55,838] Trial 7 finished with value: 827313244765.7317 and parameters: {'num_leaves': 52, 'learning_rate': 0.19381072490530288, 'feature_fraction': 0.20888674669696639, 'bagging_fraction': 0.7528358947342497, 'bagging_freq': 10, 'reg_alpha': 0.8449158175663724, 'reg_lambda': 2.991156402900336e-06}. Best is trial 3 with value: 776195072528.1646.\n",
      "/Users/robertogarces/data-science/projects/real-state/notebooks/../utils/optimizer.py:14: FutureWarning: suggest_loguniform has been deprecated in v3.0.0. This feature will be removed in v6.0.0. See https://github.com/optuna/optuna/releases/tag/v3.0.0. Use suggest_float(..., log=True) instead.\n",
      "  'learning_rate': trial.suggest_loguniform('learning_rate', 0.005, 0.2),\n",
      "/Users/robertogarces/data-science/projects/real-state/notebooks/../utils/optimizer.py:15: FutureWarning: suggest_uniform has been deprecated in v3.0.0. This feature will be removed in v6.0.0. See https://github.com/optuna/optuna/releases/tag/v3.0.0. Use suggest_float instead.\n",
      "  'feature_fraction': trial.suggest_uniform('feature_fraction', 0.1, 1.0),\n",
      "/Users/robertogarces/data-science/projects/real-state/notebooks/../utils/optimizer.py:16: FutureWarning: suggest_uniform has been deprecated in v3.0.0. This feature will be removed in v6.0.0. See https://github.com/optuna/optuna/releases/tag/v3.0.0. Use suggest_float instead.\n",
      "  'bagging_fraction': trial.suggest_uniform('bagging_fraction', 0.1, 1.0),\n",
      "/Users/robertogarces/data-science/projects/real-state/notebooks/../utils/optimizer.py:18: FutureWarning: suggest_loguniform has been deprecated in v3.0.0. This feature will be removed in v6.0.0. See https://github.com/optuna/optuna/releases/tag/v3.0.0. Use suggest_float(..., log=True) instead.\n",
      "  'reg_alpha': trial.suggest_loguniform('reg_alpha', 1e-9, 10.0),\n",
      "/Users/robertogarces/data-science/projects/real-state/notebooks/../utils/optimizer.py:19: FutureWarning: suggest_loguniform has been deprecated in v3.0.0. This feature will be removed in v6.0.0. See https://github.com/optuna/optuna/releases/tag/v3.0.0. Use suggest_float(..., log=True) instead.\n",
      "  'reg_lambda': trial.suggest_loguniform('reg_lambda', 1e-9, 10.0),\n",
      "[I 2024-01-03 16:14:57,668] Trial 8 finished with value: 811027323618.0535 and parameters: {'num_leaves': 10, 'learning_rate': 0.19326872168967033, 'feature_fraction': 0.7595832781843408, 'bagging_fraction': 0.24116598332065237, 'bagging_freq': 5, 'reg_alpha': 0.00013713863490225572, 'reg_lambda': 2.8354729345976497e-09}. Best is trial 3 with value: 776195072528.1646.\n",
      "/Users/robertogarces/data-science/projects/real-state/notebooks/../utils/optimizer.py:14: FutureWarning: suggest_loguniform has been deprecated in v3.0.0. This feature will be removed in v6.0.0. See https://github.com/optuna/optuna/releases/tag/v3.0.0. Use suggest_float(..., log=True) instead.\n",
      "  'learning_rate': trial.suggest_loguniform('learning_rate', 0.005, 0.2),\n",
      "/Users/robertogarces/data-science/projects/real-state/notebooks/../utils/optimizer.py:15: FutureWarning: suggest_uniform has been deprecated in v3.0.0. This feature will be removed in v6.0.0. See https://github.com/optuna/optuna/releases/tag/v3.0.0. Use suggest_float instead.\n",
      "  'feature_fraction': trial.suggest_uniform('feature_fraction', 0.1, 1.0),\n",
      "/Users/robertogarces/data-science/projects/real-state/notebooks/../utils/optimizer.py:16: FutureWarning: suggest_uniform has been deprecated in v3.0.0. This feature will be removed in v6.0.0. See https://github.com/optuna/optuna/releases/tag/v3.0.0. Use suggest_float instead.\n",
      "  'bagging_fraction': trial.suggest_uniform('bagging_fraction', 0.1, 1.0),\n",
      "/Users/robertogarces/data-science/projects/real-state/notebooks/../utils/optimizer.py:18: FutureWarning: suggest_loguniform has been deprecated in v3.0.0. This feature will be removed in v6.0.0. See https://github.com/optuna/optuna/releases/tag/v3.0.0. Use suggest_float(..., log=True) instead.\n",
      "  'reg_alpha': trial.suggest_loguniform('reg_alpha', 1e-9, 10.0),\n",
      "/Users/robertogarces/data-science/projects/real-state/notebooks/../utils/optimizer.py:19: FutureWarning: suggest_loguniform has been deprecated in v3.0.0. This feature will be removed in v6.0.0. See https://github.com/optuna/optuna/releases/tag/v3.0.0. Use suggest_float(..., log=True) instead.\n",
      "  'reg_lambda': trial.suggest_loguniform('reg_lambda', 1e-9, 10.0),\n",
      "[I 2024-01-03 16:15:26,046] Trial 9 finished with value: 994671726286.5795 and parameters: {'num_leaves': 187, 'learning_rate': 0.18997680665779226, 'feature_fraction': 0.6453423424429185, 'bagging_fraction': 0.4071293561565381, 'bagging_freq': 10, 'reg_alpha': 2.963546817581317e-08, 'reg_lambda': 3.933059601528199e-09}. Best is trial 3 with value: 776195072528.1646.\n",
      "/Users/robertogarces/data-science/projects/real-state/notebooks/../utils/optimizer.py:14: FutureWarning: suggest_loguniform has been deprecated in v3.0.0. This feature will be removed in v6.0.0. See https://github.com/optuna/optuna/releases/tag/v3.0.0. Use suggest_float(..., log=True) instead.\n",
      "  'learning_rate': trial.suggest_loguniform('learning_rate', 0.005, 0.2),\n",
      "/Users/robertogarces/data-science/projects/real-state/notebooks/../utils/optimizer.py:15: FutureWarning: suggest_uniform has been deprecated in v3.0.0. This feature will be removed in v6.0.0. See https://github.com/optuna/optuna/releases/tag/v3.0.0. Use suggest_float instead.\n",
      "  'feature_fraction': trial.suggest_uniform('feature_fraction', 0.1, 1.0),\n",
      "/Users/robertogarces/data-science/projects/real-state/notebooks/../utils/optimizer.py:16: FutureWarning: suggest_uniform has been deprecated in v3.0.0. This feature will be removed in v6.0.0. See https://github.com/optuna/optuna/releases/tag/v3.0.0. Use suggest_float instead.\n",
      "  'bagging_fraction': trial.suggest_uniform('bagging_fraction', 0.1, 1.0),\n",
      "/Users/robertogarces/data-science/projects/real-state/notebooks/../utils/optimizer.py:18: FutureWarning: suggest_loguniform has been deprecated in v3.0.0. This feature will be removed in v6.0.0. See https://github.com/optuna/optuna/releases/tag/v3.0.0. Use suggest_float(..., log=True) instead.\n",
      "  'reg_alpha': trial.suggest_loguniform('reg_alpha', 1e-9, 10.0),\n",
      "/Users/robertogarces/data-science/projects/real-state/notebooks/../utils/optimizer.py:19: FutureWarning: suggest_loguniform has been deprecated in v3.0.0. This feature will be removed in v6.0.0. See https://github.com/optuna/optuna/releases/tag/v3.0.0. Use suggest_float(..., log=True) instead.\n",
      "  'reg_lambda': trial.suggest_loguniform('reg_lambda', 1e-9, 10.0),\n",
      "[I 2024-01-03 16:15:48,037] Trial 10 finished with value: 772837880860.6742 and parameters: {'num_leaves': 137, 'learning_rate': 0.005841047504785183, 'feature_fraction': 0.9747154729608495, 'bagging_fraction': 0.9404462928511943, 'bagging_freq': 7, 'reg_alpha': 5.080317724577892e-07, 'reg_lambda': 1.3860982629930117e-06}. Best is trial 10 with value: 772837880860.6742.\n",
      "/Users/robertogarces/data-science/projects/real-state/notebooks/../utils/optimizer.py:14: FutureWarning: suggest_loguniform has been deprecated in v3.0.0. This feature will be removed in v6.0.0. See https://github.com/optuna/optuna/releases/tag/v3.0.0. Use suggest_float(..., log=True) instead.\n",
      "  'learning_rate': trial.suggest_loguniform('learning_rate', 0.005, 0.2),\n",
      "/Users/robertogarces/data-science/projects/real-state/notebooks/../utils/optimizer.py:15: FutureWarning: suggest_uniform has been deprecated in v3.0.0. This feature will be removed in v6.0.0. See https://github.com/optuna/optuna/releases/tag/v3.0.0. Use suggest_float instead.\n",
      "  'feature_fraction': trial.suggest_uniform('feature_fraction', 0.1, 1.0),\n",
      "/Users/robertogarces/data-science/projects/real-state/notebooks/../utils/optimizer.py:16: FutureWarning: suggest_uniform has been deprecated in v3.0.0. This feature will be removed in v6.0.0. See https://github.com/optuna/optuna/releases/tag/v3.0.0. Use suggest_float instead.\n",
      "  'bagging_fraction': trial.suggest_uniform('bagging_fraction', 0.1, 1.0),\n",
      "/Users/robertogarces/data-science/projects/real-state/notebooks/../utils/optimizer.py:18: FutureWarning: suggest_loguniform has been deprecated in v3.0.0. This feature will be removed in v6.0.0. See https://github.com/optuna/optuna/releases/tag/v3.0.0. Use suggest_float(..., log=True) instead.\n",
      "  'reg_alpha': trial.suggest_loguniform('reg_alpha', 1e-9, 10.0),\n",
      "/Users/robertogarces/data-science/projects/real-state/notebooks/../utils/optimizer.py:19: FutureWarning: suggest_loguniform has been deprecated in v3.0.0. This feature will be removed in v6.0.0. See https://github.com/optuna/optuna/releases/tag/v3.0.0. Use suggest_float(..., log=True) instead.\n",
      "  'reg_lambda': trial.suggest_loguniform('reg_lambda', 1e-9, 10.0),\n",
      "[I 2024-01-03 16:16:09,202] Trial 11 finished with value: 773048751726.7952 and parameters: {'num_leaves': 135, 'learning_rate': 0.005550001524969994, 'feature_fraction': 0.9985795765985068, 'bagging_fraction': 0.9678308998398885, 'bagging_freq': 8, 'reg_alpha': 5.1911206960531e-07, 'reg_lambda': 4.2040073407155215e-07}. Best is trial 10 with value: 772837880860.6742.\n",
      "/Users/robertogarces/data-science/projects/real-state/notebooks/../utils/optimizer.py:14: FutureWarning: suggest_loguniform has been deprecated in v3.0.0. This feature will be removed in v6.0.0. See https://github.com/optuna/optuna/releases/tag/v3.0.0. Use suggest_float(..., log=True) instead.\n",
      "  'learning_rate': trial.suggest_loguniform('learning_rate', 0.005, 0.2),\n",
      "/Users/robertogarces/data-science/projects/real-state/notebooks/../utils/optimizer.py:15: FutureWarning: suggest_uniform has been deprecated in v3.0.0. This feature will be removed in v6.0.0. See https://github.com/optuna/optuna/releases/tag/v3.0.0. Use suggest_float instead.\n",
      "  'feature_fraction': trial.suggest_uniform('feature_fraction', 0.1, 1.0),\n",
      "/Users/robertogarces/data-science/projects/real-state/notebooks/../utils/optimizer.py:16: FutureWarning: suggest_uniform has been deprecated in v3.0.0. This feature will be removed in v6.0.0. See https://github.com/optuna/optuna/releases/tag/v3.0.0. Use suggest_float instead.\n",
      "  'bagging_fraction': trial.suggest_uniform('bagging_fraction', 0.1, 1.0),\n",
      "/Users/robertogarces/data-science/projects/real-state/notebooks/../utils/optimizer.py:18: FutureWarning: suggest_loguniform has been deprecated in v3.0.0. This feature will be removed in v6.0.0. See https://github.com/optuna/optuna/releases/tag/v3.0.0. Use suggest_float(..., log=True) instead.\n",
      "  'reg_alpha': trial.suggest_loguniform('reg_alpha', 1e-9, 10.0),\n",
      "/Users/robertogarces/data-science/projects/real-state/notebooks/../utils/optimizer.py:19: FutureWarning: suggest_loguniform has been deprecated in v3.0.0. This feature will be removed in v6.0.0. See https://github.com/optuna/optuna/releases/tag/v3.0.0. Use suggest_float(..., log=True) instead.\n",
      "  'reg_lambda': trial.suggest_loguniform('reg_lambda', 1e-9, 10.0),\n",
      "[I 2024-01-03 16:16:35,938] Trial 12 finished with value: 773248745925.7755 and parameters: {'num_leaves': 166, 'learning_rate': 0.005180007446977164, 'feature_fraction': 0.999720381411357, 'bagging_fraction': 0.959447758392216, 'bagging_freq': 8, 'reg_alpha': 1.3020560298075234e-06, 'reg_lambda': 7.002122568387363e-07}. Best is trial 10 with value: 772837880860.6742.\n",
      "/Users/robertogarces/data-science/projects/real-state/notebooks/../utils/optimizer.py:14: FutureWarning: suggest_loguniform has been deprecated in v3.0.0. This feature will be removed in v6.0.0. See https://github.com/optuna/optuna/releases/tag/v3.0.0. Use suggest_float(..., log=True) instead.\n",
      "  'learning_rate': trial.suggest_loguniform('learning_rate', 0.005, 0.2),\n",
      "/Users/robertogarces/data-science/projects/real-state/notebooks/../utils/optimizer.py:15: FutureWarning: suggest_uniform has been deprecated in v3.0.0. This feature will be removed in v6.0.0. See https://github.com/optuna/optuna/releases/tag/v3.0.0. Use suggest_float instead.\n",
      "  'feature_fraction': trial.suggest_uniform('feature_fraction', 0.1, 1.0),\n",
      "/Users/robertogarces/data-science/projects/real-state/notebooks/../utils/optimizer.py:16: FutureWarning: suggest_uniform has been deprecated in v3.0.0. This feature will be removed in v6.0.0. See https://github.com/optuna/optuna/releases/tag/v3.0.0. Use suggest_float instead.\n",
      "  'bagging_fraction': trial.suggest_uniform('bagging_fraction', 0.1, 1.0),\n",
      "/Users/robertogarces/data-science/projects/real-state/notebooks/../utils/optimizer.py:18: FutureWarning: suggest_loguniform has been deprecated in v3.0.0. This feature will be removed in v6.0.0. See https://github.com/optuna/optuna/releases/tag/v3.0.0. Use suggest_float(..., log=True) instead.\n",
      "  'reg_alpha': trial.suggest_loguniform('reg_alpha', 1e-9, 10.0),\n",
      "/Users/robertogarces/data-science/projects/real-state/notebooks/../utils/optimizer.py:19: FutureWarning: suggest_loguniform has been deprecated in v3.0.0. This feature will be removed in v6.0.0. See https://github.com/optuna/optuna/releases/tag/v3.0.0. Use suggest_float(..., log=True) instead.\n",
      "  'reg_lambda': trial.suggest_loguniform('reg_lambda', 1e-9, 10.0),\n",
      "[I 2024-01-03 16:16:52,700] Trial 13 finished with value: 772971497740.2034 and parameters: {'num_leaves': 142, 'learning_rate': 0.005013110843282465, 'feature_fraction': 0.9453663692870575, 'bagging_fraction': 0.9952598465203296, 'bagging_freq': 5, 'reg_alpha': 1.301289080233818e-06, 'reg_lambda': 1.8491704663038592e-07}. Best is trial 10 with value: 772837880860.6742.\n",
      "/Users/robertogarces/data-science/projects/real-state/notebooks/../utils/optimizer.py:14: FutureWarning: suggest_loguniform has been deprecated in v3.0.0. This feature will be removed in v6.0.0. See https://github.com/optuna/optuna/releases/tag/v3.0.0. Use suggest_float(..., log=True) instead.\n",
      "  'learning_rate': trial.suggest_loguniform('learning_rate', 0.005, 0.2),\n",
      "/Users/robertogarces/data-science/projects/real-state/notebooks/../utils/optimizer.py:15: FutureWarning: suggest_uniform has been deprecated in v3.0.0. This feature will be removed in v6.0.0. See https://github.com/optuna/optuna/releases/tag/v3.0.0. Use suggest_float instead.\n",
      "  'feature_fraction': trial.suggest_uniform('feature_fraction', 0.1, 1.0),\n",
      "/Users/robertogarces/data-science/projects/real-state/notebooks/../utils/optimizer.py:16: FutureWarning: suggest_uniform has been deprecated in v3.0.0. This feature will be removed in v6.0.0. See https://github.com/optuna/optuna/releases/tag/v3.0.0. Use suggest_float instead.\n",
      "  'bagging_fraction': trial.suggest_uniform('bagging_fraction', 0.1, 1.0),\n",
      "/Users/robertogarces/data-science/projects/real-state/notebooks/../utils/optimizer.py:18: FutureWarning: suggest_loguniform has been deprecated in v3.0.0. This feature will be removed in v6.0.0. See https://github.com/optuna/optuna/releases/tag/v3.0.0. Use suggest_float(..., log=True) instead.\n",
      "  'reg_alpha': trial.suggest_loguniform('reg_alpha', 1e-9, 10.0),\n",
      "/Users/robertogarces/data-science/projects/real-state/notebooks/../utils/optimizer.py:19: FutureWarning: suggest_loguniform has been deprecated in v3.0.0. This feature will be removed in v6.0.0. See https://github.com/optuna/optuna/releases/tag/v3.0.0. Use suggest_float(..., log=True) instead.\n",
      "  'reg_lambda': trial.suggest_loguniform('reg_lambda', 1e-9, 10.0),\n",
      "[I 2024-01-03 16:17:07,895] Trial 14 finished with value: 773742617092.2239 and parameters: {'num_leaves': 162, 'learning_rate': 0.008314678750644563, 'feature_fraction': 0.8801783542712823, 'bagging_fraction': 0.7962213801057987, 'bagging_freq': 5, 'reg_alpha': 1.0683193908023435e-06, 'reg_lambda': 4.900414123709319}. Best is trial 10 with value: 772837880860.6742.\n",
      "/Users/robertogarces/data-science/projects/real-state/notebooks/../utils/optimizer.py:14: FutureWarning: suggest_loguniform has been deprecated in v3.0.0. This feature will be removed in v6.0.0. See https://github.com/optuna/optuna/releases/tag/v3.0.0. Use suggest_float(..., log=True) instead.\n",
      "  'learning_rate': trial.suggest_loguniform('learning_rate', 0.005, 0.2),\n",
      "/Users/robertogarces/data-science/projects/real-state/notebooks/../utils/optimizer.py:15: FutureWarning: suggest_uniform has been deprecated in v3.0.0. This feature will be removed in v6.0.0. See https://github.com/optuna/optuna/releases/tag/v3.0.0. Use suggest_float instead.\n",
      "  'feature_fraction': trial.suggest_uniform('feature_fraction', 0.1, 1.0),\n",
      "/Users/robertogarces/data-science/projects/real-state/notebooks/../utils/optimizer.py:16: FutureWarning: suggest_uniform has been deprecated in v3.0.0. This feature will be removed in v6.0.0. See https://github.com/optuna/optuna/releases/tag/v3.0.0. Use suggest_float instead.\n",
      "  'bagging_fraction': trial.suggest_uniform('bagging_fraction', 0.1, 1.0),\n",
      "/Users/robertogarces/data-science/projects/real-state/notebooks/../utils/optimizer.py:18: FutureWarning: suggest_loguniform has been deprecated in v3.0.0. This feature will be removed in v6.0.0. See https://github.com/optuna/optuna/releases/tag/v3.0.0. Use suggest_float(..., log=True) instead.\n",
      "  'reg_alpha': trial.suggest_loguniform('reg_alpha', 1e-9, 10.0),\n",
      "/Users/robertogarces/data-science/projects/real-state/notebooks/../utils/optimizer.py:19: FutureWarning: suggest_loguniform has been deprecated in v3.0.0. This feature will be removed in v6.0.0. See https://github.com/optuna/optuna/releases/tag/v3.0.0. Use suggest_float(..., log=True) instead.\n",
      "  'reg_lambda': trial.suggest_loguniform('reg_lambda', 1e-9, 10.0),\n",
      "[I 2024-01-03 16:17:14,879] Trial 15 finished with value: 773738093425.2249 and parameters: {'num_leaves': 84, 'learning_rate': 0.01048980369394969, 'feature_fraction': 0.8737949478457561, 'bagging_fraction': 0.7795040491626211, 'bagging_freq': 4, 'reg_alpha': 1.4457316693639765e-05, 'reg_lambda': 9.835507405376896e-08}. Best is trial 10 with value: 772837880860.6742.\n",
      "/Users/robertogarces/data-science/projects/real-state/notebooks/../utils/optimizer.py:14: FutureWarning: suggest_loguniform has been deprecated in v3.0.0. This feature will be removed in v6.0.0. See https://github.com/optuna/optuna/releases/tag/v3.0.0. Use suggest_float(..., log=True) instead.\n",
      "  'learning_rate': trial.suggest_loguniform('learning_rate', 0.005, 0.2),\n",
      "/Users/robertogarces/data-science/projects/real-state/notebooks/../utils/optimizer.py:15: FutureWarning: suggest_uniform has been deprecated in v3.0.0. This feature will be removed in v6.0.0. See https://github.com/optuna/optuna/releases/tag/v3.0.0. Use suggest_float instead.\n",
      "  'feature_fraction': trial.suggest_uniform('feature_fraction', 0.1, 1.0),\n",
      "/Users/robertogarces/data-science/projects/real-state/notebooks/../utils/optimizer.py:16: FutureWarning: suggest_uniform has been deprecated in v3.0.0. This feature will be removed in v6.0.0. See https://github.com/optuna/optuna/releases/tag/v3.0.0. Use suggest_float instead.\n",
      "  'bagging_fraction': trial.suggest_uniform('bagging_fraction', 0.1, 1.0),\n",
      "/Users/robertogarces/data-science/projects/real-state/notebooks/../utils/optimizer.py:18: FutureWarning: suggest_loguniform has been deprecated in v3.0.0. This feature will be removed in v6.0.0. See https://github.com/optuna/optuna/releases/tag/v3.0.0. Use suggest_float(..., log=True) instead.\n",
      "  'reg_alpha': trial.suggest_loguniform('reg_alpha', 1e-9, 10.0),\n",
      "/Users/robertogarces/data-science/projects/real-state/notebooks/../utils/optimizer.py:19: FutureWarning: suggest_loguniform has been deprecated in v3.0.0. This feature will be removed in v6.0.0. See https://github.com/optuna/optuna/releases/tag/v3.0.0. Use suggest_float(..., log=True) instead.\n",
      "  'reg_lambda': trial.suggest_loguniform('reg_lambda', 1e-9, 10.0),\n",
      "[I 2024-01-03 16:17:26,723] Trial 16 finished with value: 772818920504.1821 and parameters: {'num_leaves': 140, 'learning_rate': 0.007053043449561613, 'feature_fraction': 0.8719393885153043, 'bagging_fraction': 0.8720259535739354, 'bagging_freq': 6, 'reg_alpha': 1.2348090224790191e-09, 'reg_lambda': 0.0024741607207536846}. Best is trial 16 with value: 772818920504.1821.\n",
      "/Users/robertogarces/data-science/projects/real-state/notebooks/../utils/optimizer.py:14: FutureWarning: suggest_loguniform has been deprecated in v3.0.0. This feature will be removed in v6.0.0. See https://github.com/optuna/optuna/releases/tag/v3.0.0. Use suggest_float(..., log=True) instead.\n",
      "  'learning_rate': trial.suggest_loguniform('learning_rate', 0.005, 0.2),\n",
      "/Users/robertogarces/data-science/projects/real-state/notebooks/../utils/optimizer.py:15: FutureWarning: suggest_uniform has been deprecated in v3.0.0. This feature will be removed in v6.0.0. See https://github.com/optuna/optuna/releases/tag/v3.0.0. Use suggest_float instead.\n",
      "  'feature_fraction': trial.suggest_uniform('feature_fraction', 0.1, 1.0),\n",
      "/Users/robertogarces/data-science/projects/real-state/notebooks/../utils/optimizer.py:16: FutureWarning: suggest_uniform has been deprecated in v3.0.0. This feature will be removed in v6.0.0. See https://github.com/optuna/optuna/releases/tag/v3.0.0. Use suggest_float instead.\n",
      "  'bagging_fraction': trial.suggest_uniform('bagging_fraction', 0.1, 1.0),\n",
      "/Users/robertogarces/data-science/projects/real-state/notebooks/../utils/optimizer.py:18: FutureWarning: suggest_loguniform has been deprecated in v3.0.0. This feature will be removed in v6.0.0. See https://github.com/optuna/optuna/releases/tag/v3.0.0. Use suggest_float(..., log=True) instead.\n",
      "  'reg_alpha': trial.suggest_loguniform('reg_alpha', 1e-9, 10.0),\n",
      "/Users/robertogarces/data-science/projects/real-state/notebooks/../utils/optimizer.py:19: FutureWarning: suggest_loguniform has been deprecated in v3.0.0. This feature will be removed in v6.0.0. See https://github.com/optuna/optuna/releases/tag/v3.0.0. Use suggest_float(..., log=True) instead.\n",
      "  'reg_lambda': trial.suggest_loguniform('reg_lambda', 1e-9, 10.0),\n",
      "[I 2024-01-03 16:17:42,993] Trial 17 finished with value: 780712166242.1453 and parameters: {'num_leaves': 186, 'learning_rate': 0.016596828745422572, 'feature_fraction': 0.6340286297876289, 'bagging_fraction': 0.6770450406380175, 'bagging_freq': 7, 'reg_alpha': 6.248685868998274e-09, 'reg_lambda': 0.005495602414560196}. Best is trial 16 with value: 772818920504.1821.\n",
      "/Users/robertogarces/data-science/projects/real-state/notebooks/../utils/optimizer.py:14: FutureWarning: suggest_loguniform has been deprecated in v3.0.0. This feature will be removed in v6.0.0. See https://github.com/optuna/optuna/releases/tag/v3.0.0. Use suggest_float(..., log=True) instead.\n",
      "  'learning_rate': trial.suggest_loguniform('learning_rate', 0.005, 0.2),\n",
      "/Users/robertogarces/data-science/projects/real-state/notebooks/../utils/optimizer.py:15: FutureWarning: suggest_uniform has been deprecated in v3.0.0. This feature will be removed in v6.0.0. See https://github.com/optuna/optuna/releases/tag/v3.0.0. Use suggest_float instead.\n",
      "  'feature_fraction': trial.suggest_uniform('feature_fraction', 0.1, 1.0),\n",
      "/Users/robertogarces/data-science/projects/real-state/notebooks/../utils/optimizer.py:16: FutureWarning: suggest_uniform has been deprecated in v3.0.0. This feature will be removed in v6.0.0. See https://github.com/optuna/optuna/releases/tag/v3.0.0. Use suggest_float instead.\n",
      "  'bagging_fraction': trial.suggest_uniform('bagging_fraction', 0.1, 1.0),\n",
      "/Users/robertogarces/data-science/projects/real-state/notebooks/../utils/optimizer.py:18: FutureWarning: suggest_loguniform has been deprecated in v3.0.0. This feature will be removed in v6.0.0. See https://github.com/optuna/optuna/releases/tag/v3.0.0. Use suggest_float(..., log=True) instead.\n",
      "  'reg_alpha': trial.suggest_loguniform('reg_alpha', 1e-9, 10.0),\n",
      "/Users/robertogarces/data-science/projects/real-state/notebooks/../utils/optimizer.py:19: FutureWarning: suggest_loguniform has been deprecated in v3.0.0. This feature will be removed in v6.0.0. See https://github.com/optuna/optuna/releases/tag/v3.0.0. Use suggest_float(..., log=True) instead.\n",
      "  'reg_lambda': trial.suggest_loguniform('reg_lambda', 1e-9, 10.0),\n",
      "[I 2024-01-03 16:17:54,004] Trial 18 finished with value: 772789824617.7395 and parameters: {'num_leaves': 101, 'learning_rate': 0.008361558738342986, 'feature_fraction': 0.8440805698387202, 'bagging_fraction': 0.8697932698658593, 'bagging_freq': 6, 'reg_alpha': 3.587278896173302e-08, 'reg_lambda': 0.0015263203685116885}. Best is trial 18 with value: 772789824617.7395.\n",
      "/Users/robertogarces/data-science/projects/real-state/notebooks/../utils/optimizer.py:14: FutureWarning: suggest_loguniform has been deprecated in v3.0.0. This feature will be removed in v6.0.0. See https://github.com/optuna/optuna/releases/tag/v3.0.0. Use suggest_float(..., log=True) instead.\n",
      "  'learning_rate': trial.suggest_loguniform('learning_rate', 0.005, 0.2),\n",
      "/Users/robertogarces/data-science/projects/real-state/notebooks/../utils/optimizer.py:15: FutureWarning: suggest_uniform has been deprecated in v3.0.0. This feature will be removed in v6.0.0. See https://github.com/optuna/optuna/releases/tag/v3.0.0. Use suggest_float instead.\n",
      "  'feature_fraction': trial.suggest_uniform('feature_fraction', 0.1, 1.0),\n",
      "/Users/robertogarces/data-science/projects/real-state/notebooks/../utils/optimizer.py:16: FutureWarning: suggest_uniform has been deprecated in v3.0.0. This feature will be removed in v6.0.0. See https://github.com/optuna/optuna/releases/tag/v3.0.0. Use suggest_float instead.\n",
      "  'bagging_fraction': trial.suggest_uniform('bagging_fraction', 0.1, 1.0),\n",
      "/Users/robertogarces/data-science/projects/real-state/notebooks/../utils/optimizer.py:18: FutureWarning: suggest_loguniform has been deprecated in v3.0.0. This feature will be removed in v6.0.0. See https://github.com/optuna/optuna/releases/tag/v3.0.0. Use suggest_float(..., log=True) instead.\n",
      "  'reg_alpha': trial.suggest_loguniform('reg_alpha', 1e-9, 10.0),\n",
      "/Users/robertogarces/data-science/projects/real-state/notebooks/../utils/optimizer.py:19: FutureWarning: suggest_loguniform has been deprecated in v3.0.0. This feature will be removed in v6.0.0. See https://github.com/optuna/optuna/releases/tag/v3.0.0. Use suggest_float(..., log=True) instead.\n",
      "  'reg_lambda': trial.suggest_loguniform('reg_lambda', 1e-9, 10.0),\n",
      "[I 2024-01-03 16:18:05,246] Trial 19 finished with value: 773230326289.929 and parameters: {'num_leaves': 94, 'learning_rate': 0.008742075727975578, 'feature_fraction': 0.8459172419686343, 'bagging_fraction': 0.6546898392633927, 'bagging_freq': 6, 'reg_alpha': 1.1162700089124355e-09, 'reg_lambda': 0.000954775654748955}. Best is trial 18 with value: 772789824617.7395.\n",
      "/Users/robertogarces/data-science/projects/real-state/notebooks/../utils/optimizer.py:14: FutureWarning: suggest_loguniform has been deprecated in v3.0.0. This feature will be removed in v6.0.0. See https://github.com/optuna/optuna/releases/tag/v3.0.0. Use suggest_float(..., log=True) instead.\n",
      "  'learning_rate': trial.suggest_loguniform('learning_rate', 0.005, 0.2),\n",
      "/Users/robertogarces/data-science/projects/real-state/notebooks/../utils/optimizer.py:15: FutureWarning: suggest_uniform has been deprecated in v3.0.0. This feature will be removed in v6.0.0. See https://github.com/optuna/optuna/releases/tag/v3.0.0. Use suggest_float instead.\n",
      "  'feature_fraction': trial.suggest_uniform('feature_fraction', 0.1, 1.0),\n",
      "/Users/robertogarces/data-science/projects/real-state/notebooks/../utils/optimizer.py:16: FutureWarning: suggest_uniform has been deprecated in v3.0.0. This feature will be removed in v6.0.0. See https://github.com/optuna/optuna/releases/tag/v3.0.0. Use suggest_float instead.\n",
      "  'bagging_fraction': trial.suggest_uniform('bagging_fraction', 0.1, 1.0),\n",
      "/Users/robertogarces/data-science/projects/real-state/notebooks/../utils/optimizer.py:18: FutureWarning: suggest_loguniform has been deprecated in v3.0.0. This feature will be removed in v6.0.0. See https://github.com/optuna/optuna/releases/tag/v3.0.0. Use suggest_float(..., log=True) instead.\n",
      "  'reg_alpha': trial.suggest_loguniform('reg_alpha', 1e-9, 10.0),\n",
      "/Users/robertogarces/data-science/projects/real-state/notebooks/../utils/optimizer.py:19: FutureWarning: suggest_loguniform has been deprecated in v3.0.0. This feature will be removed in v6.0.0. See https://github.com/optuna/optuna/releases/tag/v3.0.0. Use suggest_float(..., log=True) instead.\n",
      "  'reg_lambda': trial.suggest_loguniform('reg_lambda', 1e-9, 10.0),\n",
      "[I 2024-01-03 16:18:10,194] Trial 20 finished with value: 773154022523.8998 and parameters: {'num_leaves': 41, 'learning_rate': 0.017041485339440245, 'feature_fraction': 0.6144290463542642, 'bagging_fraction': 0.8481635593916655, 'bagging_freq': 4, 'reg_alpha': 2.488822409303351e-08, 'reg_lambda': 1.21383252711977}. Best is trial 18 with value: 772789824617.7395.\n",
      "/Users/robertogarces/data-science/projects/real-state/notebooks/../utils/optimizer.py:14: FutureWarning: suggest_loguniform has been deprecated in v3.0.0. This feature will be removed in v6.0.0. See https://github.com/optuna/optuna/releases/tag/v3.0.0. Use suggest_float(..., log=True) instead.\n",
      "  'learning_rate': trial.suggest_loguniform('learning_rate', 0.005, 0.2),\n",
      "/Users/robertogarces/data-science/projects/real-state/notebooks/../utils/optimizer.py:15: FutureWarning: suggest_uniform has been deprecated in v3.0.0. This feature will be removed in v6.0.0. See https://github.com/optuna/optuna/releases/tag/v3.0.0. Use suggest_float instead.\n",
      "  'feature_fraction': trial.suggest_uniform('feature_fraction', 0.1, 1.0),\n",
      "/Users/robertogarces/data-science/projects/real-state/notebooks/../utils/optimizer.py:16: FutureWarning: suggest_uniform has been deprecated in v3.0.0. This feature will be removed in v6.0.0. See https://github.com/optuna/optuna/releases/tag/v3.0.0. Use suggest_float instead.\n",
      "  'bagging_fraction': trial.suggest_uniform('bagging_fraction', 0.1, 1.0),\n",
      "/Users/robertogarces/data-science/projects/real-state/notebooks/../utils/optimizer.py:18: FutureWarning: suggest_loguniform has been deprecated in v3.0.0. This feature will be removed in v6.0.0. See https://github.com/optuna/optuna/releases/tag/v3.0.0. Use suggest_float(..., log=True) instead.\n",
      "  'reg_alpha': trial.suggest_loguniform('reg_alpha', 1e-9, 10.0),\n",
      "/Users/robertogarces/data-science/projects/real-state/notebooks/../utils/optimizer.py:19: FutureWarning: suggest_loguniform has been deprecated in v3.0.0. This feature will be removed in v6.0.0. See https://github.com/optuna/optuna/releases/tag/v3.0.0. Use suggest_float(..., log=True) instead.\n",
      "  'reg_lambda': trial.suggest_loguniform('reg_lambda', 1e-9, 10.0),\n",
      "[I 2024-01-03 16:18:22,404] Trial 21 finished with value: 772845630229.2593 and parameters: {'num_leaves': 116, 'learning_rate': 0.007579245104247396, 'feature_fraction': 0.8250546422970408, 'bagging_fraction': 0.880844409204476, 'bagging_freq': 7, 'reg_alpha': 1.357297063423666e-07, 'reg_lambda': 0.0013177971972277566}. Best is trial 18 with value: 772789824617.7395.\n",
      "/Users/robertogarces/data-science/projects/real-state/notebooks/../utils/optimizer.py:14: FutureWarning: suggest_loguniform has been deprecated in v3.0.0. This feature will be removed in v6.0.0. See https://github.com/optuna/optuna/releases/tag/v3.0.0. Use suggest_float(..., log=True) instead.\n",
      "  'learning_rate': trial.suggest_loguniform('learning_rate', 0.005, 0.2),\n",
      "/Users/robertogarces/data-science/projects/real-state/notebooks/../utils/optimizer.py:15: FutureWarning: suggest_uniform has been deprecated in v3.0.0. This feature will be removed in v6.0.0. See https://github.com/optuna/optuna/releases/tag/v3.0.0. Use suggest_float instead.\n",
      "  'feature_fraction': trial.suggest_uniform('feature_fraction', 0.1, 1.0),\n",
      "/Users/robertogarces/data-science/projects/real-state/notebooks/../utils/optimizer.py:16: FutureWarning: suggest_uniform has been deprecated in v3.0.0. This feature will be removed in v6.0.0. See https://github.com/optuna/optuna/releases/tag/v3.0.0. Use suggest_float instead.\n",
      "  'bagging_fraction': trial.suggest_uniform('bagging_fraction', 0.1, 1.0),\n",
      "/Users/robertogarces/data-science/projects/real-state/notebooks/../utils/optimizer.py:18: FutureWarning: suggest_loguniform has been deprecated in v3.0.0. This feature will be removed in v6.0.0. See https://github.com/optuna/optuna/releases/tag/v3.0.0. Use suggest_float(..., log=True) instead.\n",
      "  'reg_alpha': trial.suggest_loguniform('reg_alpha', 1e-9, 10.0),\n",
      "/Users/robertogarces/data-science/projects/real-state/notebooks/../utils/optimizer.py:19: FutureWarning: suggest_loguniform has been deprecated in v3.0.0. This feature will be removed in v6.0.0. See https://github.com/optuna/optuna/releases/tag/v3.0.0. Use suggest_float(..., log=True) instead.\n",
      "  'reg_lambda': trial.suggest_loguniform('reg_lambda', 1e-9, 10.0),\n",
      "[I 2024-01-03 16:18:35,767] Trial 22 finished with value: 776833494059.9758 and parameters: {'num_leaves': 141, 'learning_rate': 0.012590967513067196, 'feature_fraction': 0.918187474931317, 'bagging_fraction': 0.9050939124405821, 'bagging_freq': 9, 'reg_alpha': 7.3613739583705754e-09, 'reg_lambda': 7.177432341043249e-06}. Best is trial 18 with value: 772789824617.7395.\n",
      "/Users/robertogarces/data-science/projects/real-state/notebooks/../utils/optimizer.py:14: FutureWarning: suggest_loguniform has been deprecated in v3.0.0. This feature will be removed in v6.0.0. See https://github.com/optuna/optuna/releases/tag/v3.0.0. Use suggest_float(..., log=True) instead.\n",
      "  'learning_rate': trial.suggest_loguniform('learning_rate', 0.005, 0.2),\n",
      "/Users/robertogarces/data-science/projects/real-state/notebooks/../utils/optimizer.py:15: FutureWarning: suggest_uniform has been deprecated in v3.0.0. This feature will be removed in v6.0.0. See https://github.com/optuna/optuna/releases/tag/v3.0.0. Use suggest_float instead.\n",
      "  'feature_fraction': trial.suggest_uniform('feature_fraction', 0.1, 1.0),\n",
      "/Users/robertogarces/data-science/projects/real-state/notebooks/../utils/optimizer.py:16: FutureWarning: suggest_uniform has been deprecated in v3.0.0. This feature will be removed in v6.0.0. See https://github.com/optuna/optuna/releases/tag/v3.0.0. Use suggest_float instead.\n",
      "  'bagging_fraction': trial.suggest_uniform('bagging_fraction', 0.1, 1.0),\n",
      "/Users/robertogarces/data-science/projects/real-state/notebooks/../utils/optimizer.py:18: FutureWarning: suggest_loguniform has been deprecated in v3.0.0. This feature will be removed in v6.0.0. See https://github.com/optuna/optuna/releases/tag/v3.0.0. Use suggest_float(..., log=True) instead.\n",
      "  'reg_alpha': trial.suggest_loguniform('reg_alpha', 1e-9, 10.0),\n",
      "/Users/robertogarces/data-science/projects/real-state/notebooks/../utils/optimizer.py:19: FutureWarning: suggest_loguniform has been deprecated in v3.0.0. This feature will be removed in v6.0.0. See https://github.com/optuna/optuna/releases/tag/v3.0.0. Use suggest_float(..., log=True) instead.\n",
      "  'reg_lambda': trial.suggest_loguniform('reg_lambda', 1e-9, 10.0),\n",
      "[I 2024-01-03 16:18:52,376] Trial 23 finished with value: 773443353152.2654 and parameters: {'num_leaves': 165, 'learning_rate': 0.007174065879338292, 'feature_fraction': 0.6944246894746573, 'bagging_fraction': 0.6770420990222261, 'bagging_freq': 6, 'reg_alpha': 9.21996704331945e-06, 'reg_lambda': 2.049612165921698e-05}. Best is trial 18 with value: 772789824617.7395.\n",
      "/Users/robertogarces/data-science/projects/real-state/notebooks/../utils/optimizer.py:14: FutureWarning: suggest_loguniform has been deprecated in v3.0.0. This feature will be removed in v6.0.0. See https://github.com/optuna/optuna/releases/tag/v3.0.0. Use suggest_float(..., log=True) instead.\n",
      "  'learning_rate': trial.suggest_loguniform('learning_rate', 0.005, 0.2),\n",
      "/Users/robertogarces/data-science/projects/real-state/notebooks/../utils/optimizer.py:15: FutureWarning: suggest_uniform has been deprecated in v3.0.0. This feature will be removed in v6.0.0. See https://github.com/optuna/optuna/releases/tag/v3.0.0. Use suggest_float instead.\n",
      "  'feature_fraction': trial.suggest_uniform('feature_fraction', 0.1, 1.0),\n",
      "/Users/robertogarces/data-science/projects/real-state/notebooks/../utils/optimizer.py:16: FutureWarning: suggest_uniform has been deprecated in v3.0.0. This feature will be removed in v6.0.0. See https://github.com/optuna/optuna/releases/tag/v3.0.0. Use suggest_float instead.\n",
      "  'bagging_fraction': trial.suggest_uniform('bagging_fraction', 0.1, 1.0),\n",
      "/Users/robertogarces/data-science/projects/real-state/notebooks/../utils/optimizer.py:18: FutureWarning: suggest_loguniform has been deprecated in v3.0.0. This feature will be removed in v6.0.0. See https://github.com/optuna/optuna/releases/tag/v3.0.0. Use suggest_float(..., log=True) instead.\n",
      "  'reg_alpha': trial.suggest_loguniform('reg_alpha', 1e-9, 10.0),\n",
      "/Users/robertogarces/data-science/projects/real-state/notebooks/../utils/optimizer.py:19: FutureWarning: suggest_loguniform has been deprecated in v3.0.0. This feature will be removed in v6.0.0. See https://github.com/optuna/optuna/releases/tag/v3.0.0. Use suggest_float(..., log=True) instead.\n",
      "  'reg_lambda': trial.suggest_loguniform('reg_lambda', 1e-9, 10.0),\n",
      "[I 2024-01-03 16:18:59,136] Trial 24 finished with value: 771905864545.4493 and parameters: {'num_leaves': 76, 'learning_rate': 0.006811460350462389, 'feature_fraction': 0.8159980668088358, 'bagging_fraction': 0.8410815831569212, 'bagging_freq': 7, 'reg_alpha': 1.6696230103822778e-07, 'reg_lambda': 0.000519735746205558}. Best is trial 24 with value: 771905864545.4493.\n"
     ]
    },
    {
     "name": "stdout",
     "output_type": "stream",
     "text": [
      "{'num_leaves': 76, 'learning_rate': 0.006811460350462389, 'feature_fraction': 0.8159980668088358, 'bagging_fraction': 0.8410815831569212, 'bagging_freq': 7, 'reg_alpha': 1.6696230103822778e-07, 'reg_lambda': 0.000519735746205558}\n"
     ]
    }
   ],
   "source": [
    "# Uso de la función\n",
    "# Supongamos que tienes un DataFrame df y el objetivo es predecir la columna 'target'\n",
    "best_params = optimize_lightgbm_params(train_transformed.drop(target, axis=1), df[target], n_trials=25)\n",
    "print(best_params)"
   ]
  },
  {
   "cell_type": "code",
   "execution_count": 16,
   "metadata": {},
   "outputs": [
    {
     "name": "stdout",
     "output_type": "stream",
     "text": [
      "[LightGBM] [Info] Auto-choosing row-wise multi-threading, the overhead of testing was 0.001425 seconds.\n",
      "You can set `force_row_wise=true` to remove the overhead.\n",
      "And if memory is not enough, you can set `force_col_wise=true`.\n",
      "[LightGBM] [Info] Total Bins 2679\n",
      "[LightGBM] [Info] Number of data points in the train set: 18844, number of used features: 22\n",
      "[LightGBM] [Info] Start training from score 947213.509340\n",
      "RMSE: 470836\n",
      "MSE : 221686669962\n",
      "MAE : 254149\n",
      "MeAE: 122043\n",
      "MAPE: 0\n",
      "R2  : 0.711\n"
     ]
    }
   ],
   "source": [
    "model = train_lightgbm_model(train_transformed, target, best_params)"
   ]
  },
  {
   "cell_type": "code",
   "execution_count": 20,
   "metadata": {},
   "outputs": [],
   "source": [
    "X_test = test_transformed.drop(columns='price')\n",
    "y_test = test_transformed['price']"
   ]
  },
  {
   "cell_type": "code",
   "execution_count": 21,
   "metadata": {},
   "outputs": [
    {
     "name": "stdout",
     "output_type": "stream",
     "text": [
      "RMSE: 465997\n",
      "MSE : 217153513420\n",
      "MAE : 270717\n",
      "MeAE: 139207\n",
      "R2  : 0.721\n"
     ]
    }
   ],
   "source": [
    "test_preds = model.predict(X_test)\n",
    "test_rmse = np.sqrt(np.mean((test_actual - test_preds)**2))\n",
    "test_mse = np.mean((test_actual - test_preds)**2)\n",
    "test_mae = np.mean(np.abs(test_actual - test_preds))\n",
    "test_median_absolute_error = np.median(np.abs(test_actual - test_preds))\n",
    "test_r2 = np.corrcoef(test_actual, test_preds)[0, 1]**2\n",
    "\n",
    "print(f'RMSE: {int(test_rmse)}')\n",
    "print(f'MSE : {int(test_mse)}')\n",
    "print(f'MAE : {int(test_mae)}')\n",
    "print(f'MeAE: {int(test_median_absolute_error)}')\n",
    "print(f'R2  : {round(test_r2, 3)}')"
   ]
  },
  {
   "cell_type": "code",
   "execution_count": null,
   "metadata": {},
   "outputs": [],
   "source": []
  }
 ],
 "metadata": {
  "kernelspec": {
   "display_name": "venv",
   "language": "python",
   "name": "python3"
  },
  "language_info": {
   "codemirror_mode": {
    "name": "ipython",
    "version": 3
   },
   "file_extension": ".py",
   "mimetype": "text/x-python",
   "name": "python",
   "nbconvert_exporter": "python",
   "pygments_lexer": "ipython3",
   "version": "3.10.12"
  }
 },
 "nbformat": 4,
 "nbformat_minor": 2
}
