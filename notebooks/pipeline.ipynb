{
 "cells": [
  {
   "cell_type": "code",
   "execution_count": null,
   "metadata": {},
   "outputs": [],
   "source": [
    "import pandas as pd\n",
    "import sys \n",
    "sys.path.append('../')\n",
    "pd.set_option('display.max_columns', None)\n",
    "\n",
    "from utils.processing import *\n",
    "from utils.file_management import read_yaml\n",
    "from utils.train import train_lightgbm_model\n",
    "from utils.evaluation import mape_score\n",
    "from utils.plotting import plot_feature_importance\n",
    "from utils.evaluation import evaluate_test_set\n",
    "\n",
    "from config.paths import CONFIG_PATH, PROCESSED_DATA_PATH\n",
    "from sklearn.pipeline import Pipeline\n",
    "from sklearn.preprocessing import FunctionTransformer\n",
    "from sklearn.model_selection import train_test_split\n",
    "\n",
    "import lightgbm as lgb"
   ]
  },
  {
   "cell_type": "markdown",
   "metadata": {},
   "source": [
    "# Notas\n",
    "* Eliminar variables correlacionadas empeora el rendimiento tanto para training como para testing.\n",
    "* "
   ]
  },
  {
   "cell_type": "code",
   "execution_count": null,
   "metadata": {},
   "outputs": [],
   "source": [
    "df = import_raw_dataset()\n",
    "features = read_yaml(f'{CONFIG_PATH}/features.yaml')"
   ]
  },
  {
   "cell_type": "code",
   "execution_count": null,
   "metadata": {},
   "outputs": [],
   "source": [
    "target = features['target'][0]\n",
    "target"
   ]
  },
  {
   "cell_type": "code",
   "execution_count": null,
   "metadata": {},
   "outputs": [],
   "source": [
    "df = remove_duplicated_ids(df)\n",
    "df = remove_price_outliers(df, lower_bound=2.5, upper_bound=97.5)"
   ]
  },
  {
   "cell_type": "code",
   "execution_count": null,
   "metadata": {},
   "outputs": [],
   "source": [
    "pctg_train = 0.8\n",
    "n_train = int(len(df) * pctg_train)\n",
    "train_idx = df.sample(n=n_train, random_state=42).index\n",
    "train = df.loc[train_idx]\n",
    "test = df.loc[~df.index.isin(train_idx)]"
   ]
  },
  {
   "cell_type": "markdown",
   "metadata": {},
   "source": [
    "# Preprocessing"
   ]
  },
  {
   "cell_type": "code",
   "execution_count": null,
   "metadata": {},
   "outputs": [],
   "source": [
    "transform_price_log = FunctionTransformer(transform_price_log, validate=False)\n",
    "transform_area_units = FunctionTransformer(transform_area_units, validate=False)\n",
    "categorize_bedrooms = FunctionTransformer(categorize_bedrooms, validate=False)\n",
    "categorize_bathrooms = FunctionTransformer(categorize_bathrooms, validate=False)\n",
    "categorize_yearBuilt = FunctionTransformer(categorize_yearBuilt, validate=False)\n",
    "remove_garageSpaces_outliers = FunctionTransformer(remove_garageSpaces_outliers, validate=False)\n",
    "map_levels = FunctionTransformer(map_levels, validate=False)\n",
    "process_homeType = FunctionTransformer(process_homeType, validate=False)\n",
    "impute_hasGarage = FunctionTransformer(impute_hasGarage, validate=False)\n",
    "city_median_price = FunctionTransformer(calculate_statistic, validate=False, kw_args={'feature': 'city', 'statistic': 'median'})\n",
    "city_mean_price = FunctionTransformer(calculate_statistic, validate=False, kw_args={'feature': 'city', 'statistic': 'mean'})\n",
    "county_median_price = FunctionTransformer(calculate_statistic, validate=False, kw_args={'feature': 'county', 'statistic': 'median'})\n",
    "county_mean_price = FunctionTransformer(calculate_statistic, validate=False, kw_args={'feature': 'county', 'statistic': 'mean'})\n",
    "_5_knn_median_price = FunctionTransformer(knn_property_price, validate=False, kw_args={'n_neighbors':5, 'statistic':'median'})\n",
    "_5_knn_mean_price = FunctionTransformer(knn_property_price, validate=False, kw_args={'n_neighbors':5, 'statistic':'mean'})\n",
    "_25_knn_median_price = FunctionTransformer(knn_property_price, validate=False, kw_args={'n_neighbors':25, 'statistic':'median'})\n",
    "_25_knn_mean_price = FunctionTransformer(knn_property_price, validate=False, kw_args={'n_neighbors':25, 'statistic':'mean'})\n",
    "encoding = FunctionTransformer(encode_categorical_variables, validate=False)\n",
    "drop_features = FunctionTransformer(drop_features, validate=False, kw_args={'target':target})\n",
    "remove_highly_correlated_features = FunctionTransformer(remove_highly_correlated_features, validate=False, kw_args={'target':'price', 'threshold':0.9})"
   ]
  },
  {
   "cell_type": "code",
   "execution_count": null,
   "metadata": {},
   "outputs": [],
   "source": [
    "preprocessing_steps = [\n",
    "    ('transform_price_log', transform_price_log),\n",
    "    ('transform_area_units', transform_area_units),\n",
    "    ('categorize_bedrooms', categorize_bedrooms),\n",
    "    ('categorize_bathrooms', categorize_bathrooms),\n",
    "    ('categorize_yearBuilt', categorize_yearBuilt),\n",
    "    ('remove_garageSpaces_outliers', remove_garageSpaces_outliers),\n",
    "    ('map_levels', map_levels),\n",
    "    ('process_homeType', process_homeType),\n",
    "    ('impute_hasGarage', impute_hasGarage),\n",
    "    ('city_median_price', city_median_price),\n",
    "    ('city_mean_price', city_mean_price),\n",
    "    ('county_median_price', county_median_price),\n",
    "    ('county_mean_price', county_mean_price),\n",
    "    ('5_knn_median_price', _5_knn_median_price),\n",
    "    ('5_knn_mean_price', _5_knn_mean_price),\n",
    "    ('25_knn_median_price', _25_knn_median_price),\n",
    "    ('25_knn_mean_price', _25_knn_mean_price),\n",
    "    ('encoding', encoding),\n",
    "    ('drop_features', drop_features),\n",
    "  #  ('remove_highly_correlated_features', remove_highly_correlated_features)\n",
    "]"
   ]
  },
  {
   "cell_type": "markdown",
   "metadata": {},
   "source": [
    "# Pipelines"
   ]
  },
  {
   "cell_type": "code",
   "execution_count": null,
   "metadata": {},
   "outputs": [],
   "source": [
    "preprocessing_pipeline = Pipeline(preprocessing_steps)\n",
    "train_transformed = preprocessing_pipeline.fit_transform(train.copy())\n",
    "\n",
    "train_transformed.to_parquet(f'{PROCESSED_DATA_PATH}/transformed_dataset.parquet', index=False)"
   ]
  },
  {
   "cell_type": "code",
   "execution_count": null,
   "metadata": {},
   "outputs": [],
   "source": [
    "train_transformed.head(3)"
   ]
  },
  {
   "cell_type": "markdown",
   "metadata": {},
   "source": [
    "# Cluster test\n",
    "\n",
    "##### The cluster model feature doesn't have too much importance for the model (it's on the last 5 features with the less importance)"
   ]
  },
  {
   "cell_type": "code",
   "execution_count": null,
   "metadata": {},
   "outputs": [],
   "source": [
    "#features = train_transformed.drop(columns=target).columns\n",
    "#cluster_model = cluster_model_feature(train_transformed, max_clusters=8, features=features)\n",
    "#train_transformed =  apply_cluster_model_feature(train_transformed, cluster_model, features)"
   ]
  },
  {
   "cell_type": "markdown",
   "metadata": {},
   "source": [
    "# Do a quick checking of the different model performance\n",
    "\n",
    "##### We'll use Lazy Predict to train and evaluate multiple default models. With this we'll be able to ckech which model performes the best with the data."
   ]
  },
  {
   "cell_type": "code",
   "execution_count": null,
   "metadata": {},
   "outputs": [],
   "source": [
    "from lazypredict.Supervised import LazyRegressor"
   ]
  },
  {
   "cell_type": "code",
   "execution_count": null,
   "metadata": {},
   "outputs": [],
   "source": [
    "X_train, X_test, y_train, y_test = train_test_split(train_transformed.drop(columns=target), train_transformed[target], test_size=0.2)"
   ]
  },
  {
   "cell_type": "code",
   "execution_count": 13,
   "metadata": {},
   "outputs": [],
   "source": [
    "reg = LazyRegressor(verbose=0, ignore_warnings=False, custom_metric=None)\n",
    "models, predictions = reg.fit(X_train, X_test, y_train, y_test)\n",
    "\n",
    "print(models)"
   ]
  },
  {
   "cell_type": "code",
   "execution_count": null,
   "metadata": {},
   "outputs": [],
   "source": []
  },
  {
   "cell_type": "markdown",
   "metadata": {},
   "source": [
    "# Modeling"
   ]
  },
  {
   "cell_type": "code",
   "execution_count": null,
   "metadata": {},
   "outputs": [],
   "source": [
    "model = train_lightgbm_model(train_transformed, target)"
   ]
  },
  {
   "cell_type": "code",
   "execution_count": null,
   "metadata": {},
   "outputs": [],
   "source": [
    "plot_feature_importance(model)"
   ]
  },
  {
   "cell_type": "markdown",
   "metadata": {},
   "source": [
    "# Evaluate on testing"
   ]
  },
  {
   "cell_type": "code",
   "execution_count": null,
   "metadata": {},
   "outputs": [],
   "source": [
    "test_transformed = preprocessing_pipeline.transform(test.copy())"
   ]
  },
  {
   "cell_type": "code",
   "execution_count": null,
   "metadata": {},
   "outputs": [],
   "source": [
    "evaluate_test_set(test_transformed, model, target, decimals=3, log_inverse_transform=False)"
   ]
  },
  {
   "cell_type": "markdown",
   "metadata": {},
   "source": [
    "# Optuna"
   ]
  },
  {
   "cell_type": "code",
   "execution_count": null,
   "metadata": {},
   "outputs": [],
   "source": [
    "from utils.optimizer import optimize_lightgbm_params\n",
    "from utils.train import train_lightgbm_model"
   ]
  },
  {
   "cell_type": "code",
   "execution_count": null,
   "metadata": {},
   "outputs": [],
   "source": [
    "train_transformed"
   ]
  },
  {
   "cell_type": "code",
   "execution_count": null,
   "metadata": {},
   "outputs": [],
   "source": [
    "# Uso de la función\n",
    "# Supongamos que tienes un DataFrame df y el objetivo es predecir la columna 'target'\n",
    "best_params = optimize_lightgbm_params(train_transformed.drop(target, axis=1), train_transformed[target], n_trials=25)\n",
    "print(best_params)"
   ]
  },
  {
   "cell_type": "code",
   "execution_count": null,
   "metadata": {},
   "outputs": [],
   "source": [
    "model = train_lightgbm_model(train_transformed, target, best_params)"
   ]
  },
  {
   "cell_type": "code",
   "execution_count": null,
   "metadata": {},
   "outputs": [],
   "source": [
    "evaluate_test_set(test_transformed, model, target, decimals=3)"
   ]
  },
  {
   "cell_type": "code",
   "execution_count": null,
   "metadata": {},
   "outputs": [],
   "source": []
  },
  {
   "cell_type": "code",
   "execution_count": null,
   "metadata": {},
   "outputs": [],
   "source": []
  }
 ],
 "metadata": {
  "kernelspec": {
   "display_name": "venv",
   "language": "python",
   "name": "python3"
  },
  "language_info": {
   "codemirror_mode": {
    "name": "ipython",
    "version": 3
   },
   "file_extension": ".py",
   "mimetype": "text/x-python",
   "name": "python",
   "nbconvert_exporter": "python",
   "pygments_lexer": "ipython3",
   "version": "3.10.12"
  }
 },
 "nbformat": 4,
 "nbformat_minor": 2
}
