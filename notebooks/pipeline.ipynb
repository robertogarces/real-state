{
 "cells": [
  {
   "cell_type": "code",
   "execution_count": 1,
   "metadata": {},
   "outputs": [],
   "source": [
    "import pandas as pd\n",
    "import sys \n",
    "sys.path.append('../')\n",
    "pd.set_option('display.max_columns', None)\n",
    "\n",
    "from utils.processing import *\n",
    "from utils.file_management import read_yaml\n",
    "from utils.train import train_lightgbm_model\n",
    "from utils.evaluation import mape_score\n",
    "from utils.plotting import plot_feature_importance\n",
    "from utils.evaluation import evaluate_test_set\n",
    "\n",
    "from config.paths import CONFIG_PATH, PROCESSED_DATA_PATH\n",
    "from sklearn.pipeline import Pipeline\n",
    "from sklearn.preprocessing import FunctionTransformer\n",
    "from sklearn.model_selection import train_test_split\n",
    "\n",
    "import lightgbm as lgb"
   ]
  },
  {
   "cell_type": "markdown",
   "metadata": {},
   "source": [
    "# Notas\n",
    "* Eliminar variables correlacionadas empeora el rendimiento tanto para training como para testing.\n",
    "* "
   ]
  },
  {
   "cell_type": "code",
   "execution_count": 2,
   "metadata": {},
   "outputs": [
    {
     "name": "stdout",
     "output_type": "stream",
     "text": [
      "Successfully import /Users/robertogarces/data-science/projects/real-state/data/raw/RealEstate_California.csv\n"
     ]
    }
   ],
   "source": [
    "df = import_raw_dataset()\n",
    "features = read_yaml(f'{CONFIG_PATH}/features.yaml')"
   ]
  },
  {
   "cell_type": "code",
   "execution_count": 3,
   "metadata": {},
   "outputs": [
    {
     "data": {
      "text/plain": [
       "'price'"
      ]
     },
     "execution_count": 3,
     "metadata": {},
     "output_type": "execute_result"
    }
   ],
   "source": [
    "target = features['target'][0]\n",
    "target"
   ]
  },
  {
   "cell_type": "code",
   "execution_count": 4,
   "metadata": {},
   "outputs": [
    {
     "name": "stdout",
     "output_type": "stream",
     "text": [
      "29500.0 5500000.0\n"
     ]
    }
   ],
   "source": [
    "df = remove_duplicated_ids(df)\n",
    "df = remove_price_outliers(df, lower_bound=2.5, upper_bound=97.5)"
   ]
  },
  {
   "cell_type": "code",
   "execution_count": 5,
   "metadata": {},
   "outputs": [],
   "source": [
    "pctg_train = 0.8\n",
    "n_train = int(len(df) * pctg_train)\n",
    "train_idx = df.sample(n=n_train, random_state=42).index\n",
    "train = df.loc[train_idx]\n",
    "test = df.loc[~df.index.isin(train_idx)]"
   ]
  },
  {
   "cell_type": "markdown",
   "metadata": {},
   "source": [
    "# Preprocessing"
   ]
  },
  {
   "cell_type": "code",
   "execution_count": 6,
   "metadata": {},
   "outputs": [],
   "source": [
    "transform_price_log = FunctionTransformer(transform_price_log, validate=False)\n",
    "transform_area_units = FunctionTransformer(transform_area_units, validate=False)\n",
    "categorize_bedrooms = FunctionTransformer(categorize_bedrooms, validate=False)\n",
    "categorize_bathrooms = FunctionTransformer(categorize_bathrooms, validate=False)\n",
    "categorize_yearBuilt = FunctionTransformer(categorize_yearBuilt, validate=False)\n",
    "remove_garageSpaces_outliers = FunctionTransformer(remove_garageSpaces_outliers, validate=False)\n",
    "map_levels = FunctionTransformer(map_levels, validate=False)\n",
    "process_homeType = FunctionTransformer(process_homeType, validate=False)\n",
    "impute_hasGarage = FunctionTransformer(impute_hasGarage, validate=False)\n",
    "city_median_price = FunctionTransformer(calculate_statistic, validate=False, kw_args={'feature': 'city', 'statistic': 'median'})\n",
    "city_mean_price = FunctionTransformer(calculate_statistic, validate=False, kw_args={'feature': 'city', 'statistic': 'mean'})\n",
    "county_median_price = FunctionTransformer(calculate_statistic, validate=False, kw_args={'feature': 'county', 'statistic': 'median'})\n",
    "county_mean_price = FunctionTransformer(calculate_statistic, validate=False, kw_args={'feature': 'county', 'statistic': 'mean'})\n",
    "_5_knn_median_price = FunctionTransformer(knn_property_price, validate=False, kw_args={'n_neighbors':5, 'statistic':'median'})\n",
    "_5_knn_mean_price = FunctionTransformer(knn_property_price, validate=False, kw_args={'n_neighbors':5, 'statistic':'mean'})\n",
    "_25_knn_median_price = FunctionTransformer(knn_property_price, validate=False, kw_args={'n_neighbors':25, 'statistic':'median'})\n",
    "_25_knn_mean_price = FunctionTransformer(knn_property_price, validate=False, kw_args={'n_neighbors':25, 'statistic':'mean'})\n",
    "encoding = FunctionTransformer(encode_categorical_variables, validate=False)\n",
    "drop_features = FunctionTransformer(drop_features, validate=False, kw_args={'target':target})\n",
    "remove_highly_correlated_features = FunctionTransformer(remove_highly_correlated_features, validate=False, kw_args={'target':'price', 'threshold':0.9})"
   ]
  },
  {
   "cell_type": "code",
   "execution_count": 7,
   "metadata": {},
   "outputs": [],
   "source": [
    "preprocessing_steps = [\n",
    "    ('transform_price_log', transform_price_log),\n",
    "    ('transform_area_units', transform_area_units),\n",
    "    ('categorize_bedrooms', categorize_bedrooms),\n",
    "    ('categorize_bathrooms', categorize_bathrooms),\n",
    "    ('categorize_yearBuilt', categorize_yearBuilt),\n",
    "    ('remove_garageSpaces_outliers', remove_garageSpaces_outliers),\n",
    "    ('map_levels', map_levels),\n",
    "    ('process_homeType', process_homeType),\n",
    "    ('impute_hasGarage', impute_hasGarage),\n",
    "    ('city_median_price', city_median_price),\n",
    "    ('city_mean_price', city_mean_price),\n",
    "    ('county_median_price', county_median_price),\n",
    "    ('county_mean_price', county_mean_price),\n",
    "    ('5_knn_median_price', _5_knn_median_price),\n",
    "    ('5_knn_mean_price', _5_knn_mean_price),\n",
    "    ('25_knn_median_price', _25_knn_median_price),\n",
    "    ('25_knn_mean_price', _25_knn_mean_price),\n",
    "    ('encoding', encoding),\n",
    "    ('drop_features', drop_features),\n",
    "  #  ('remove_highly_correlated_features', remove_highly_correlated_features)\n",
    "]"
   ]
  },
  {
   "cell_type": "markdown",
   "metadata": {},
   "source": [
    "# Pipelines"
   ]
  },
  {
   "cell_type": "code",
   "execution_count": 8,
   "metadata": {},
   "outputs": [],
   "source": [
    "preprocessing_pipeline = Pipeline(preprocessing_steps)\n",
    "train_transformed = preprocessing_pipeline.fit_transform(train.copy())\n",
    "\n",
    "train_transformed.to_parquet(f'{PROCESSED_DATA_PATH}/transformed_dataset.parquet', index=False)"
   ]
  },
  {
   "cell_type": "code",
   "execution_count": 9,
   "metadata": {},
   "outputs": [
    {
     "data": {
      "text/html": [
       "<div>\n",
       "<style scoped>\n",
       "    .dataframe tbody tr th:only-of-type {\n",
       "        vertical-align: middle;\n",
       "    }\n",
       "\n",
       "    .dataframe tbody tr th {\n",
       "        vertical-align: top;\n",
       "    }\n",
       "\n",
       "    .dataframe thead th {\n",
       "        text-align: right;\n",
       "    }\n",
       "</style>\n",
       "<table border=\"1\" class=\"dataframe\">\n",
       "  <thead>\n",
       "    <tr style=\"text-align: right;\">\n",
       "      <th></th>\n",
       "      <th>price</th>\n",
       "      <th>state</th>\n",
       "      <th>yearBuilt</th>\n",
       "      <th>longitude</th>\n",
       "      <th>latitude</th>\n",
       "      <th>lotAreaUnits</th>\n",
       "      <th>parking</th>\n",
       "      <th>garageSpaces</th>\n",
       "      <th>levels</th>\n",
       "      <th>pool</th>\n",
       "      <th>spa</th>\n",
       "      <th>homeType</th>\n",
       "      <th>county</th>\n",
       "      <th>livingAreaMts_log</th>\n",
       "      <th>bedrooms_disc</th>\n",
       "      <th>bathrooms_disc</th>\n",
       "      <th>yearBuilt_disc</th>\n",
       "      <th>mapped_levels</th>\n",
       "      <th>city_median_price</th>\n",
       "      <th>city_mean_price</th>\n",
       "      <th>county_median_price</th>\n",
       "      <th>county_mean_price</th>\n",
       "      <th>5_knn_median_price</th>\n",
       "      <th>5_knn_mean_price</th>\n",
       "      <th>25_knn_median_price</th>\n",
       "      <th>25_knn_mean_price</th>\n",
       "    </tr>\n",
       "  </thead>\n",
       "  <tbody>\n",
       "    <tr>\n",
       "      <th>11623</th>\n",
       "      <td>1599000.0</td>\n",
       "      <td>0</td>\n",
       "      <td>1952</td>\n",
       "      <td>-118.420631</td>\n",
       "      <td>33.989059</td>\n",
       "      <td>1</td>\n",
       "      <td>0</td>\n",
       "      <td>0.0</td>\n",
       "      <td>38</td>\n",
       "      <td>0</td>\n",
       "      <td>0</td>\n",
       "      <td>3</td>\n",
       "      <td>18</td>\n",
       "      <td>7.167809</td>\n",
       "      <td>2</td>\n",
       "      <td>1</td>\n",
       "      <td>1</td>\n",
       "      <td>2</td>\n",
       "      <td>1095000.0</td>\n",
       "      <td>1.366969e+06</td>\n",
       "      <td>880000.0</td>\n",
       "      <td>1.188662e+06</td>\n",
       "      <td>1299000.0</td>\n",
       "      <td>1361400.0</td>\n",
       "      <td>1300000.0</td>\n",
       "      <td>1531823.88</td>\n",
       "    </tr>\n",
       "    <tr>\n",
       "      <th>20094</th>\n",
       "      <td>509900.0</td>\n",
       "      <td>0</td>\n",
       "      <td>1992</td>\n",
       "      <td>-122.405731</td>\n",
       "      <td>40.551060</td>\n",
       "      <td>0</td>\n",
       "      <td>1</td>\n",
       "      <td>0.0</td>\n",
       "      <td>0</td>\n",
       "      <td>1</td>\n",
       "      <td>0</td>\n",
       "      <td>3</td>\n",
       "      <td>44</td>\n",
       "      <td>7.705262</td>\n",
       "      <td>1</td>\n",
       "      <td>1</td>\n",
       "      <td>2</td>\n",
       "      <td>0</td>\n",
       "      <td>399900.0</td>\n",
       "      <td>4.450321e+05</td>\n",
       "      <td>304500.0</td>\n",
       "      <td>3.944190e+05</td>\n",
       "      <td>385000.0</td>\n",
       "      <td>380980.0</td>\n",
       "      <td>379000.0</td>\n",
       "      <td>404480.00</td>\n",
       "    </tr>\n",
       "    <tr>\n",
       "      <th>35289</th>\n",
       "      <td>324000.0</td>\n",
       "      <td>0</td>\n",
       "      <td>1978</td>\n",
       "      <td>-120.628792</td>\n",
       "      <td>39.566463</td>\n",
       "      <td>0</td>\n",
       "      <td>0</td>\n",
       "      <td>0.0</td>\n",
       "      <td>0</td>\n",
       "      <td>0</td>\n",
       "      <td>0</td>\n",
       "      <td>3</td>\n",
       "      <td>45</td>\n",
       "      <td>7.667158</td>\n",
       "      <td>1</td>\n",
       "      <td>1</td>\n",
       "      <td>2</td>\n",
       "      <td>0</td>\n",
       "      <td>324000.0</td>\n",
       "      <td>4.411429e+05</td>\n",
       "      <td>269500.0</td>\n",
       "      <td>4.138498e+05</td>\n",
       "      <td>350000.0</td>\n",
       "      <td>358800.0</td>\n",
       "      <td>449000.0</td>\n",
       "      <td>979512.00</td>\n",
       "    </tr>\n",
       "  </tbody>\n",
       "</table>\n",
       "</div>"
      ],
      "text/plain": [
       "           price  state  yearBuilt   longitude   latitude  lotAreaUnits  \\\n",
       "11623  1599000.0      0       1952 -118.420631  33.989059             1   \n",
       "20094   509900.0      0       1992 -122.405731  40.551060             0   \n",
       "35289   324000.0      0       1978 -120.628792  39.566463             0   \n",
       "\n",
       "       parking  garageSpaces  levels  pool  spa  homeType  county  \\\n",
       "11623        0           0.0      38     0    0         3      18   \n",
       "20094        1           0.0       0     1    0         3      44   \n",
       "35289        0           0.0       0     0    0         3      45   \n",
       "\n",
       "       livingAreaMts_log  bedrooms_disc  bathrooms_disc  yearBuilt_disc  \\\n",
       "11623           7.167809              2               1               1   \n",
       "20094           7.705262              1               1               2   \n",
       "35289           7.667158              1               1               2   \n",
       "\n",
       "       mapped_levels  city_median_price  city_mean_price  county_median_price  \\\n",
       "11623              2          1095000.0     1.366969e+06             880000.0   \n",
       "20094              0           399900.0     4.450321e+05             304500.0   \n",
       "35289              0           324000.0     4.411429e+05             269500.0   \n",
       "\n",
       "       county_mean_price  5_knn_median_price  5_knn_mean_price  \\\n",
       "11623       1.188662e+06           1299000.0         1361400.0   \n",
       "20094       3.944190e+05            385000.0          380980.0   \n",
       "35289       4.138498e+05            350000.0          358800.0   \n",
       "\n",
       "       25_knn_median_price  25_knn_mean_price  \n",
       "11623            1300000.0         1531823.88  \n",
       "20094             379000.0          404480.00  \n",
       "35289             449000.0          979512.00  "
      ]
     },
     "execution_count": 9,
     "metadata": {},
     "output_type": "execute_result"
    }
   ],
   "source": [
    "train_transformed.head(3)"
   ]
  },
  {
   "cell_type": "markdown",
   "metadata": {},
   "source": [
    "# Cluster test\n",
    "\n",
    "##### The cluster model feature doesn't have too much importance for the model (it's on the last 5 features with the less importance)"
   ]
  },
  {
   "cell_type": "code",
   "execution_count": 10,
   "metadata": {},
   "outputs": [],
   "source": [
    "#features = train_transformed.drop(columns=target).columns\n",
    "#cluster_model = cluster_model_feature(train_transformed, max_clusters=8, features=features)\n",
    "#train_transformed =  apply_cluster_model_feature(train_transformed, cluster_model, features)"
   ]
  },
  {
   "cell_type": "markdown",
   "metadata": {},
   "source": [
    "# Do a quick checking of the different model performance\n",
    "\n",
    "##### We'll use Lazy Predict to train and evaluate multiple default models. With this we'll be able to ckech which model performes the best with the data."
   ]
  },
  {
   "cell_type": "code",
   "execution_count": 17,
   "metadata": {},
   "outputs": [],
   "source": [
    "from lazypredict.Supervised import LazyRegressor"
   ]
  },
  {
   "cell_type": "code",
   "execution_count": 18,
   "metadata": {},
   "outputs": [],
   "source": [
    "X_train, X_test, y_train, y_test = train_test_split(train_transformed.drop(columns=target), train_transformed[target], test_size=0.2)"
   ]
  },
  {
   "cell_type": "code",
   "execution_count": 19,
   "metadata": {},
   "outputs": [
    {
     "name": "stderr",
     "output_type": "stream",
     "text": [
      " 36%|███▌      | 15/42 [04:00<07:37, 16.93s/it]"
     ]
    }
   ],
   "source": [
    "reg = LazyRegressor(verbose=0, ignore_warnings=False, custom_metric=None)\n",
    "models, predictions = reg.fit(X_train, X_test, y_train, y_test)\n",
    "\n",
    "print(models)"
   ]
  },
  {
   "cell_type": "code",
   "execution_count": null,
   "metadata": {},
   "outputs": [],
   "source": []
  },
  {
   "cell_type": "markdown",
   "metadata": {},
   "source": [
    "# Modeling"
   ]
  },
  {
   "cell_type": "code",
   "execution_count": 11,
   "metadata": {},
   "outputs": [
    {
     "name": "stdout",
     "output_type": "stream",
     "text": [
      "[LightGBM] [Info] Auto-choosing row-wise multi-threading, the overhead of testing was 0.001378 seconds.\n",
      "You can set `force_row_wise=true` to remove the overhead.\n",
      "And if memory is not enough, you can set `force_col_wise=true`.\n",
      "[LightGBM] [Info] Total Bins 2679\n",
      "[LightGBM] [Info] Number of data points in the train set: 18844, number of used features: 24\n",
      "[LightGBM] [Info] Start training from score 947213.509340\n",
      "RMSE: 465084\n",
      "MSE : 216303252880\n",
      "MAE : 250491\n",
      "MeAE: 118007\n",
      "MAPE: 0\n",
      "R2  : 0.718\n"
     ]
    }
   ],
   "source": [
    "model = train_lightgbm_model(train_transformed, target)"
   ]
  },
  {
   "cell_type": "code",
   "execution_count": 12,
   "metadata": {},
   "outputs": [
    {
     "data": {
      "text/plain": [
       "<AxesSubplot: title={'center': 'Feature Importance Plot'}, xlabel='Importance', ylabel='Feature'>"
      ]
     },
     "execution_count": 12,
     "metadata": {},
     "output_type": "execute_result"
    },
    {
     "data": {
      "image/png": "[encoded data removed]",
      "text/plain": [
       "<Figure size 1000x800 with 1 Axes>"
      ]
     },
     "metadata": {},
     "output_type": "display_data"
    }
   ],
   "source": [
    "plot_feature_importance(model)"
   ]
  },
  {
   "cell_type": "markdown",
   "metadata": {},
   "source": [
    "# Evaluate on testing"
   ]
  },
  {
   "cell_type": "code",
   "execution_count": 13,
   "metadata": {},
   "outputs": [],
   "source": [
    "test_transformed = preprocessing_pipeline.transform(test.copy())"
   ]
  },
  {
   "cell_type": "code",
   "execution_count": 14,
   "metadata": {},
   "outputs": [
    {
     "name": "stdout",
     "output_type": "stream",
     "text": [
      "RMSE: 448425.029\n",
      "MSE : 201085006966.955\n",
      "MAE : 253488.735\n",
      "MeAE: 126767.403\n",
      "MAPE: 0.511\n",
      "R2  : 0.742\n"
     ]
    }
   ],
   "source": [
    "evaluate_test_set(test_transformed, model, target, decimals=3, log_inverse_transform=False)"
   ]
  },
  {
   "cell_type": "markdown",
   "metadata": {},
   "source": [
    "# Optuna"
   ]
  },
  {
   "cell_type": "code",
   "execution_count": null,
   "metadata": {},
   "outputs": [],
   "source": [
    "from utils.optimizer import optimize_lightgbm_params\n",
    "from utils.train import train_lightgbm_model"
   ]
  },
  {
   "cell_type": "code",
   "execution_count": null,
   "metadata": {},
   "outputs": [],
   "source": [
    "train_transformed"
   ]
  },
  {
   "cell_type": "code",
   "execution_count": null,
   "metadata": {},
   "outputs": [],
   "source": [
    "# Uso de la función\n",
    "# Supongamos que tienes un DataFrame df y el objetivo es predecir la columna 'target'\n",
    "best_params = optimize_lightgbm_params(train_transformed.drop(target, axis=1), train_transformed[target], n_trials=25)\n",
    "print(best_params)"
   ]
  },
  {
   "cell_type": "code",
   "execution_count": null,
   "metadata": {},
   "outputs": [],
   "source": [
    "model = train_lightgbm_model(train_transformed, target, best_params)"
   ]
  },
  {
   "cell_type": "code",
   "execution_count": null,
   "metadata": {},
   "outputs": [],
   "source": [
    "evaluate_test_set(test_transformed, model, target, decimals=3)"
   ]
  },
  {
   "cell_type": "code",
   "execution_count": null,
   "metadata": {},
   "outputs": [],
   "source": []
  },
  {
   "cell_type": "code",
   "execution_count": null,
   "metadata": {},
   "outputs": [],
   "source": []
  }
 ],
 "metadata": {
  "kernelspec": {
   "display_name": "venv",
   "language": "python",
   "name": "python3"
  },
  "language_info": {
   "codemirror_mode": {
    "name": "ipython",
    "version": 3
   },
   "file_extension": ".py",
   "mimetype": "text/x-python",
   "name": "python",
   "nbconvert_exporter": "python",
   "pygments_lexer": "ipython3",
   "version": "3.10.12"
  }
 },
 "nbformat": 4,
 "nbformat_minor": 2
}
