{
 "cells": [
  {
   "cell_type": "code",
   "execution_count": 1,
   "metadata": {},
   "outputs": [],
   "source": [
    "import pandas as pd\n",
    "\n",
    "import matplotlib.pyplot as plt\n",
    "import numpy as np\n",
    "from ydata_profiling import ProfileReport\n",
    "import sys\n",
    "\n",
    "sys.path.append('../')\n",
    "pd.set_option('display.max_columns', None)\n",
    "\n",
    "from config.paths import RAW_DATA_PATH, CONFIG_PATH, PROCESSED_DATA_PATH\n",
    "from utils.file_management import read_yaml\n",
    "from utils.processing import discretize_data, remove_price_outliers, replace_zeros_with_nans, transform_area_units"
   ]
  },
  {
   "cell_type": "markdown",
   "metadata": {},
   "source": [
    "---\n",
    "# Import data\n",
    "\n",
    "Raw dataset and features configuration is imported"
   ]
  },
  {
   "cell_type": "code",
   "execution_count": 2,
   "metadata": {},
   "outputs": [],
   "source": [
    "df = pd.read_csv(f'{RAW_DATA_PATH}/RealEstate_California.csv').drop(columns=[\"Unnamed: 0\"])\n",
    "features = read_yaml(f'{CONFIG_PATH}/features.yaml')\n",
    "target = features['target']"
   ]
  },
  {
   "cell_type": "code",
   "execution_count": 3,
   "metadata": {},
   "outputs": [
    {
     "data": {
      "text/html": [
       "<div>\n",
       "<style scoped>\n",
       "    .dataframe tbody tr th:only-of-type {\n",
       "        vertical-align: middle;\n",
       "    }\n",
       "\n",
       "    .dataframe tbody tr th {\n",
       "        vertical-align: top;\n",
       "    }\n",
       "\n",
       "    .dataframe thead th {\n",
       "        text-align: right;\n",
       "    }\n",
       "</style>\n",
       "<table border=\"1\" class=\"dataframe\">\n",
       "  <thead>\n",
       "    <tr style=\"text-align: right;\">\n",
       "      <th></th>\n",
       "      <th>id</th>\n",
       "      <th>stateId</th>\n",
       "      <th>countyId</th>\n",
       "      <th>cityId</th>\n",
       "      <th>country</th>\n",
       "      <th>datePostedString</th>\n",
       "      <th>is_bankOwned</th>\n",
       "      <th>is_forAuction</th>\n",
       "      <th>event</th>\n",
       "      <th>time</th>\n",
       "      <th>price</th>\n",
       "      <th>pricePerSquareFoot</th>\n",
       "      <th>city</th>\n",
       "      <th>state</th>\n",
       "      <th>yearBuilt</th>\n",
       "      <th>streetAddress</th>\n",
       "      <th>zipcode</th>\n",
       "      <th>longitude</th>\n",
       "      <th>latitude</th>\n",
       "      <th>hasBadGeocode</th>\n",
       "      <th>description</th>\n",
       "      <th>currency</th>\n",
       "      <th>livingArea</th>\n",
       "      <th>livingAreaValue</th>\n",
       "      <th>lotAreaUnits</th>\n",
       "      <th>bathrooms</th>\n",
       "      <th>bedrooms</th>\n",
       "      <th>buildingArea</th>\n",
       "      <th>parking</th>\n",
       "      <th>garageSpaces</th>\n",
       "      <th>hasGarage</th>\n",
       "      <th>levels</th>\n",
       "      <th>pool</th>\n",
       "      <th>spa</th>\n",
       "      <th>isNewConstruction</th>\n",
       "      <th>hasPetsAllowed</th>\n",
       "      <th>homeType</th>\n",
       "      <th>county</th>\n",
       "    </tr>\n",
       "  </thead>\n",
       "  <tbody>\n",
       "    <tr>\n",
       "      <th>0</th>\n",
       "      <td>95717-2087851113</td>\n",
       "      <td>9</td>\n",
       "      <td>77</td>\n",
       "      <td>24895</td>\n",
       "      <td>USA</td>\n",
       "      <td>2021-01-13</td>\n",
       "      <td>0</td>\n",
       "      <td>0</td>\n",
       "      <td>Listed for sale</td>\n",
       "      <td>1.610496e+12</td>\n",
       "      <td>145000.0</td>\n",
       "      <td>0.0</td>\n",
       "      <td>Gold Run</td>\n",
       "      <td>CA</td>\n",
       "      <td>0</td>\n",
       "      <td>0 Moody Ridge Rd</td>\n",
       "      <td>95717.0</td>\n",
       "      <td>-120.834473</td>\n",
       "      <td>39.167866</td>\n",
       "      <td>0</td>\n",
       "      <td>Amazing opportunity to build your dream home O...</td>\n",
       "      <td>USD</td>\n",
       "      <td>0.0</td>\n",
       "      <td>0.0</td>\n",
       "      <td>Acres</td>\n",
       "      <td>0.0</td>\n",
       "      <td>0.0</td>\n",
       "      <td>0.0</td>\n",
       "      <td>0</td>\n",
       "      <td>0.0</td>\n",
       "      <td>0</td>\n",
       "      <td>0</td>\n",
       "      <td>0</td>\n",
       "      <td>0</td>\n",
       "      <td>0</td>\n",
       "      <td>0</td>\n",
       "      <td>LOT</td>\n",
       "      <td>Placer County</td>\n",
       "    </tr>\n",
       "    <tr>\n",
       "      <th>1</th>\n",
       "      <td>94564-18496265</td>\n",
       "      <td>9</td>\n",
       "      <td>189</td>\n",
       "      <td>36958</td>\n",
       "      <td>USA</td>\n",
       "      <td>2021-07-12</td>\n",
       "      <td>0</td>\n",
       "      <td>0</td>\n",
       "      <td>Listed for sale</td>\n",
       "      <td>1.626048e+12</td>\n",
       "      <td>675000.0</td>\n",
       "      <td>404.0</td>\n",
       "      <td>Pinole</td>\n",
       "      <td>CA</td>\n",
       "      <td>1958</td>\n",
       "      <td>1476 Belden Ct</td>\n",
       "      <td>94564.0</td>\n",
       "      <td>-122.300613</td>\n",
       "      <td>38.001213</td>\n",
       "      <td>0</td>\n",
       "      <td>\"Great house in a wonderful neighborhood!  Wal...</td>\n",
       "      <td>USD</td>\n",
       "      <td>1671.0</td>\n",
       "      <td>1671.0</td>\n",
       "      <td>sqft</td>\n",
       "      <td>2.0</td>\n",
       "      <td>3.0</td>\n",
       "      <td>1671.0</td>\n",
       "      <td>1</td>\n",
       "      <td>2.0</td>\n",
       "      <td>1</td>\n",
       "      <td>One Story</td>\n",
       "      <td>0</td>\n",
       "      <td>0</td>\n",
       "      <td>0</td>\n",
       "      <td>0</td>\n",
       "      <td>SINGLE_FAMILY</td>\n",
       "      <td>Contra Costa County</td>\n",
       "    </tr>\n",
       "  </tbody>\n",
       "</table>\n",
       "</div>"
      ],
      "text/plain": [
       "                 id  stateId  countyId  cityId country datePostedString  \\\n",
       "0  95717-2087851113        9        77   24895     USA       2021-01-13   \n",
       "1    94564-18496265        9       189   36958     USA       2021-07-12   \n",
       "\n",
       "   is_bankOwned  is_forAuction            event          time     price  \\\n",
       "0             0              0  Listed for sale  1.610496e+12  145000.0   \n",
       "1             0              0  Listed for sale  1.626048e+12  675000.0   \n",
       "\n",
       "   pricePerSquareFoot      city state  yearBuilt     streetAddress  zipcode  \\\n",
       "0                 0.0  Gold Run    CA          0  0 Moody Ridge Rd  95717.0   \n",
       "1               404.0    Pinole    CA       1958    1476 Belden Ct  94564.0   \n",
       "\n",
       "    longitude   latitude  hasBadGeocode  \\\n",
       "0 -120.834473  39.167866              0   \n",
       "1 -122.300613  38.001213              0   \n",
       "\n",
       "                                         description currency  livingArea  \\\n",
       "0  Amazing opportunity to build your dream home O...      USD         0.0   \n",
       "1  \"Great house in a wonderful neighborhood!  Wal...      USD      1671.0   \n",
       "\n",
       "   livingAreaValue lotAreaUnits  bathrooms  bedrooms  buildingArea  parking  \\\n",
       "0              0.0        Acres        0.0       0.0           0.0        0   \n",
       "1           1671.0         sqft        2.0       3.0        1671.0        1   \n",
       "\n",
       "   garageSpaces  hasGarage     levels  pool  spa  isNewConstruction  \\\n",
       "0           0.0          0          0     0    0                  0   \n",
       "1           2.0          1  One Story     0    0                  0   \n",
       "\n",
       "   hasPetsAllowed       homeType               county  \n",
       "0               0            LOT        Placer County  \n",
       "1               0  SINGLE_FAMILY  Contra Costa County  "
      ]
     },
     "execution_count": 3,
     "metadata": {},
     "output_type": "execute_result"
    }
   ],
   "source": [
    "df.head(2)"
   ]
  },
  {
   "cell_type": "markdown",
   "metadata": {},
   "source": [
    "---\n",
    "\n",
    "# Preprocessing\n",
    "\n",
    "* [X] Drop duplicated IDs.\n",
    "* [X] Drop useless and noisy features.\n",
    "* [X] Drop price == 0.\n",
    "* [X] Drop price outliers.\n",
    "* [X] Homologate different area units to mts2.\n",
    "* [X] Normalize area feature distribution.\n",
    "* [X] Discretize features with explicit nulls marked as zeros.\n",
    "* [X] Create mapped features over the cardinal discretized features.\n",
    "* [X] Create a function that reduces 'levels' feature cardinality.\n",
    "* [X] Reduce cardinality on homeType feature.\n",
    "* [X] If hasGarage==0 & garageSpaces!=0, change hasGarage value to 1"
   ]
  },
  {
   "cell_type": "markdown",
   "metadata": {},
   "source": [
    "### Drop duplicated ids"
   ]
  },
  {
   "cell_type": "code",
   "execution_count": 4,
   "metadata": {},
   "outputs": [],
   "source": [
    "df.sort_values(['id', 'datePostedString'])\n",
    "df.drop_duplicates(subset=\"id\", keep='first', inplace=True)"
   ]
  },
  {
   "cell_type": "markdown",
   "metadata": {},
   "source": [
    "### Drop features"
   ]
  },
  {
   "cell_type": "code",
   "execution_count": 5,
   "metadata": {},
   "outputs": [],
   "source": [
    "columns_to_drop = features['constant_columns'] + features['unique_columns'] + features['heavily_imbalanced_columns'] + features['non_important_columns'] + features['data_leakage_columns']\n",
    "df.drop(columns=columns_to_drop, inplace=True)"
   ]
  },
  {
   "cell_type": "code",
   "execution_count": 6,
   "metadata": {},
   "outputs": [],
   "source": [
    "#df.describe(percentiles=[i/20 for i in range(20)])"
   ]
  },
  {
   "cell_type": "markdown",
   "metadata": {},
   "source": [
    "# Outliers treatment"
   ]
  },
  {
   "cell_type": "code",
   "execution_count": 7,
   "metadata": {},
   "outputs": [
    {
     "data": {
      "text/plain": [
       "31238"
      ]
     },
     "execution_count": 7,
     "metadata": {},
     "output_type": "execute_result"
    }
   ],
   "source": [
    "len(df)"
   ]
  },
  {
   "cell_type": "code",
   "execution_count": 8,
   "metadata": {},
   "outputs": [
    {
     "name": "stdout",
     "output_type": "stream",
     "text": [
      "29500.0 5500000.0\n"
     ]
    }
   ],
   "source": [
    "df = df[df['price'] > 0]\n",
    "\n",
    "lower_bound_price = np.percentile(df['price'], 2.5)\n",
    "upper_bound_price = np.percentile(df['price'], 97.5)\n",
    "\n",
    "df = df[df['price'].between(lower_bound_price, upper_bound_price)]\n",
    "\n",
    "print(lower_bound_price, upper_bound_price)"
   ]
  },
  {
   "cell_type": "markdown",
   "metadata": {},
   "source": [
    "# Create price_log feature"
   ]
  },
  {
   "cell_type": "code",
   "execution_count": 9,
   "metadata": {},
   "outputs": [],
   "source": [
    "df['price_log'] = np.log(df['price'])"
   ]
  },
  {
   "cell_type": "markdown",
   "metadata": {},
   "source": [
    "# Homologate SquareFoot and Acre to mt3 and transform to log"
   ]
  },
  {
   "cell_type": "code",
   "execution_count": 10,
   "metadata": {},
   "outputs": [],
   "source": [
    "df = transform_area_units(df)"
   ]
  },
  {
   "cell_type": "markdown",
   "metadata": {},
   "source": [
    "# Clean outliers and recategorize"
   ]
  },
  {
   "cell_type": "code",
   "execution_count": 11,
   "metadata": {},
   "outputs": [],
   "source": [
    "percentiles = [i/10 for i in range(10)]"
   ]
  },
  {
   "cell_type": "markdown",
   "metadata": {},
   "source": [
    "---"
   ]
  },
  {
   "cell_type": "code",
   "execution_count": 12,
   "metadata": {},
   "outputs": [
    {
     "data": {
      "text/plain": [
       "count    29446.000000\n",
       "mean         2.621714\n",
       "std          1.945455\n",
       "min          0.000000\n",
       "0%           0.000000\n",
       "10%          0.000000\n",
       "20%          0.000000\n",
       "30%          2.000000\n",
       "40%          3.000000\n",
       "50%          3.000000\n",
       "60%          3.000000\n",
       "70%          4.000000\n",
       "80%          4.000000\n",
       "90%          4.000000\n",
       "max         99.000000\n",
       "Name: bedrooms, dtype: float64"
      ]
     },
     "metadata": {},
     "output_type": "display_data"
    },
    {
     "data": {
      "text/plain": [
       "<AxesSubplot: >"
      ]
     },
     "metadata": {},
     "output_type": "display_data"
    },
    {
     "name": "stdout",
     "output_type": "stream",
     "text": [
      "3      0.310195\n",
      "NaN    0.213781\n",
      "4      0.207668\n",
      "<=2    0.173810\n",
      ">=5    0.094546\n",
      "Name: bedrooms_disc, dtype: float64\n"
     ]
    },
    {
     "data": {
      "image/png": "[encoded data removed]",
      "text/plain": [
       "<Figure size 640x480 with 1 Axes>"
      ]
     },
     "metadata": {},
     "output_type": "display_data"
    }
   ],
   "source": [
    "display(df['bedrooms'].describe(percentiles=percentiles))\n",
    "display(df[df['bedrooms'].between(1,10)]['bedrooms'].hist())\n",
    "\n",
    "bedroom_conds = [\n",
    "    df['bedrooms']==0,\n",
    "    df['bedrooms']>=5,\n",
    "    df['bedrooms']==4,\n",
    "    df['bedrooms']==3,\n",
    "    df['bedrooms']<=2,\n",
    "    df['bedrooms'].isna()\n",
    "]\n",
    "\n",
    "bedroom_values = ['NaN', '>=5', '4', '3', '<=2', 'NaN']\n",
    "\n",
    "df['bedrooms_disc'] = np.select(bedroom_conds, bedroom_values)\n",
    "\n",
    "print(df['bedrooms_disc'].value_counts(normalize=True))"
   ]
  },
  {
   "cell_type": "code",
   "execution_count": 13,
   "metadata": {},
   "outputs": [
    {
     "data": {
      "text/plain": [
       "count    29446.000000\n",
       "mean         1.985057\n",
       "std          1.543169\n",
       "min          0.000000\n",
       "0%           0.000000\n",
       "10%          0.000000\n",
       "20%          0.000000\n",
       "30%          1.000000\n",
       "40%          2.000000\n",
       "50%          2.000000\n",
       "60%          2.000000\n",
       "70%          3.000000\n",
       "80%          3.000000\n",
       "90%          4.000000\n",
       "max         48.000000\n",
       "Name: bathrooms, dtype: float64"
      ]
     },
     "metadata": {},
     "output_type": "display_data"
    },
    {
     "data": {
      "text/plain": [
       "<AxesSubplot: >"
      ]
     },
     "metadata": {},
     "output_type": "display_data"
    },
    {
     "name": "stdout",
     "output_type": "stream",
     "text": [
      "2      0.310670\n",
      "3      0.241697\n",
      "NaN    0.229607\n",
      ">=4    0.112409\n",
      "1      0.105617\n",
      "Name: bathrooms_disc, dtype: float64\n"
     ]
    },
    {
     "data": {
      "image/png": "[encoded data removed]",
      "text/plain": [
       "<Figure size 640x480 with 1 Axes>"
      ]
     },
     "metadata": {},
     "output_type": "display_data"
    }
   ],
   "source": [
    "display(df['bathrooms'].describe(percentiles=percentiles))\n",
    "display(df[df['bathrooms'].between(1,10)]['bathrooms'].hist())\n",
    "\n",
    "bathroom_conds = [\n",
    "    df['bathrooms']>=4,\n",
    "    df['bathrooms']==3,\n",
    "    df['bathrooms']==2,\n",
    "    df['bathrooms']==1,\n",
    "    df['bathrooms']==0,\n",
    "    df['bathrooms'].isna()\n",
    "]\n",
    "\n",
    "bathroom_values = ['>=4', '3', '2', '1', 'NaN', 'NaN']\n",
    "\n",
    "df['bathrooms_disc'] = np.select(bathroom_conds, bathroom_values)\n",
    "\n",
    "print(df['bathrooms_disc'].value_counts(normalize=True))"
   ]
  },
  {
   "cell_type": "code",
   "execution_count": 14,
   "metadata": {},
   "outputs": [
    {
     "data": {
      "text/plain": [
       "count    24393.000000\n",
       "mean      1973.102611\n",
       "std         93.482050\n",
       "min       1850.000000\n",
       "0%        1850.000000\n",
       "10%       1930.000000\n",
       "20%       1950.000000\n",
       "30%       1957.000000\n",
       "40%       1965.000000\n",
       "50%       1975.000000\n",
       "60%       1982.000000\n",
       "70%       1989.000000\n",
       "80%       2000.000000\n",
       "90%       2007.000000\n",
       "max       9999.000000\n",
       "Name: yearBuilt, dtype: float64"
      ]
     },
     "metadata": {},
     "output_type": "display_data"
    },
    {
     "data": {
      "text/plain": [
       "<AxesSubplot: >"
      ]
     },
     "metadata": {},
     "output_type": "display_data"
    },
    {
     "name": "stdout",
     "output_type": "stream",
     "text": [
      "1975-2000    7450\n",
      "1950-1975    7075\n",
      "NaN          5056\n",
      "1925-1950    3511\n",
      "2000-2010    2874\n",
      ">2010        1753\n",
      "<1925        1727\n",
      "Name: yearBuilt_disc, dtype: int64\n"
     ]
    },
    {
     "data": {
      "image/png": "[encoded data removed]",
      "text/plain": [
       "<Figure size 640x480 with 1 Axes>"
      ]
     },
     "metadata": {},
     "output_type": "display_data"
    }
   ],
   "source": [
    "display(df[df['yearBuilt']!=0]['yearBuilt'].describe(percentiles=percentiles))\n",
    "display(df[df['yearBuilt'].between(1800,2024)]['yearBuilt'].hist())\n",
    "\n",
    "yearBuilt_conds = [\n",
    "    df['yearBuilt']==9999,\n",
    "    df['yearBuilt']==0,\n",
    "    df['yearBuilt']<1925,\n",
    "    df['yearBuilt']<=1950,\n",
    "    df['yearBuilt']<=1975,\n",
    "    df['yearBuilt']<=2000,\n",
    "    df['yearBuilt']<=2010,\n",
    "    df['yearBuilt']>2010,\n",
    "    df['yearBuilt'].isna()\n",
    "]\n",
    "\n",
    "yearBuilt_values = ['NaN', 'NaN', '<1925', '1925-1950', '1950-1975', '1975-2000', '2000-2010', '>2010', 'NaN']\n",
    "\n",
    "df['yearBuilt_disc'] = np.select(yearBuilt_conds, yearBuilt_values)\n",
    "\n",
    "print(df['yearBuilt_disc'].value_counts())\n",
    "\n",
    "df['yearBuilt'] = np.where(\n",
    "    df['yearBuilt'].between(1850, 2024)==False, \n",
    "    0,\n",
    "    df['yearBuilt']\n",
    "    )"
   ]
  },
  {
   "cell_type": "code",
   "execution_count": 15,
   "metadata": {},
   "outputs": [],
   "source": [
    "df['garageSpaces'] = np.where(\n",
    "    df['garageSpaces']>4,\n",
    "    4,\n",
    "    df['garageSpaces']\n",
    "    )"
   ]
  },
  {
   "cell_type": "markdown",
   "metadata": {},
   "source": []
  },
  {
   "cell_type": "markdown",
   "metadata": {},
   "source": [
    "---\n",
    "\n",
    "# Map discretized features"
   ]
  },
  {
   "cell_type": "code",
   "execution_count": 16,
   "metadata": {},
   "outputs": [],
   "source": [
    "mapping_yearBuilt = {'NaN': -1, '<1925': 1, '1925-1950': 2, '1950-1975': 3, '1975-2000': 4, '2000-2010': 5, '>2010': 6}\n",
    "df['mapped_yearBuilt'] = df['yearBuilt'].map(mapping_yearBuilt)\n",
    "\n",
    "mapping_bathrooms = {'NaN': -1, '1': 1, '2': 2, '3': 3, '>=4': 4}\n",
    "df['mapped_bathrooms'] = df['bathrooms'].map(mapping_bathrooms)\n",
    "\n",
    "mapping_bedrooms = {'NaN': -1, '<=2': 1, '3': 3, '4': 4, '>=5': 5}\n",
    "df['mapped_bedrooms'] = df['bedrooms'].map(mapping_bedrooms)"
   ]
  },
  {
   "cell_type": "code",
   "execution_count": 17,
   "metadata": {},
   "outputs": [],
   "source": [
    "def map_levels(levels):\n",
    "  \"\"\"\n",
    "  Maps the categories of the \"levels\" feature to '0', '1', '2', and '>=3'.\n",
    "\n",
    "  Args:\n",
    "    levels: An array of strings with the categories of the \"levels\" feature.\n",
    "\n",
    "  Returns:\n",
    "    An array of strings with the mapped categories.\n",
    "  \"\"\"\n",
    "\n",
    "  mapper = {\n",
    "      \"0\": \"0\",\n",
    "      \"One Story\": \"1\",\n",
    "      \"Two Story\": \"2\",\n",
    "      \"One\": \"1\",  # Consider merging with \"One Story\"\n",
    "      \"Three Or More\": \">=3\",\n",
    "      \"Two\": \"2\",  # Consider merging with \"Two Story\"\n",
    "      \"Multi/Split\": \">=3\",\n",
    "      \"One-Two\": \"1\",  # Consider merging with \"One\" or \"Two\"\n",
    "      \"Three\": \">=3\",\n",
    "      \"Tri-Level\": \">=3\",\n",
    "      \"Three Or More-Multi/Split\": \">=3\",\n",
    "      \"Four\": \">=3\",\n",
    "      \"One Story-Three Or More\": \">=3\",\n",
    "      \"One Story-One\": \"1\",  # Consider merging with \"One Story\"\n",
    "      \"Three or More Stories\": \">=3\",\n",
    "      \"Two-Multi/Split\": \">=3\",\n",
    "      \"Two Story-Two\": \"2\",  # Consider merging with \"Two Story\"\n",
    "      \"Three or More Stories-Three Or More\": \">=3\",\n",
    "      \"Two Story-One\": \"2\",  # Consider merging with \"Two Story\"\n",
    "      \"Multi/Split-Tri-Level\": \">=3\",\n",
    "      \"Other\": \"0\",  # Keep \"Other\" category if desired\n",
    "      \"2\": \"2\",  # Consider merging with \"Two\" or \"Two Story\"\n",
    "      \"Tri-Level-Two\": \">=3\",\n",
    "      \"Three or More Stories-One\": \">=3\",\n",
    "      \"Multi/Split-Three Or More\": \">=3\",\n",
    "      \"One-Multi/Split\": \"1\",  # Consider merging with \"One\"\n",
    "      \"One-Two-Three Or More\": \">=3\",\n",
    "      \"Two Story-Three Or More\": \">=3\",\n",
    "      \"Three or More Stories-Two\": \">=3\",\n",
    "      \"One-Three Or More\": \">=3\",\n",
    "      \"1\": \"1\",  # Consider merging with \"One\" or \"One Story\"\n",
    "      \"3\": \">=3\",\n",
    "      \"Multi/Split-One\": \"1\",  # Consider merging with \"One\"\n",
    "      \"Five or More\": \">=3\",\n",
    "      \"Split Level\": \">=3\",\n",
    "      \"One-Two-Multi/Split\": \">=3\",\n",
    "      \"Three Or More-Split Level\": \">=3\",\n",
    "      \"Multi/Split-Two\": \">=3\",\n",
    "      \"Other-One\": \"1\",  # Keep \"Other\" category if desired\n",
    "      \"Two-Three Or More\": \">=3\",\n",
    "      \"One Story-Two\": \"2\",  # Consider merging with \"Two Story\"\n",
    "      \"4+\": \">=3\",\n",
    "      \"Tri-Level-Three Or More\": \">=3\",\n",
    "      \"Multi-Level\": \">=3\",\n",
    "      \"Three Or More-Two\": \">=3\",\n",
    "      \"Three or More Stories-One-Two\": \">=3\",\n",
    "      \"Two-Three Or More-Multi/Split\": \">=3\",\n",
    "      \"Two-One\": \"2\",  # Consider merging with \"Two\" or \"Two Story\"\n",
    "  }\n",
    "\n",
    "  return [mapper.get(level, level) for level in levels]"
   ]
  },
  {
   "cell_type": "code",
   "execution_count": 18,
   "metadata": {},
   "outputs": [],
   "source": [
    "df['mapped_levels'] = map_levels(df['levels'])\n",
    "\n",
    "mapping_levels = {'0': 0, '1': 1, '2': 2, '>=3': 3}\n",
    "df['mapped_levels'] = df['mapped_levels'].map(mapping_levels)"
   ]
  },
  {
   "cell_type": "code",
   "execution_count": 19,
   "metadata": {},
   "outputs": [],
   "source": [
    "df['homeType'] = np.where(df['homeType']=='APARTMENT', 'TOWNHOUSE', df['homeType'])"
   ]
  },
  {
   "cell_type": "markdown",
   "metadata": {},
   "source": [
    "# Impute hasGarage"
   ]
  },
  {
   "cell_type": "code",
   "execution_count": 20,
   "metadata": {},
   "outputs": [],
   "source": [
    "df['hasGarage'] = np.where(\n",
    "    (df['hasGarage']==0) & (df['garageSpaces']!=0),\n",
    "    1,\n",
    "    df['garageSpaces']\n",
    "    )"
   ]
  },
  {
   "cell_type": "markdown",
   "metadata": {},
   "source": [
    "# Save the dataset"
   ]
  },
  {
   "cell_type": "code",
   "execution_count": 21,
   "metadata": {},
   "outputs": [],
   "source": [
    "df.to_parquet(f'{PROCESSED_DATA_PATH}/preprocessed_dataset.parquet', index=False)"
   ]
  },
  {
   "cell_type": "code",
   "execution_count": null,
   "metadata": {},
   "outputs": [],
   "source": []
  }
 ],
 "metadata": {
  "kernelspec": {
   "display_name": "venv",
   "language": "python",
   "name": "python3"
  },
  "language_info": {
   "codemirror_mode": {
    "name": "ipython",
    "version": 3
   },
   "file_extension": ".py",
   "mimetype": "text/x-python",
   "name": "python",
   "nbconvert_exporter": "python",
   "pygments_lexer": "ipython3",
   "version": "3.10.12"
  }
 },
 "nbformat": 4,
 "nbformat_minor": 2
}
